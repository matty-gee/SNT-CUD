{
 "cells": [
  {
   "cell_type": "code",
   "execution_count": 8,
   "metadata": {
    "jupyter": {
     "source_hidden": true
    },
    "tags": []
   },
   "outputs": [],
   "source": [
    "import sys, os\n",
    "sys.path.insert(0, '../..')\n",
    "\n",
    "from project_utils import *\n",
    "from matrices import *\n",
    "from functional_connectivity import * \n",
    "from regression import * \n",
    "import second_level \n",
    "\n",
    "# analysis specific\n",
    "from sklearn.preprocessing import LabelEncoder\n",
    "from sklearn.model_selection import GridSearchCV, StratifiedShuffleSplit\n",
    "from sklearn.pipeline import Pipeline\n",
    "from sklearn.svm import LinearSVC\n",
    "from sklearn.dummy import DummyClassifier\n",
    "from sklearn.model_selection import GridSearchCV\n",
    "\n",
    "from nilearn import plotting\n",
    "\n",
    "import warnings\n",
    "warnings.filterwarnings(\"ignore\")\n",
    "from matplotlib.gridspec import GridSpec\n",
    "\n",
    "def get_lt_pairs(singles):\n",
    "    pairs = []\n",
    "    for i1 in range(0, len(singles) + 1):\n",
    "        for i2 in range(i1 + 1, len(singles)):\n",
    "            pairs.append([singles[i1], singles[i2]])\n",
    "    return pairs\n",
    "\n",
    "# directories\n",
    "syn_dir  = '/Volumes/synapse/projects/SocialSpace/Projects/SNT-fmri_CUD'\n",
    "lsa_dir  = syn_dir + '/Analyses/GLMs/LSA/fmriprep-rp+fd+acc_csf'\n",
    "fc_dir   = lsa_dir + '/connectivity_images'\n",
    "beh_dir  = syn_dir + '/Data/Behavior/Pmod_analyses'\n",
    "mask_dir = syn_dir + '/Masks'\n",
    "pmod_fnames = glob.glob(beh_dir + '/*pmods*')"
   ]
  },
  {
   "cell_type": "code",
   "execution_count": null,
   "metadata": {
    "jupyter": {
     "source_hidden": true
    }
   },
   "outputs": [],
   "source": [
    "coords = {'LIFG': [-45, 41, -2],\n",
    "          'RHPC_ant': [24, -36, 1], 'RHPC_mid': [24, -20, -13], 'RHPC_post':[24, -3, -27]}"
   ]
  },
  {
   "cell_type": "code",
   "execution_count": 102,
   "metadata": {
    "jupyter": {
     "source_hidden": true
    }
   },
   "outputs": [],
   "source": [
    "sub_info = pd.read_excel('../../../Info/participants_info.xlsx')\n",
    "sub_info[(sub_info['dx']=='CD') & (sub_info['incl']==1)]['sub_id'].values\n",
    "sub_info = sub_info[sub_info['incl'] == 1]\n",
    "sub_info.sort_values(by='sub_id', inplace=True)\n",
    "sub_info = sub_info.merge(df, on=['sub_id','dx'])"
   ]
  },
  {
   "cell_type": "markdown",
   "metadata": {},
   "source": [
    "# Load fMRI data"
   ]
  },
  {
   "cell_type": "code",
   "execution_count": null,
   "metadata": {
    "jupyter": {
     "source_hidden": true
    },
    "tags": []
   },
   "outputs": [],
   "source": [
    "conn_img_dir = lsa_dir + '/func_conn/connectivity_images'\n",
    "conn_imgs = glob.glob(conn_img_dir + '/sub*')\n",
    "\n",
    "coords = [(-22,-15,-18)]\n",
    "fig, axs = plt.subplots(figsize=(10, 8), nrows=5)\n",
    "for c, conn_img in enumerate(conn_imgs[1:6]):\n",
    "    \n",
    "    display = plotting.plot_stat_map(conn_img, \n",
    "                                    threshold=0.20, vmax=1,\n",
    "                                    cut_coords=coords[0],\n",
    "                                    title='', figure=fig, axes=axs[c])\n",
    "    display.add_markers(marker_coords=coords, marker_color='black', marker_size=100)\n",
    "    plt.show()"
   ]
  },
  {
   "cell_type": "markdown",
   "metadata": {},
   "source": [
    "# CanICA\n",
    "https://nilearn.github.io/stable/auto_examples/03_connectivity/plot_compare_decomposition.html#sphx-glr-auto-examples-03-connectivity-plot-compare-decomposition-py"
   ]
  },
  {
   "cell_type": "code",
   "execution_count": null,
   "metadata": {
    "jupyter": {
     "source_hidden": true
    }
   },
   "outputs": [],
   "source": [
    "canica = CanICA(n_components=20,\n",
    "                memory=\"nilearn_cache\", memory_level=2,\n",
    "                verbose=10,\n",
    "                mask_strategy='whole-brain-template',\n",
    "                random_state=0)\n",
    "canica.fit(beta_img_fnames[0:2])\n",
    "# canica_components_img.to_filename('canica.nii.gz')\n",
    "for r in range(5):\n",
    "    display = plotting.plot_stat_map(canica.components_img_.slicer[:,:,:,r], title='')"
   ]
  },
  {
   "cell_type": "markdown",
   "metadata": {},
   "source": [
    "# Correlate w/ self-report variables"
   ]
  },
  {
   "cell_type": "code",
   "execution_count": null,
   "metadata": {
    "tags": []
   },
   "outputs": [],
   "source": [
    "[c for c in df.columns if 'mri' in c]"
   ]
  },
  {
   "cell_type": "markdown",
   "metadata": {},
   "source": [
    "#### Filter for possible interesting correlations\n",
    "- focus on regions previously found: e.g., left hippocampus, precuneus/pcc"
   ]
  },
  {
   "cell_type": "code",
   "execution_count": null,
   "metadata": {
    "tags": []
   },
   "outputs": [],
   "source": [
    "sr_corr_df = pd.DataFrame(columns=['n', 'fc_region1', 'fc_region2', 'self-report', 'pvalue', 'beta'])\n",
    "for sr_col in ['ctq_total_score_2', \n",
    "               'sni_num_ppl', 'cssa_total_mri',\n",
    "               'lsas_social_interaction_fear_subscale', \n",
    "               'coc_age_1st_use', 'coc_days_last_use', 'mri_utox___coc']:\n",
    "        \n",
    "    X_labels = [sr_col]\n",
    "                \n",
    "    if 'coc' not in sr_col: # control for diagnosis if it's not already a cocaine variable\n",
    "        X_labels.append('C(dx)')\n",
    "        X_labels.append('C(dx)*' + sr_col)\n",
    "        mask = np.isfinite(corr_df_z[sr_col])\n",
    "    else: # ensure its only CUDs\n",
    "        mask = np.isfinite(corr_df_z[sr_col]) & (corr_df_z['dx'] == 'CD')\n",
    "    n = np.sum(mask)\n",
    "                   \n",
    "    for fc_col in label_cols:\n",
    "        \n",
    "        # should also filter for the other region too\n",
    "        if 'Hippocampus' in fc_col or 'Precun' in fc_col or 'Cingulate' in fc_col: # simplify\n",
    "            \n",
    "            # to speed up, filter on bivariate correlation\n",
    "            _, cor_p = scipy.stats.pearsonr(corr_df_z[fc_col][mask], corr_df_z[sr_col][mask])\n",
    "            if cor_p < 0.05: \n",
    "\n",
    "                # add any interactions\n",
    "                res_df, ols = run_ols(X_labels, fc_col, corr_df_z[mask], covariates=['age_years', 'sex', 'asi_education'])\n",
    "                ols_p       = res_df[sr_col + '_pvalue'].values[0]\n",
    "                ols_b       = res_df[sr_col + '_beta'].values[0]\n",
    "                if ols_p < 0.005:\n",
    "                    sr_corr_df.loc[len(sr_corr_df) + 1, :] = [n, fc_col.split('_')[0], fc_col.split('_')[1], sr_col, ols_p, ols_b]\n",
    "sr_corr_df"
   ]
  },
  {
   "cell_type": "code",
   "execution_count": null,
   "metadata": {},
   "outputs": [],
   "source": []
  }
 ],
 "metadata": {
  "kernelspec": {
   "display_name": "Python 3",
   "language": "python",
   "name": "python3"
  },
  "language_info": {
   "codemirror_mode": {
    "name": "ipython",
    "version": 3
   },
   "file_extension": ".py",
   "mimetype": "text/x-python",
   "name": "python",
   "nbconvert_exporter": "python",
   "pygments_lexer": "ipython3",
   "version": "3.7.3"
  }
 },
 "nbformat": 4,
 "nbformat_minor": 4
}
