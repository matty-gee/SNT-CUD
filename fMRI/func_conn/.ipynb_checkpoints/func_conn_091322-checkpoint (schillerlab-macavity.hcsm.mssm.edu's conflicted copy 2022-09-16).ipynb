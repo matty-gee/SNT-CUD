{
 "cells": [
  {
   "cell_type": "code",
   "execution_count": 141,
   "metadata": {
    "tags": []
   },
   "outputs": [],
   "source": [
    "import sys, os\n",
    "sys.path.insert(0, '../..')\n",
    "from project_utils import *\n",
    "from matrices import *\n",
    "# display(df.head(3))\n",
    "\n",
    "from functional_connectivity import * \n",
    "\n",
    "# analysis specific\n",
    "from sklearn.preprocessing import LabelEncoder\n",
    "from sklearn.model_selection import GridSearchCV, StratifiedShuffleSplit\n",
    "from sklearn.pipeline import Pipeline\n",
    "from sklearn.svm import LinearSVC\n",
    "from sklearn.dummy import DummyClassifier\n",
    "from sklearn.model_selection import GridSearchCV\n",
    "import nibabel as nib\n",
    "from nilearn.maskers import NiftiSpheresMasker, NiftiLabelsMasker, NiftiMapsMasker, NiftiMasker\n",
    "from nilearn.connectome import ConnectivityMeasure\n",
    "from nilearn import datasets, plotting\n",
    "\n",
    "lsa_dir = '/Volumes/synapse/projects/SocialSpace/Projects/SNT-fmri_CUD/Analyses/GLMs/LSA/fmriprep-rp+fd+acc_csf'"
   ]
  },
  {
   "cell_type": "code",
   "execution_count": null,
   "metadata": {},
   "outputs": [],
   "source": [
    "# classes = LabelEncoder().fit_transform(groups)"
   ]
  },
  {
   "cell_type": "markdown",
   "metadata": {},
   "source": [
    "\n",
    "# Functional connectivity\n",
    "\n",
    "- region to region in a parcellation\n",
    "- one region (eg, hpc) to all other regions?\n"
   ]
  },
  {
   "cell_type": "markdown",
   "metadata": {},
   "source": [
    "## Load fMRI data"
   ]
  },
  {
   "cell_type": "markdown",
   "metadata": {},
   "source": [
    "### Residual images from egocentric angle models"
   ]
  },
  {
   "cell_type": "code",
   "execution_count": 2,
   "metadata": {
    "tags": []
   },
   "outputs": [],
   "source": [
    "# img_dir  = '/Volumes/synapse/projects/SocialSpace/Projects/SNT-fmri_CUD/Analyses/func_conn/contrast_images'\n",
    "# res_img  = nib.load(img_dir + '/sub-P18003_Res_4d.nii')\n",
    "# res_data = res_img.get_fdata()\n",
    "# print(f'image shape: {res_data.shape}')\n",
    "\n",
    "# TAKING FOREVER TO SUBSET IMG...\n",
    "# print(f'{len(decision_epochs)} decision timepoints defined')\n",
    "# decision_res = res_data[:, :, :, decision_epochs]\n",
    "# print(f'{len(decision_res.shape)} decision timepoints extracted')"
   ]
  },
  {
   "cell_type": "markdown",
   "metadata": {},
   "source": [
    "### Beta images from LSA models\n",
    "- regressed out motion parameters, framewise displacement, aCompCor CSF PCs for up to 50% variance, cosine basis "
   ]
  },
  {
   "cell_type": "code",
   "execution_count": 3,
   "metadata": {
    "tags": []
   },
   "outputs": [
    {
     "name": "stdout",
     "output_type": "stream",
     "text": [
      "found 75 beta images\n",
      "(97, 115, 97, 63)\n"
     ]
    }
   ],
   "source": [
    "beta_img_fnames = glob.glob(lsa_dir + '/beta_images/*beta_4d.nii')\n",
    "beta_img_fnames = sorted(beta_img_fnames)\n",
    "print(f'found {len(beta_img_fnames)} beta images')\n",
    "print(nib.load(beta_img_fnames[0]).shape)"
   ]
  },
  {
   "cell_type": "markdown",
   "metadata": {},
   "source": [
    "## Extract signals from Regions Of Interest (ROIs)"
   ]
  },
  {
   "cell_type": "code",
   "execution_count": 48,
   "metadata": {
    "tags": []
   },
   "outputs": [],
   "source": [
    "# rois = {'R-IFG': [(-45, 41, -2)], 'L-HPC':[(-22, -15, -18)]}\n",
    "# timseries = {'R-IFG':[], 'L-HPC':[]}\n",
    "# radius = 8\n",
    "# for roi_name, roi_coords in rois.items():\n",
    "#     print(roi_name)\n",
    "#     for b, beta_img in enumerate(beta_img_fnames):\n",
    "        \n",
    "#         timeseries_, _      = sphere_avg_timeseries(beta_img, roi_coords=roi_coords, radius=radius, detrend=False, standardize=False, low_pass=None, high_pass=None)\n",
    "#         timseries[roi_name].append(list(timeseries_.flatten()))\n",
    "# corr_df['R-IFG_L-HPC_corr-z'] = np.arctanh(corr_df['R-IFG_L-HPC_corr'].values)"
   ]
  },
  {
   "cell_type": "code",
   "execution_count": 51,
   "metadata": {
    "tags": []
   },
   "outputs": [],
   "source": [
    "# plt.figure(figsize=(15,5))\n",
    "# plt.plot(np.array(l_hpc_timeseries).T, linewidth=3)\n",
    "# plt.ylabel('Estimated amplitude', fontsize=18)\n",
    "# plt.xlabel('Trial', fontsize=18)\n",
    "# plt.show()\n",
    "\n",
    "# plt.figure(figsize=(15,5))\n",
    "# plt.plot(np.array(r_ifg_timeseries).T, linewidth=3)\n",
    "# plt.ylabel('Estimated amplitude', fontsize=18)\n",
    "# plt.xlabel('Trial', fontsize=18)\n",
    "# plt.show()"
   ]
  },
  {
   "cell_type": "markdown",
   "metadata": {},
   "source": [
    "## Extract signals from Atlas ROIs"
   ]
  },
  {
   "cell_type": "code",
   "execution_count": 142,
   "metadata": {
    "tags": []
   },
   "outputs": [],
   "source": [
    "# load atlases\n",
    "atlas_ho_cort        = datasets.fetch_atlas_harvard_oxford('cortl-maxprob-thr25-2mm') # lateralized cortical atlas\n",
    "atlas_ho_cort_fname  = atlas_ho_cort.maps\n",
    "atlas_ho_cort_labels = atlas_ho_cort.labels\n",
    "\n",
    "atlas_ho_sub         = datasets.fetch_atlas_harvard_oxford('sub-maxprob-thr25-2mm')\n",
    "atlas_ho_sub_fname   = atlas_ho_sub.maps\n",
    "atlas_ho_sub_labels  = atlas_ho_sub.labels\n",
    "# print(f'Atlas ROIs are located in nifti image (4D) at: {atlas_ho_sub_fname}')\n",
    "\n",
    "labels = np.array(atlas_ho_cort_labels + atlas_ho_sub_labels)\n",
    "labels = labels[labels != 'Background']"
   ]
  },
  {
   "cell_type": "code",
   "execution_count": 158,
   "metadata": {},
   "outputs": [
    {
     "data": {
      "text/plain": [
       "6786"
      ]
     },
     "execution_count": 158,
     "metadata": {},
     "output_type": "execute_result"
    }
   ],
   "source": [
    "n = len(labels)\n",
    "label_cols = []\n",
    "for li1 in range(0,n):\n",
    "    for li2 in range(li1,n):\n",
    "        if li1 != li2:\n",
    "            label_cols.append(labels[li1]+ ' & ' + labels[li2])\n",
    "len(label_cols)"
   ]
  },
  {
   "cell_type": "code",
   "execution_count": 143,
   "metadata": {
    "tags": []
   },
   "outputs": [
    {
     "name": "stdout",
     "output_type": "stream",
     "text": [
      "Loading dataframe\n"
     ]
    }
   ],
   "source": [
    "corr_fname = f'{lsa_dir}/func_conn/harvard-oxford_corr_df_n{len(beta_img_fnames)}.xlsx'\n",
    "if os.path.exists(corr_fname):\n",
    "    print('Loading dataframe')\n",
    "    corr_df = pd.read_excel(corr_fname)\n",
    "else:\n",
    "    corr_matrices = []\n",
    "    for b, beta_img in enumerate(sorted(beta_img_fnames)):\n",
    "\n",
    "        # extract timeseries\n",
    "        atlas_timeseries = []\n",
    "        for atlas_fname in [atlas_ho_cort_fname, atlas_ho_sub_fname]:\n",
    "            atlas_timeseries_, _ = atlas_labels_avg_timeseries(atlas_fname, beta_img)\n",
    "            atlas_timeseries.append(atlas_timeseries_)\n",
    "        atlas_timeseries = np.concatenate(atlas_timeseries, 1)\n",
    "\n",
    "        # compute correlation\n",
    "        corr_matrix = ConnectivityMeasure(kind='correlation').fit_transform([atlas_timeseries])[0]\n",
    "        corr_matrices.append(symm_mat_to_ut_vec(corr_matrix).reshape(1,-1))\n",
    "\n",
    "    # create corr df\n",
    "    corr_matrices = np.concatenate(corr_matrices, 0)\n",
    "    corr_df = pd.DataFrame(corr_matrices)\n",
    "    sub_ids = [f.split('sub-P')[1].split('_')[0] for f in sorted(beta_img_fnames)]\n",
    "    corr_df.insert(0, 'sub_id', sub_ids)\n",
    "    dx = [df[df['sub_id']==int(sub_id)]['dx'].values[0] for sub_id in corr_df['sub_id']]\n",
    "    corr_df.insert(1, 'dx', dx)\n",
    "    corr_df.to_excel(f'{lsa_dir}/func_conn/harvard-oxford_corr_df_n{len(corr_df)}.xlsx', index=False)"
   ]
  },
  {
   "cell_type": "code",
   "execution_count": null,
   "metadata": {},
   "outputs": [],
   "source": [
    "# probabilisatic regions of interest (ROIs) from the MSDL atlas\n",
    "# msdl_data   = datasets.fetch_atlas_msdl()\n",
    "# msdl_coords = msdl_data.region_coords\n",
    "# masker = NiftiMapsMasker(msdl_data.maps, resampling_target=\"data\", t_r=2, detrend=True,\n",
    "#                         low_pass=.1, high_pass=.01, memory='nilearn_cache', memory_level=1).fit()\n",
    "# masked_data = [masker.transform(func, confounds) for (func, confounds) in zip(development_dataset.func, development_dataset.confounds)]"
   ]
  },
  {
   "cell_type": "code",
   "execution_count": 160,
   "metadata": {
    "jupyter": {
     "source_hidden": true
    },
    "tags": []
   },
   "outputs": [
    {
     "data": {
      "text/html": [
       "<div>\n",
       "<style scoped>\n",
       "    .dataframe tbody tr th:only-of-type {\n",
       "        vertical-align: middle;\n",
       "    }\n",
       "\n",
       "    .dataframe tbody tr th {\n",
       "        vertical-align: top;\n",
       "    }\n",
       "\n",
       "    .dataframe thead th {\n",
       "        text-align: right;\n",
       "    }\n",
       "</style>\n",
       "<table border=\"1\" class=\"dataframe\">\n",
       "  <thead>\n",
       "    <tr style=\"text-align: right;\">\n",
       "      <th></th>\n",
       "      <th>sub_id</th>\n",
       "      <th>dx</th>\n",
       "      <th>Left Frontal Pole &amp; Right Frontal Pole</th>\n",
       "      <th>Left Frontal Pole &amp; Left Insular Cortex</th>\n",
       "      <th>Left Frontal Pole &amp; Right Insular Cortex</th>\n",
       "      <th>Left Frontal Pole &amp; Left Superior Frontal Gyrus</th>\n",
       "      <th>Left Frontal Pole &amp; Right Superior Frontal Gyrus</th>\n",
       "      <th>Left Frontal Pole &amp; Left Middle Frontal Gyrus</th>\n",
       "      <th>Left Frontal Pole &amp; Right Middle Frontal Gyrus</th>\n",
       "      <th>Left Frontal Pole &amp; Left Inferior Frontal Gyrus, pars triangularis</th>\n",
       "      <th>...</th>\n",
       "      <th>Right Putamen &amp; Right Pallidum</th>\n",
       "      <th>Right Putamen &amp; Right Hippocampus</th>\n",
       "      <th>Right Putamen &amp; Right Amygdala</th>\n",
       "      <th>Right Putamen &amp; Right Accumbens</th>\n",
       "      <th>Right Pallidum &amp; Right Hippocampus</th>\n",
       "      <th>Right Pallidum &amp; Right Amygdala</th>\n",
       "      <th>Right Pallidum &amp; Right Accumbens</th>\n",
       "      <th>Right Hippocampus &amp; Right Amygdala</th>\n",
       "      <th>Right Hippocampus &amp; Right Accumbens</th>\n",
       "      <th>Right Amygdala &amp; Right Accumbens</th>\n",
       "    </tr>\n",
       "  </thead>\n",
       "  <tbody>\n",
       "    <tr>\n",
       "      <th>0</th>\n",
       "      <td>18001</td>\n",
       "      <td>HC</td>\n",
       "      <td>0.456982</td>\n",
       "      <td>0.168476</td>\n",
       "      <td>0.140701</td>\n",
       "      <td>0.391822</td>\n",
       "      <td>0.206907</td>\n",
       "      <td>0.153933</td>\n",
       "      <td>0.105178</td>\n",
       "      <td>0.305383</td>\n",
       "      <td>...</td>\n",
       "      <td>0.162516</td>\n",
       "      <td>0.054566</td>\n",
       "      <td>0.152605</td>\n",
       "      <td>0.274767</td>\n",
       "      <td>0.010096</td>\n",
       "      <td>0.011392</td>\n",
       "      <td>0.020071</td>\n",
       "      <td>0.238312</td>\n",
       "      <td>0.063970</td>\n",
       "      <td>0.243789</td>\n",
       "    </tr>\n",
       "    <tr>\n",
       "      <th>1</th>\n",
       "      <td>18002</td>\n",
       "      <td>HC</td>\n",
       "      <td>0.268455</td>\n",
       "      <td>0.034792</td>\n",
       "      <td>-0.017978</td>\n",
       "      <td>0.043969</td>\n",
       "      <td>-0.017091</td>\n",
       "      <td>0.182415</td>\n",
       "      <td>-0.030112</td>\n",
       "      <td>0.116072</td>\n",
       "      <td>...</td>\n",
       "      <td>-0.001654</td>\n",
       "      <td>0.151643</td>\n",
       "      <td>0.207126</td>\n",
       "      <td>0.317224</td>\n",
       "      <td>-0.042706</td>\n",
       "      <td>-0.053053</td>\n",
       "      <td>-0.057900</td>\n",
       "      <td>0.266327</td>\n",
       "      <td>0.070884</td>\n",
       "      <td>0.174066</td>\n",
       "    </tr>\n",
       "    <tr>\n",
       "      <th>2</th>\n",
       "      <td>18003</td>\n",
       "      <td>HC</td>\n",
       "      <td>0.268017</td>\n",
       "      <td>-0.068570</td>\n",
       "      <td>-0.002320</td>\n",
       "      <td>0.286229</td>\n",
       "      <td>-0.156034</td>\n",
       "      <td>0.374333</td>\n",
       "      <td>-0.060711</td>\n",
       "      <td>0.303516</td>\n",
       "      <td>...</td>\n",
       "      <td>0.140464</td>\n",
       "      <td>0.112458</td>\n",
       "      <td>0.125698</td>\n",
       "      <td>0.351597</td>\n",
       "      <td>0.266602</td>\n",
       "      <td>0.134987</td>\n",
       "      <td>-0.002553</td>\n",
       "      <td>0.372661</td>\n",
       "      <td>0.087834</td>\n",
       "      <td>0.135491</td>\n",
       "    </tr>\n",
       "  </tbody>\n",
       "</table>\n",
       "<p>3 rows × 6788 columns</p>\n",
       "</div>"
      ],
      "text/plain": [
       "   sub_id  dx  Left Frontal Pole & Right Frontal Pole  \\\n",
       "0   18001  HC                                0.456982   \n",
       "1   18002  HC                                0.268455   \n",
       "2   18003  HC                                0.268017   \n",
       "\n",
       "   Left Frontal Pole & Left Insular Cortex  \\\n",
       "0                                 0.168476   \n",
       "1                                 0.034792   \n",
       "2                                -0.068570   \n",
       "\n",
       "   Left Frontal Pole & Right Insular Cortex  \\\n",
       "0                                  0.140701   \n",
       "1                                 -0.017978   \n",
       "2                                 -0.002320   \n",
       "\n",
       "   Left Frontal Pole & Left Superior Frontal Gyrus  \\\n",
       "0                                         0.391822   \n",
       "1                                         0.043969   \n",
       "2                                         0.286229   \n",
       "\n",
       "   Left Frontal Pole & Right Superior Frontal Gyrus  \\\n",
       "0                                          0.206907   \n",
       "1                                         -0.017091   \n",
       "2                                         -0.156034   \n",
       "\n",
       "   Left Frontal Pole & Left Middle Frontal Gyrus  \\\n",
       "0                                       0.153933   \n",
       "1                                       0.182415   \n",
       "2                                       0.374333   \n",
       "\n",
       "   Left Frontal Pole & Right Middle Frontal Gyrus  \\\n",
       "0                                        0.105178   \n",
       "1                                       -0.030112   \n",
       "2                                       -0.060711   \n",
       "\n",
       "   Left Frontal Pole & Left Inferior Frontal Gyrus, pars triangularis  ...  \\\n",
       "0                                           0.305383                   ...   \n",
       "1                                           0.116072                   ...   \n",
       "2                                           0.303516                   ...   \n",
       "\n",
       "   Right Putamen & Right Pallidum  Right Putamen & Right Hippocampus  \\\n",
       "0                        0.162516                           0.054566   \n",
       "1                       -0.001654                           0.151643   \n",
       "2                        0.140464                           0.112458   \n",
       "\n",
       "   Right Putamen & Right Amygdala  Right Putamen & Right Accumbens  \\\n",
       "0                        0.152605                         0.274767   \n",
       "1                        0.207126                         0.317224   \n",
       "2                        0.125698                         0.351597   \n",
       "\n",
       "   Right Pallidum & Right Hippocampus  Right Pallidum & Right Amygdala  \\\n",
       "0                            0.010096                         0.011392   \n",
       "1                           -0.042706                        -0.053053   \n",
       "2                            0.266602                         0.134987   \n",
       "\n",
       "   Right Pallidum & Right Accumbens  Right Hippocampus & Right Amygdala  \\\n",
       "0                          0.020071                            0.238312   \n",
       "1                         -0.057900                            0.266327   \n",
       "2                         -0.002553                            0.372661   \n",
       "\n",
       "   Right Hippocampus & Right Accumbens  Right Amygdala & Right Accumbens  \n",
       "0                             0.063970                          0.243789  \n",
       "1                             0.070884                          0.174066  \n",
       "2                             0.087834                          0.135491  \n",
       "\n",
       "[3 rows x 6788 columns]"
      ]
     },
     "execution_count": 160,
     "metadata": {},
     "output_type": "execute_result"
    }
   ],
   "source": [
    "corr_df_z = np.arctanh(corr_df.iloc[:,2:]) # fisher z transform\n",
    "corr_df_z.insert(0, 'sub_id', corr_df['sub_id'])\n",
    "corr_df_z.insert(1, 'dx', corr_df['dx'])\n",
    "corr_df_z.columns = ['sub_id', 'dx'] + label_cols\n",
    "print(corr_df_z.head(3))\n",
    "\n",
    "sub_list  = df[df['memory_mean'] > .25]['sub_id'].values\n",
    "corr_df_z = corr_df_z[corr_df_z['sub_id'].isin(sub_list)]\n",
    "hc_corrs = corr_df_z[corr_df_z['dx'] == 'HC']\n",
    "cd_corrs = corr_df_z[corr_df_z['dx'] == 'CD']\n",
    "\n",
    "correlation_matrix = ut_vec_to_symm_mat(np.mean(hc_corrs.iloc[:,2:], 0))\n",
    "plotting.plot_matrix(correlation_matrix, figure=(13, 10.5), labels=labels,\n",
    "                     vmax=0.8, vmin=-0.8, #title=\"Confounds\",\n",
    "                     reorder=True)\n",
    "plt.show()"
   ]
  },
  {
   "cell_type": "markdown",
   "metadata": {
    "tags": []
   },
   "source": [
    "## Seed to voxel "
   ]
  },
  {
   "cell_type": "code",
   "execution_count": 173,
   "metadata": {
    "collapsed": true,
    "jupyter": {
     "outputs_hidden": true,
     "source_hidden": true
    },
    "tags": []
   },
   "outputs": [
    {
     "name": "stderr",
     "output_type": "stream",
     "text": [
      "/Users/matthew/opt/anaconda3/lib/python3.9/site-packages/nilearn/plotting/img_plotting.py:348: FutureWarning: Default resolution of the MNI template will change from 2mm to 1mm in version 0.10.0\n",
      "  anat_img = load_mni152_template()\n"
     ]
    },
    {
     "data": {
      "image/png": "[encoded data removed]",
      "text/plain": [
       "<Figure size 1000x800 with 9 Axes>"
      ]
     },
     "metadata": {},
     "output_type": "display_data"
    }
   ],
   "source": [
    "conn_img_dir = lsa_dir + '/func_conn/connectivity_images'\n",
    "conn_imgs = glob.glob(conn_img_dir + '/sub*')\n",
    "\n",
    "coords = [(-22,-15,-18)]\n",
    "fig, axs = plt.subplots(figsize=(10, 8), nrows=5)\n",
    "for c, conn_img in enumerate(conn_imgs[1:6]):\n",
    "    \n",
    "    display = plotting.plot_stat_map(conn_img, \n",
    "                                    threshold=0.20, vmax=1,\n",
    "                                    cut_coords=coords[0],\n",
    "                                    title='', figure=fig, axes=axs[c])\n",
    "    display.add_markers(marker_coords=coords, marker_color='black', marker_size=100)\n",
    "    plt.show()"
   ]
  },
  {
   "cell_type": "markdown",
   "metadata": {},
   "source": [
    "## CanICA\n",
    "https://nilearn.github.io/stable/auto_examples/03_connectivity/plot_compare_decomposition.html#sphx-glr-auto-examples-03-connectivity-plot-compare-decomposition-py"
   ]
  },
  {
   "cell_type": "code",
   "execution_count": null,
   "metadata": {
    "collapsed": true,
    "jupyter": {
     "outputs_hidden": true
    },
    "tags": []
   },
   "outputs": [
    {
     "name": "stdout",
     "output_type": "stream",
     "text": [
      "[MultiNiftiMasker.fit] Loading data from [/Volumes/synapse/projects/SocialSpace/Projects/SNT-fmri_CUD/Analyses/GLMs/LSA/fmriprep-rp+fd+acc_csf/beta_images/sub-P18001_beta_4d.nii,\n",
      " /Volumes/synapse/projects/SocialSpace/Projects/SNT-fmri_CUD/Analyses/GLMs/LSA/fmriprep-rp+fd+acc_csf/beta_images/sub-P18002_beta_4d.nii,\n",
      " /Volumes/synapse/projects/SocialSpace/Projects/SNT-fmri_CUD/Analyses/GLMs/LSA/fmriprep-rp+fd+acc_csf/beta_images/sub-P18003_beta_4d.nii,\n",
      " /Volumes/synapse/projects/SocialSpace/Projects/SNT-fmri_CUD/Analyses/GLMs/LSA/fmriprep-rp+fd+acc_csf/beta_images/sub-P18004_beta_4d.nii,\n",
      " /Volumes/synapse/projects/SocialSpace/Projects/SNT-fmri_CUD/Analyses/GLMs/LSA/fmriprep-rp+fd+acc_csf/beta_images/sub-P18005_beta_4d.nii,\n",
      " /Volumes/synapse/projects/SocialSpace/Projects/SNT-fmri_CUD/Analyses/GLMs/LSA/fmriprep-rp+fd+acc_csf/beta_images/sub-P18006_beta_4d.nii,\n",
      " /Volumes/synapse/projects/SocialSpace/Projects/SNT-fmri_CUD/Analyses/GLMs/LSA/fmriprep-rp+fd+acc_csf/beta_images/sub-P18007_beta_4d.nii,\n",
      " /Volumes/synapse/projects/SocialSpace/Projects/SNT-fmri_CUD/Analyses/GLMs/LSA/fmriprep-rp+fd+acc_csf/beta_images/sub-P18009_beta_4d.nii,\n",
      " /Volumes/synapse/projects/SocialSpace/Projects/SNT-fmri_CUD/Analyses/GLMs/LSA/fmriprep-rp+fd+acc_csf/beta_images/sub-P18010_beta_4d.nii,\n",
      " /Volumes/synapse/projects/SocialSpace/Projects/SNT-fmri_CUD/Analyses/GLMs/LSA/fmriprep-rp+fd+acc_csf/beta_images/sub-P18011_beta_4d.nii,\n",
      " /Volumes/synapse/projects/SocialSpace/Projects/SNT-fmri_CUD/Analyses/GLMs/LSA/fmriprep-rp+fd+acc_csf/beta_images/sub-P18013_beta_4d.nii,\n",
      " /Volumes/synapse/projects/SocialSpace/Projects/SNT-fmri_CUD/Analyses/GLMs/LSA/fmriprep-rp+fd+acc_csf/beta_images/sub-P18015_beta_4d.nii,\n",
      " /Volumes/synapse/projects/SocialSpace/Projects/SNT-fmri_CUD/Analyses/GLMs/LSA/fmriprep-rp+fd+acc_csf/beta_images/sub-P18017_beta_4d.nii,\n",
      " /Volumes/synapse/projects/SocialSpace/Projects/SNT-fmri_CUD/Analyses/GLMs/LSA/fmriprep-rp+fd+acc_csf/beta_images/sub-P19002_beta_4d.nii,\n",
      " /Volumes/synapse/projects/SocialSpace/Projects/SNT-fmri_CUD/Analyses/GLMs/LSA/fmriprep-rp+fd+acc_csf/beta_images/sub-P19003_beta_4d.nii,\n",
      " /Volumes/synapse/projects/SocialSpace/Projects/SNT-fmri_CUD/Analyses/GLMs/LSA/fmriprep-rp+fd+acc_csf/beta_images/sub-P19004_beta_4d.nii,\n",
      " /Volumes/synapse/projects/SocialSpace/Projects/SNT-fmri_CUD/Analyses/GLMs/LSA/fmriprep-rp+fd+acc_csf/beta_images/sub-P19005_beta_4d.nii,\n",
      " /Volumes/synapse/projects/SocialSpace/Projects/SNT-fmri_CUD/Analyses/GLMs/LSA/fmriprep-rp+fd+acc_csf/beta_images/sub-P19007_beta_4d.nii,\n",
      " /Volumes/synapse/projects/SocialSpace/Projects/SNT-fmri_CUD/Analyses/GLMs/LSA/fmriprep-rp+fd+acc_csf/beta_images/sub-P19008_beta_4d.nii,\n",
      " /Volumes/synapse/projects/SocialSpace/Projects/SNT-fmri_CUD/Analyses/GLMs/LSA/fmriprep-rp+fd+acc_csf/beta_images/sub-P19009_beta_4d.nii,\n",
      " /Volumes/synapse/projects/SocialSpace/Projects/SNT-fmri_CUD/Analyses/GLMs/LSA/fmriprep-rp+fd+acc_csf/beta_images/sub-P19012_beta_4d.nii,\n",
      " /Volumes/synapse/projects/SocialSpace/Projects/SNT-fmri_CUD/Analyses/GLMs/LSA/fmriprep-rp+fd+acc_csf/beta_images/sub-P19014_beta_4d.nii,\n",
      " /Volumes/synapse/projects/SocialSpace/Projects/SNT-fmri_CUD/Analyses/GLMs/LSA/fmriprep-rp+fd+acc_csf/beta_images/sub-P19016_beta_4d.nii,\n",
      " /Volumes/synapse/projects/SocialSpace/Projects/SNT-fmri_CUD/Analyses/GLMs/LSA/fmriprep-rp+fd+acc_csf/beta_images/sub-P19017_beta_4d.nii,\n",
      " /Volumes/synapse/projects/SocialSpace/Projects/SNT-fmri_CUD/Analyses/GLMs/LSA/fmriprep-rp+fd+acc_csf/beta_images/sub-P19020_beta_4d.nii,\n",
      " /Volumes/synapse/projects/SocialSpace/Projects/SNT-fmri_CUD/Analyses/GLMs/LSA/fmriprep-rp+fd+acc_csf/beta_images/sub-P19024_beta_4d.nii,\n",
      " /Volumes/synapse/projects/SocialSpace/Projects/SNT-fmri_CUD/Analyses/GLMs/LSA/fmriprep-rp+fd+acc_csf/beta_images/sub-P19025_beta_4d.nii,\n",
      " /Volumes/synapse/projects/SocialSpace/Projects/SNT-fmri_CUD/Analyses/GLMs/LSA/fmriprep-rp+fd+acc_csf/beta_images/sub-P19027_beta_4d.nii,\n",
      " /Volumes/synapse/projects/SocialSpace/Projects/SNT-fmri_CUD/Analyses/GLMs/LSA/fmriprep-rp+fd+acc_csf/beta_images/sub-P19028_beta_4d.nii,\n",
      " /Volumes/synapse/projects/SocialSpace/Projects/SNT-fmri_CUD/Analyses/GLMs/LSA/fmriprep-rp+fd+acc_csf/beta_images/sub-P19030_beta_4d.nii,\n",
      " /Volumes/synapse/projects/SocialSpace/Projects/SNT-fmri_CUD/Analyses/GLMs/LSA/fmriprep-rp+fd+acc_csf/beta_images/sub-P19031_beta_4d.nii,\n",
      " /Volumes/synapse/projects/SocialSpace/Projects/SNT-fmri_CUD/Analyses/GLMs/LSA/fmriprep-rp+fd+acc_csf/beta_images/sub-P19032_beta_4d.nii,\n",
      " /Volumes/synapse/projects/SocialSpace/Projects/SNT-fmri_CUD/Analyses/GLMs/LSA/fmriprep-rp+fd+acc_csf/beta_images/sub-P19033_beta_4d.nii,\n",
      " /Volumes/synapse/projects/SocialSpace/Projects/SNT-fmri_CUD/Analyses/GLMs/LSA/fmriprep-rp+fd+acc_csf/beta_images/sub-P19035_beta_4d.nii,\n",
      " /Volumes/synapse/projects/SocialSpace/Projects/SNT-fmri_CUD/Analyses/GLMs/LSA/fmriprep-rp+fd+acc_csf/beta_images/sub-P19037_beta_4d.nii,\n",
      " /Volumes/synapse/projects/SocialSpace/Projects/SNT-fmri_CUD/Analyses/GLMs/LSA/fmriprep-rp+fd+acc_csf/beta_images/sub-P19041_beta_4d.nii,\n",
      " /Volumes/synapse/projects/SocialSpace/Projects/SNT-fmri_CUD/Analyses/GLMs/LSA/fmriprep-rp+fd+acc_csf/beta_images/sub-P19042_beta_4d.nii,\n",
      " /Volumes/synapse/projects/SocialSpace/Projects/SNT-fmri_CUD/Analyses/GLMs/LSA/fmriprep-rp+fd+acc_csf/beta_images/sub-P19045_beta_4d.nii,\n",
      " /Volumes/synapse/projects/SocialSpace/Projects/SNT-fmri_CUD/Analyses/GLMs/LSA/fmriprep-rp+fd+acc_csf/beta_images/sub-P19047_beta_4d.nii,\n",
      " /Volumes/synapse/projects/SocialSpace/Projects/SNT-fmri_CUD/Analyses/GLMs/LSA/fmriprep-rp+fd+acc_csf/beta_images/sub-P19048_beta_4d.nii,\n",
      " /Volumes/synapse/projects/SocialSpace/Projects/SNT-fmri_CUD/Analyses/GLMs/LSA/fmriprep-rp+fd+acc_csf/beta_images/sub-P19051_beta_4d.nii,\n",
      " /Volumes/synapse/projects/SocialSpace/Projects/SNT-fmri_CUD/Analyses/GLMs/LSA/fmriprep-rp+fd+acc_csf/beta_images/sub-P19052_beta_4d.nii,\n",
      " /Volumes/synapse/projects/SocialSpace/Projects/SNT-fmri_CUD/Analyses/GLMs/LSA/fmriprep-rp+fd+acc_csf/beta_images/sub-P19053_beta_4d.nii,\n",
      " /Volumes/synapse/projects/SocialSpace/Projects/SNT-fmri_CUD/Analyses/GLMs/LSA/fmriprep-rp+fd+acc_csf/beta_images/sub-P19054_beta_4d.nii,\n",
      " /Volumes/synapse/projects/SocialSpace/Projects/SNT-fmri_CUD/Analyses/GLMs/LSA/fmriprep-rp+fd+acc_csf/beta_images/sub-P19056_beta_4d.nii,\n",
      " /Volumes/synapse/projects/SocialSpace/Projects/SNT-fmri_CUD/Analyses/GLMs/LSA/fmriprep-rp+fd+acc_csf/beta_images/sub-P19057_beta_4d.nii,\n",
      " /Volumes/synapse/projects/SocialSpace/Projects/SNT-fmri_CUD/Analyses/GLMs/LSA/fmriprep-rp+fd+acc_csf/beta_images/sub-P19059_beta_4d.nii,\n",
      " /Volumes/synapse/projects/SocialSpace/Projects/SNT-fmri_CUD/Analyses/GLMs/LSA/fmriprep-rp+fd+acc_csf/beta_images/sub-P19060_beta_4d.nii,\n",
      " /Volumes/synapse/projects/SocialSpace/Projects/SNT-fmri_CUD/Analyses/GLMs/LSA/fmriprep-rp+fd+acc_csf/beta_images/sub-P19061_beta_4d.nii,\n",
      " /Volumes/synapse/projects/SocialSpace/Projects/SNT-fmri_CUD/Analyses/GLMs/LSA/fmriprep-rp+fd+acc_csf/beta_images/sub-P20001_beta_4d.nii,\n",
      " /Volumes/synapse/projects/SocialSpace/Projects/SNT-fmri_CUD/Analyses/GLMs/LSA/fmriprep-rp+fd+acc_csf/beta_images/sub-P20002_beta_4d.nii,\n",
      " /Volumes/synapse/projects/SocialSpace/Projects/SNT-fmri_CUD/Analyses/GLMs/LSA/fmriprep-rp+fd+acc_csf/beta_images/sub-P20003_beta_4d.nii,\n",
      " /Volumes/synapse/projects/SocialSpace/Projects/SNT-fmri_CUD/Analyses/GLMs/LSA/fmriprep-rp+fd+acc_csf/beta_images/sub-P20004_beta_4d.nii,\n",
      " /Volumes/synapse/projects/SocialSpace/Projects/SNT-fmri_CUD/Analyses/GLMs/LSA/fmriprep-rp+fd+acc_csf/beta_images/sub-P20005_beta_4d.nii,\n",
      " /Volumes/synapse/projects/SocialSpace/Projects/SNT-fmri_CUD/Analyses/GLMs/LSA/fmriprep-rp+fd+acc_csf/beta_images/sub-P20006_beta_4d.nii,\n",
      " /Volumes/synapse/projects/SocialSpace/Projects/SNT-fmri_CUD/Analyses/GLMs/LSA/fmriprep-rp+fd+acc_csf/beta_images/sub-P20007_beta_4d.nii,\n",
      " /Volumes/synapse/projects/SocialSpace/Projects/SNT-fmri_CUD/Analyses/GLMs/LSA/fmriprep-rp+fd+acc_csf/beta_images/sub-P20008_beta_4d.nii,\n",
      " /Volumes/synapse/projects/SocialSpace/Projects/SNT-fmri_CUD/Analyses/GLMs/LSA/fmriprep-rp+fd+acc_csf/beta_images/sub-P20009_beta_4d.nii,\n",
      " /Volumes/synapse/projects/SocialSpace/Projects/SNT-fmri_CUD/Analyses/GLMs/LSA/fmriprep-rp+fd+acc_csf/beta_images/sub-P20010_beta_4d.nii,\n",
      " /Volumes/synapse/projects/SocialSpace/Projects/SNT-fmri_CUD/Analyses/GLMs/LSA/fmriprep-rp+fd+acc_csf/beta_images/sub-P21002_beta_4d.nii,\n",
      " /Volumes/synapse/projects/SocialSpace/Projects/SNT-fmri_CUD/Analyses/GLMs/LSA/fmriprep-rp+fd+acc_csf/beta_images/sub-P21003_beta_4d.nii,\n",
      " /Volumes/synapse/projects/SocialSpace/Projects/SNT-fmri_CUD/Analyses/GLMs/LSA/fmriprep-rp+fd+acc_csf/beta_images/sub-P21004_beta_4d.nii,\n",
      " /Volumes/synapse/projects/SocialSpace/Projects/SNT-fmri_CUD/Analyses/GLMs/LSA/fmriprep-rp+fd+acc_csf/beta_images/sub-P21008_beta_4d.nii,\n",
      " /Volumes/synapse/projects/SocialSpace/Projects/SNT-fmri_CUD/Analyses/GLMs/LSA/fmriprep-rp+fd+acc_csf/beta_images/sub-P21009_beta_4d.nii,\n",
      " /Volumes/synapse/projects/SocialSpace/Projects/SNT-fmri_CUD/Analyses/GLMs/LSA/fmriprep-rp+fd+acc_csf/beta_images/sub-P21011_beta_4d.nii,\n",
      " /Volumes/synapse/projects/SocialSpace/Projects/SNT-fmri_CUD/Analyses/GLMs/LSA/fmriprep-rp+fd+acc_csf/beta_images/sub-P21012_beta_4d.nii,\n",
      " /Volumes/synapse/projects/SocialSpace/Projects/SNT-fmri_CUD/Analyses/GLMs/LSA/fmriprep-rp+fd+acc_csf/beta_images/sub-P21013_beta_4d.nii,\n",
      " /Volumes/synapse/projects/SocialSpace/Projects/SNT-fmri_CUD/Analyses/GLMs/LSA/fmriprep-rp+fd+acc_csf/beta_images/sub-P21014_beta_4d.nii,\n",
      " /Volumes/synapse/projects/SocialSpace/Projects/SNT-fmri_CUD/Analyses/GLMs/LSA/fmriprep-rp+fd+acc_csf/beta_images/sub-P21015_beta_4d.nii,\n",
      " /Volumes/synapse/projects/SocialSpace/Projects/SNT-fmri_CUD/Analyses/GLMs/LSA/fmriprep-rp+fd+acc_csf/beta_images/sub-P21016_beta_4d.nii,\n",
      " /Volumes/synapse/projects/SocialSpace/Projects/SNT-fmri_CUD/Analyses/GLMs/LSA/fmriprep-rp+fd+acc_csf/beta_images/sub-P21020_beta_4d.nii,\n",
      " /Volumes/synapse/projects/SocialSpace/Projects/SNT-fmri_CUD/Analyses/GLMs/LSA/fmriprep-rp+fd+acc_csf/beta_images/sub-P21021_beta_4d.nii,\n",
      " /Volumes/synapse/projects/SocialSpace/Projects/SNT-fmri_CUD/Analyses/GLMs/LSA/fmriprep-rp+fd+acc_csf/beta_images/sub-P22001_beta_4d.nii,\n",
      " /Volumes/synapse/projects/SocialSpace/Projects/SNT-fmri_CUD/Analyses/GLMs/LSA/fmriprep-rp+fd+acc_csf/beta_images/sub-P22002_beta_4d.nii,\n",
      " /Volumes/synapse/projects/SocialSpace/Projects/SNT-fmri_CUD/Analyses/GLMs/LSA/fmriprep-rp+fd+acc_csf/beta_images/sub-P22004_beta_4d.nii]\n",
      "[MultiNiftiMasker.fit] Computing mask\n"
     ]
    },
    {
     "name": "stderr",
     "output_type": "stream",
     "text": [
      "/Users/matthew/opt/anaconda3/lib/python3.9/site-packages/joblib/memory.py:632: UserWarning: Cannot inspect object functools.partial(<function compute_multi_brain_mask at 0x123a964c0>, mask_type='whole-brain'), ignore list will not work.\n",
      "  return hashing.hash(filter_args(self.func, self.ignore, args, kwargs),\n"
     ]
    },
    {
     "name": "stdout",
     "output_type": "stream",
     "text": [
      "Template whole-brain mask computation\n"
     ]
    },
    {
     "name": "stderr",
     "output_type": "stream",
     "text": [
      "/Users/matthew/opt/anaconda3/lib/python3.9/site-packages/nilearn/masking.py:562: UserWarning: Persisting input arguments took 0.69s to run.\n",
      "If this happens often in your code, it can cause performance problems \n",
      "(results will be correct in all cases). \n",
      "The reason for this is probably some large input arguments for a wrapped\n",
      " function (e.g. large strings).\n",
      "THIS IS A JOBLIB ISSUE. If you can, kindly provide the joblib's team with an\n",
      " example so that they can fix the problem.\n",
      "  resampled_template = cache(resampling.resample_to_img, memory)(\n",
      "/Users/matthew/opt/anaconda3/lib/python3.9/site-packages/joblib/memory.py:810: UserWarning: Cannot inspect object functools.partial(<function compute_multi_brain_mask at 0x123a964c0>, mask_type='whole-brain'), ignore list will not work.\n",
      "  argument_dict = filter_args(self.func, self.ignore,\n",
      "/Users/matthew/opt/anaconda3/lib/python3.9/site-packages/joblib/memory.py:632: UserWarning: Cannot inspect object functools.partial(<function compute_multi_brain_mask at 0x123a964c0>, mask_type='whole-brain'), ignore list will not work.\n",
      "  return hashing.hash(filter_args(self.func, self.ignore, args, kwargs),\n"
     ]
    },
    {
     "name": "stdout",
     "output_type": "stream",
     "text": [
      "[MultiNiftiMasker.transform] Resampling mask\n",
      "[CanICA] Loading data\n",
      "[MultiNiftiMasker.transform_single_imgs] Loading data from Nifti1Image('/Volumes/synapse/projects/SocialSpace/Projects/SNT-fmri_CUD/Analyses/GLMs/LSA/fmriprep-rp+fd+acc_csf/beta_images/sub-P18001_beta_4d.nii')\n",
      "[MultiNiftiMasker.transform_single_imgs] Smoothing images\n",
      "[MultiNiftiMasker.transform_single_imgs] Extracting region signals\n",
      "[MultiNiftiMasker.transform_single_imgs] Cleaning extracted signals\n",
      "[MultiNiftiMasker.transform_single_imgs] Loading data from Nifti1Image('/Volumes/synapse/projects/SocialSpace/Projects/SNT-fmri_CUD/Analyses/GLMs/LSA/fmriprep-rp+fd+acc_csf/beta_images/sub-P18002_beta_4d.nii')\n",
      "[MultiNiftiMasker.transform_single_imgs] Smoothing images\n",
      "[MultiNiftiMasker.transform_single_imgs] Extracting region signals\n",
      "[MultiNiftiMasker.transform_single_imgs] Cleaning extracted signals\n",
      "[MultiNiftiMasker.transform_single_imgs] Loading data from Nifti1Image('/Volumes/synapse/projects/SocialSpace/Projects/SNT-fmri_CUD/Analyses/GLMs/LSA/fmriprep-rp+fd+acc_csf/beta_images/sub-P18003_beta_4d.nii')\n",
      "[MultiNiftiMasker.transform_single_imgs] Smoothing images\n",
      "[MultiNiftiMasker.transform_single_imgs] Extracting region signals\n",
      "[MultiNiftiMasker.transform_single_imgs] Cleaning extracted signals\n",
      "[MultiNiftiMasker.transform_single_imgs] Loading data from Nifti1Image('/Volumes/synapse/projects/SocialSpace/Projects/SNT-fmri_CUD/Analyses/GLMs/LSA/fmriprep-rp+fd+acc_csf/beta_images/sub-P18004_beta_4d.nii')\n",
      "[MultiNiftiMasker.transform_single_imgs] Smoothing images\n",
      "[MultiNiftiMasker.transform_single_imgs] Extracting region signals\n",
      "[MultiNiftiMasker.transform_single_imgs] Cleaning extracted signals\n",
      "[MultiNiftiMasker.transform_single_imgs] Loading data from Nifti1Image('/Volumes/synapse/projects/SocialSpace/Projects/SNT-fmri_CUD/Analyses/GLMs/LSA/fmriprep-rp+fd+acc_csf/beta_images/sub-P18005_beta_4d.nii')\n",
      "[MultiNiftiMasker.transform_single_imgs] Smoothing images\n",
      "[MultiNiftiMasker.transform_single_imgs] Extracting region signals\n",
      "[MultiNiftiMasker.transform_single_imgs] Cleaning extracted signals\n",
      "[MultiNiftiMasker.transform_single_imgs] Loading data from Nifti1Image('/Volumes/synapse/projects/SocialSpace/Projects/SNT-fmri_CUD/Analyses/GLMs/LSA/fmriprep-rp+fd+acc_csf/beta_images/sub-P18006_beta_4d.nii')\n",
      "[MultiNiftiMasker.transform_single_imgs] Smoothing images\n",
      "[MultiNiftiMasker.transform_single_imgs] Extracting region signals\n",
      "[MultiNiftiMasker.transform_single_imgs] Cleaning extracted signals\n",
      "[MultiNiftiMasker.transform_single_imgs] Loading data from Nifti1Image('/Volumes/synapse/projects/SocialSpace/Projects/SNT-fmri_CUD/Analyses/GLMs/LSA/fmriprep-rp+fd+acc_csf/beta_images/sub-P18007_beta_4d.nii')\n",
      "[MultiNiftiMasker.transform_single_imgs] Smoothing images\n",
      "[MultiNiftiMasker.transform_single_imgs] Extracting region signals\n",
      "[MultiNiftiMasker.transform_single_imgs] Cleaning extracted signals\n",
      "[MultiNiftiMasker.transform_single_imgs] Loading data from Nifti1Image('/Volumes/synapse/projects/SocialSpace/Projects/SNT-fmri_CUD/Analyses/GLMs/LSA/fmriprep-rp+fd+acc_csf/beta_images/sub-P18009_beta_4d.nii')\n",
      "[MultiNiftiMasker.transform_single_imgs] Smoothing images\n",
      "[MultiNiftiMasker.transform_single_imgs] Extracting region signals\n",
      "[MultiNiftiMasker.transform_single_imgs] Cleaning extracted signals\n",
      "[MultiNiftiMasker.transform_single_imgs] Loading data from Nifti1Image('/Volumes/synapse/projects/SocialSpace/Projects/SNT-fmri_CUD/Analyses/GLMs/LSA/fmriprep-rp+fd+acc_csf/beta_images/sub-P18010_beta_4d.nii')\n",
      "[MultiNiftiMasker.transform_single_imgs] Smoothing images\n",
      "[MultiNiftiMasker.transform_single_imgs] Extracting region signals\n",
      "[MultiNiftiMasker.transform_single_imgs] Cleaning extracted signals\n",
      "[MultiNiftiMasker.transform_single_imgs] Loading data from Nifti1Image('/Volumes/synapse/projects/SocialSpace/Projects/SNT-fmri_CUD/Analyses/GLMs/LSA/fmriprep-rp+fd+acc_csf/beta_images/sub-P18011_beta_4d.nii')\n",
      "[MultiNiftiMasker.transform_single_imgs] Smoothing images\n",
      "[MultiNiftiMasker.transform_single_imgs] Extracting region signals\n",
      "[MultiNiftiMasker.transform_single_imgs] Cleaning extracted signals\n",
      "[MultiNiftiMasker.transform_single_imgs] Loading data from Nifti1Image('/Volumes/synapse/projects/SocialSpace/Projects/SNT-fmri_CUD/Analyses/GLMs/LSA/fmriprep-rp+fd+acc_csf/beta_images/sub-P18013_beta_4d.nii')\n",
      "[MultiNiftiMasker.transform_single_imgs] Smoothing images\n",
      "[MultiNiftiMasker.transform_single_imgs] Extracting region signals\n",
      "[MultiNiftiMasker.transform_single_imgs] Cleaning extracted signals\n",
      "[MultiNiftiMasker.transform_single_imgs] Loading data from Nifti1Image('/Volumes/synapse/projects/SocialSpace/Projects/SNT-fmri_CUD/Analyses/GLMs/LSA/fmriprep-rp+fd+acc_csf/beta_images/sub-P18015_beta_4d.nii')\n",
      "[MultiNiftiMasker.transform_single_imgs] Smoothing images\n",
      "[MultiNiftiMasker.transform_single_imgs] Extracting region signals\n",
      "[MultiNiftiMasker.transform_single_imgs] Cleaning extracted signals\n",
      "[MultiNiftiMasker.transform_single_imgs] Loading data from Nifti1Image('/Volumes/synapse/projects/SocialSpace/Projects/SNT-fmri_CUD/Analyses/GLMs/LSA/fmriprep-rp+fd+acc_csf/beta_images/sub-P18017_beta_4d.nii')\n",
      "[MultiNiftiMasker.transform_single_imgs] Smoothing images\n",
      "[MultiNiftiMasker.transform_single_imgs] Extracting region signals\n",
      "[MultiNiftiMasker.transform_single_imgs] Cleaning extracted signals\n",
      "[MultiNiftiMasker.transform_single_imgs] Loading data from Nifti1Image('/Volumes/synapse/projects/SocialSpace/Projects/SNT-fmri_CUD/Analyses/GLMs/LSA/fmriprep-rp+fd+acc_csf/beta_images/sub-P19002_beta_4d.nii')\n",
      "[MultiNiftiMasker.transform_single_imgs] Smoothing images\n",
      "[MultiNiftiMasker.transform_single_imgs] Extracting region signals\n",
      "[MultiNiftiMasker.transform_single_imgs] Cleaning extracted signals\n",
      "[MultiNiftiMasker.transform_single_imgs] Loading data from Nifti1Image('/Volumes/synapse/projects/SocialSpace/Projects/SNT-fmri_CUD/Analyses/GLMs/LSA/fmriprep-rp+fd+acc_csf/beta_images/sub-P19003_beta_4d.nii')\n",
      "[MultiNiftiMasker.transform_single_imgs] Smoothing images\n",
      "[MultiNiftiMasker.transform_single_imgs] Extracting region signals\n",
      "[MultiNiftiMasker.transform_single_imgs] Cleaning extracted signals\n",
      "[MultiNiftiMasker.transform_single_imgs] Loading data from Nifti1Image('/Volumes/synapse/projects/SocialSpace/Projects/SNT-fmri_CUD/Analyses/GLMs/LSA/fmriprep-rp+fd+acc_csf/beta_images/sub-P19004_beta_4d.nii')\n",
      "[MultiNiftiMasker.transform_single_imgs] Smoothing images\n",
      "[MultiNiftiMasker.transform_single_imgs] Extracting region signals\n",
      "[MultiNiftiMasker.transform_single_imgs] Cleaning extracted signals\n",
      "[MultiNiftiMasker.transform_single_imgs] Loading data from Nifti1Image('/Volumes/synapse/projects/SocialSpace/Projects/SNT-fmri_CUD/Analyses/GLMs/LSA/fmriprep-rp+fd+acc_csf/beta_images/sub-P19005_beta_4d.nii')\n",
      "[MultiNiftiMasker.transform_single_imgs] Smoothing images\n",
      "[MultiNiftiMasker.transform_single_imgs] Extracting region signals\n",
      "[MultiNiftiMasker.transform_single_imgs] Cleaning extracted signals\n",
      "[MultiNiftiMasker.transform_single_imgs] Loading data from Nifti1Image('/Volumes/synapse/projects/SocialSpace/Projects/SNT-fmri_CUD/Analyses/GLMs/LSA/fmriprep-rp+fd+acc_csf/beta_images/sub-P19007_beta_4d.nii')\n",
      "[MultiNiftiMasker.transform_single_imgs] Smoothing images\n",
      "[MultiNiftiMasker.transform_single_imgs] Extracting region signals\n",
      "[MultiNiftiMasker.transform_single_imgs] Cleaning extracted signals\n",
      "[MultiNiftiMasker.transform_single_imgs] Loading data from Nifti1Image('/Volumes/synapse/projects/SocialSpace/Projects/SNT-fmri_CUD/Analyses/GLMs/LSA/fmriprep-rp+fd+acc_csf/beta_images/sub-P19008_beta_4d.nii')\n",
      "[MultiNiftiMasker.transform_single_imgs] Smoothing images\n",
      "[MultiNiftiMasker.transform_single_imgs] Extracting region signals\n",
      "[MultiNiftiMasker.transform_single_imgs] Cleaning extracted signals\n",
      "[MultiNiftiMasker.transform_single_imgs] Loading data from Nifti1Image('/Volumes/synapse/projects/SocialSpace/Projects/SNT-fmri_CUD/Analyses/GLMs/LSA/fmriprep-rp+fd+acc_csf/beta_images/sub-P19009_beta_4d.nii')\n",
      "[MultiNiftiMasker.transform_single_imgs] Smoothing images\n",
      "[MultiNiftiMasker.transform_single_imgs] Extracting region signals\n",
      "[MultiNiftiMasker.transform_single_imgs] Cleaning extracted signals\n",
      "[MultiNiftiMasker.transform_single_imgs] Loading data from Nifti1Image('/Volumes/synapse/projects/SocialSpace/Projects/SNT-fmri_CUD/Analyses/GLMs/LSA/fmriprep-rp+fd+acc_csf/beta_images/sub-P19012_beta_4d.nii')\n",
      "[MultiNiftiMasker.transform_single_imgs] Smoothing images\n",
      "[MultiNiftiMasker.transform_single_imgs] Extracting region signals\n",
      "[MultiNiftiMasker.transform_single_imgs] Cleaning extracted signals\n",
      "[MultiNiftiMasker.transform_single_imgs] Loading data from Nifti1Image('/Volumes/synapse/projects/SocialSpace/Projects/SNT-fmri_CUD/Analyses/GLMs/LSA/fmriprep-rp+fd+acc_csf/beta_images/sub-P19014_beta_4d.nii')\n",
      "[MultiNiftiMasker.transform_single_imgs] Smoothing images\n",
      "[MultiNiftiMasker.transform_single_imgs] Extracting region signals\n",
      "[MultiNiftiMasker.transform_single_imgs] Cleaning extracted signals\n",
      "[MultiNiftiMasker.transform_single_imgs] Loading data from Nifti1Image('/Volumes/synapse/projects/SocialSpace/Projects/SNT-fmri_CUD/Analyses/GLMs/LSA/fmriprep-rp+fd+acc_csf/beta_images/sub-P19016_beta_4d.nii')\n",
      "[MultiNiftiMasker.transform_single_imgs] Smoothing images\n",
      "[MultiNiftiMasker.transform_single_imgs] Extracting region signals\n",
      "[MultiNiftiMasker.transform_single_imgs] Cleaning extracted signals\n",
      "[MultiNiftiMasker.transform_single_imgs] Loading data from Nifti1Image('/Volumes/synapse/projects/SocialSpace/Projects/SNT-fmri_CUD/Analyses/GLMs/LSA/fmriprep-rp+fd+acc_csf/beta_images/sub-P19017_beta_4d.nii')\n",
      "[MultiNiftiMasker.transform_single_imgs] Smoothing images\n",
      "[MultiNiftiMasker.transform_single_imgs] Extracting region signals\n",
      "[MultiNiftiMasker.transform_single_imgs] Cleaning extracted signals\n",
      "[MultiNiftiMasker.transform_single_imgs] Loading data from Nifti1Image('/Volumes/synapse/projects/SocialSpace/Projects/SNT-fmri_CUD/Analyses/GLMs/LSA/fmriprep-rp+fd+acc_csf/beta_images/sub-P19020_beta_4d.nii')\n",
      "[MultiNiftiMasker.transform_single_imgs] Smoothing images\n",
      "[MultiNiftiMasker.transform_single_imgs] Extracting region signals\n",
      "[MultiNiftiMasker.transform_single_imgs] Cleaning extracted signals\n",
      "[MultiNiftiMasker.transform_single_imgs] Loading data from Nifti1Image('/Volumes/synapse/projects/SocialSpace/Projects/SNT-fmri_CUD/Analyses/GLMs/LSA/fmriprep-rp+fd+acc_csf/beta_images/sub-P19024_beta_4d.nii')\n",
      "[MultiNiftiMasker.transform_single_imgs] Smoothing images\n",
      "[MultiNiftiMasker.transform_single_imgs] Extracting region signals\n",
      "[MultiNiftiMasker.transform_single_imgs] Cleaning extracted signals\n",
      "[MultiNiftiMasker.transform_single_imgs] Loading data from Nifti1Image('/Volumes/synapse/projects/SocialSpace/Projects/SNT-fmri_CUD/Analyses/GLMs/LSA/fmriprep-rp+fd+acc_csf/beta_images/sub-P19025_beta_4d.nii')\n",
      "[MultiNiftiMasker.transform_single_imgs] Smoothing images\n",
      "[MultiNiftiMasker.transform_single_imgs] Extracting region signals\n",
      "[MultiNiftiMasker.transform_single_imgs] Cleaning extracted signals\n",
      "[MultiNiftiMasker.transform_single_imgs] Loading data from Nifti1Image('/Volumes/synapse/projects/SocialSpace/Projects/SNT-fmri_CUD/Analyses/GLMs/LSA/fmriprep-rp+fd+acc_csf/beta_images/sub-P19027_beta_4d.nii')\n",
      "[MultiNiftiMasker.transform_single_imgs] Smoothing images\n",
      "[MultiNiftiMasker.transform_single_imgs] Extracting region signals\n",
      "[MultiNiftiMasker.transform_single_imgs] Cleaning extracted signals\n",
      "[MultiNiftiMasker.transform_single_imgs] Loading data from Nifti1Image('/Volumes/synapse/projects/SocialSpace/Projects/SNT-fmri_CUD/Analyses/GLMs/LSA/fmriprep-rp+fd+acc_csf/beta_images/sub-P19028_beta_4d.nii')\n",
      "[MultiNiftiMasker.transform_single_imgs] Smoothing images\n",
      "[MultiNiftiMasker.transform_single_imgs] Extracting region signals\n",
      "[MultiNiftiMasker.transform_single_imgs] Cleaning extracted signals\n",
      "[MultiNiftiMasker.transform_single_imgs] Loading data from Nifti1Image('/Volumes/synapse/projects/SocialSpace/Projects/SNT-fmri_CUD/Analyses/GLMs/LSA/fmriprep-rp+fd+acc_csf/beta_images/sub-P19030_beta_4d.nii')\n",
      "[MultiNiftiMasker.transform_single_imgs] Smoothing images\n",
      "[MultiNiftiMasker.transform_single_imgs] Extracting region signals\n",
      "[MultiNiftiMasker.transform_single_imgs] Cleaning extracted signals\n",
      "[MultiNiftiMasker.transform_single_imgs] Loading data from Nifti1Image('/Volumes/synapse/projects/SocialSpace/Projects/SNT-fmri_CUD/Analyses/GLMs/LSA/fmriprep-rp+fd+acc_csf/beta_images/sub-P19031_beta_4d.nii')\n",
      "[MultiNiftiMasker.transform_single_imgs] Smoothing images\n",
      "[MultiNiftiMasker.transform_single_imgs] Extracting region signals\n",
      "[MultiNiftiMasker.transform_single_imgs] Cleaning extracted signals\n",
      "[MultiNiftiMasker.transform_single_imgs] Loading data from Nifti1Image('/Volumes/synapse/projects/SocialSpace/Projects/SNT-fmri_CUD/Analyses/GLMs/LSA/fmriprep-rp+fd+acc_csf/beta_images/sub-P19032_beta_4d.nii')\n",
      "[MultiNiftiMasker.transform_single_imgs] Smoothing images\n",
      "[MultiNiftiMasker.transform_single_imgs] Extracting region signals\n",
      "[MultiNiftiMasker.transform_single_imgs] Cleaning extracted signals\n",
      "[MultiNiftiMasker.transform_single_imgs] Loading data from Nifti1Image('/Volumes/synapse/projects/SocialSpace/Projects/SNT-fmri_CUD/Analyses/GLMs/LSA/fmriprep-rp+fd+acc_csf/beta_images/sub-P19033_beta_4d.nii')\n",
      "[MultiNiftiMasker.transform_single_imgs] Smoothing images\n",
      "[MultiNiftiMasker.transform_single_imgs] Extracting region signals\n",
      "[MultiNiftiMasker.transform_single_imgs] Cleaning extracted signals\n",
      "[MultiNiftiMasker.transform_single_imgs] Loading data from Nifti1Image('/Volumes/synapse/projects/SocialSpace/Projects/SNT-fmri_CUD/Analyses/GLMs/LSA/fmriprep-rp+fd+acc_csf/beta_images/sub-P19035_beta_4d.nii')\n",
      "[MultiNiftiMasker.transform_single_imgs] Smoothing images\n",
      "[MultiNiftiMasker.transform_single_imgs] Extracting region signals\n",
      "[MultiNiftiMasker.transform_single_imgs] Cleaning extracted signals\n",
      "[MultiNiftiMasker.transform_single_imgs] Loading data from Nifti1Image('/Volumes/synapse/projects/SocialSpace/Projects/SNT-fmri_CUD/Analyses/GLMs/LSA/fmriprep-rp+fd+acc_csf/beta_images/sub-P19037_beta_4d.nii')\n",
      "[MultiNiftiMasker.transform_single_imgs] Smoothing images\n",
      "[MultiNiftiMasker.transform_single_imgs] Extracting region signals\n",
      "[MultiNiftiMasker.transform_single_imgs] Cleaning extracted signals\n",
      "[MultiNiftiMasker.transform_single_imgs] Loading data from Nifti1Image('/Volumes/synapse/projects/SocialSpace/Projects/SNT-fmri_CUD/Analyses/GLMs/LSA/fmriprep-rp+fd+acc_csf/beta_images/sub-P19041_beta_4d.nii')\n",
      "[MultiNiftiMasker.transform_single_imgs] Smoothing images\n",
      "[MultiNiftiMasker.transform_single_imgs] Extracting region signals\n",
      "[MultiNiftiMasker.transform_single_imgs] Cleaning extracted signals\n",
      "[MultiNiftiMasker.transform_single_imgs] Loading data from Nifti1Image('/Volumes/synapse/projects/SocialSpace/Projects/SNT-fmri_CUD/Analyses/GLMs/LSA/fmriprep-rp+fd+acc_csf/beta_images/sub-P19042_beta_4d.nii')\n",
      "[MultiNiftiMasker.transform_single_imgs] Smoothing images\n",
      "[MultiNiftiMasker.transform_single_imgs] Extracting region signals\n",
      "[MultiNiftiMasker.transform_single_imgs] Cleaning extracted signals\n",
      "[MultiNiftiMasker.transform_single_imgs] Loading data from Nifti1Image('/Volumes/synapse/projects/SocialSpace/Projects/SNT-fmri_CUD/Analyses/GLMs/LSA/fmriprep-rp+fd+acc_csf/beta_images/sub-P19045_beta_4d.nii')\n",
      "[MultiNiftiMasker.transform_single_imgs] Smoothing images\n",
      "[MultiNiftiMasker.transform_single_imgs] Extracting region signals\n",
      "[MultiNiftiMasker.transform_single_imgs] Cleaning extracted signals\n",
      "[MultiNiftiMasker.transform_single_imgs] Loading data from Nifti1Image('/Volumes/synapse/projects/SocialSpace/Projects/SNT-fmri_CUD/Analyses/GLMs/LSA/fmriprep-rp+fd+acc_csf/beta_images/sub-P19047_beta_4d.nii')\n",
      "[MultiNiftiMasker.transform_single_imgs] Smoothing images\n",
      "[MultiNiftiMasker.transform_single_imgs] Extracting region signals\n",
      "[MultiNiftiMasker.transform_single_imgs] Cleaning extracted signals\n",
      "[MultiNiftiMasker.transform_single_imgs] Loading data from Nifti1Image('/Volumes/synapse/projects/SocialSpace/Projects/SNT-fmri_CUD/Analyses/GLMs/LSA/fmriprep-rp+fd+acc_csf/beta_images/sub-P19048_beta_4d.nii')\n",
      "[MultiNiftiMasker.transform_single_imgs] Smoothing images\n",
      "[MultiNiftiMasker.transform_single_imgs] Extracting region signals\n",
      "[MultiNiftiMasker.transform_single_imgs] Cleaning extracted signals\n",
      "[MultiNiftiMasker.transform_single_imgs] Loading data from Nifti1Image('/Volumes/synapse/projects/SocialSpace/Projects/SNT-fmri_CUD/Analyses/GLMs/LSA/fmriprep-rp+fd+acc_csf/beta_images/sub-P19051_beta_4d.nii')\n",
      "[MultiNiftiMasker.transform_single_imgs] Smoothing images\n",
      "[MultiNiftiMasker.transform_single_imgs] Extracting region signals\n",
      "[MultiNiftiMasker.transform_single_imgs] Cleaning extracted signals\n",
      "[MultiNiftiMasker.transform_single_imgs] Loading data from Nifti1Image('/Volumes/synapse/projects/SocialSpace/Projects/SNT-fmri_CUD/Analyses/GLMs/LSA/fmriprep-rp+fd+acc_csf/beta_images/sub-P19052_beta_4d.nii')\n",
      "[MultiNiftiMasker.transform_single_imgs] Smoothing images\n",
      "[MultiNiftiMasker.transform_single_imgs] Extracting region signals\n",
      "[MultiNiftiMasker.transform_single_imgs] Cleaning extracted signals\n",
      "[MultiNiftiMasker.transform_single_imgs] Loading data from Nifti1Image('/Volumes/synapse/projects/SocialSpace/Projects/SNT-fmri_CUD/Analyses/GLMs/LSA/fmriprep-rp+fd+acc_csf/beta_images/sub-P19053_beta_4d.nii')\n",
      "[MultiNiftiMasker.transform_single_imgs] Smoothing images\n",
      "[MultiNiftiMasker.transform_single_imgs] Extracting region signals\n",
      "[MultiNiftiMasker.transform_single_imgs] Cleaning extracted signals\n",
      "[MultiNiftiMasker.transform_single_imgs] Loading data from Nifti1Image('/Volumes/synapse/projects/SocialSpace/Projects/SNT-fmri_CUD/Analyses/GLMs/LSA/fmriprep-rp+fd+acc_csf/beta_images/sub-P19054_beta_4d.nii')\n",
      "[MultiNiftiMasker.transform_single_imgs] Smoothing images\n",
      "[MultiNiftiMasker.transform_single_imgs] Extracting region signals\n",
      "[MultiNiftiMasker.transform_single_imgs] Cleaning extracted signals\n",
      "[MultiNiftiMasker.transform_single_imgs] Loading data from Nifti1Image('/Volumes/synapse/projects/SocialSpace/Projects/SNT-fmri_CUD/Analyses/GLMs/LSA/fmriprep-rp+fd+acc_csf/beta_images/sub-P19056_beta_4d.nii')\n",
      "[MultiNiftiMasker.transform_single_imgs] Smoothing images\n",
      "[MultiNiftiMasker.transform_single_imgs] Extracting region signals\n",
      "[MultiNiftiMasker.transform_single_imgs] Cleaning extracted signals\n",
      "[MultiNiftiMasker.transform_single_imgs] Loading data from Nifti1Image('/Volumes/synapse/projects/SocialSpace/Projects/SNT-fmri_CUD/Analyses/GLMs/LSA/fmriprep-rp+fd+acc_csf/beta_images/sub-P19057_beta_4d.nii')\n",
      "[MultiNiftiMasker.transform_single_imgs] Smoothing images\n",
      "[MultiNiftiMasker.transform_single_imgs] Extracting region signals\n",
      "[MultiNiftiMasker.transform_single_imgs] Cleaning extracted signals\n",
      "[MultiNiftiMasker.transform_single_imgs] Loading data from Nifti1Image('/Volumes/synapse/projects/SocialSpace/Projects/SNT-fmri_CUD/Analyses/GLMs/LSA/fmriprep-rp+fd+acc_csf/beta_images/sub-P19059_beta_4d.nii')\n",
      "[MultiNiftiMasker.transform_single_imgs] Smoothing images\n",
      "[MultiNiftiMasker.transform_single_imgs] Extracting region signals\n",
      "[MultiNiftiMasker.transform_single_imgs] Cleaning extracted signals\n",
      "[MultiNiftiMasker.transform_single_imgs] Loading data from Nifti1Image('/Volumes/synapse/projects/SocialSpace/Projects/SNT-fmri_CUD/Analyses/GLMs/LSA/fmriprep-rp+fd+acc_csf/beta_images/sub-P19060_beta_4d.nii')\n",
      "[MultiNiftiMasker.transform_single_imgs] Smoothing images\n",
      "[MultiNiftiMasker.transform_single_imgs] Extracting region signals\n",
      "[MultiNiftiMasker.transform_single_imgs] Cleaning extracted signals\n",
      "[MultiNiftiMasker.transform_single_imgs] Loading data from Nifti1Image('/Volumes/synapse/projects/SocialSpace/Projects/SNT-fmri_CUD/Analyses/GLMs/LSA/fmriprep-rp+fd+acc_csf/beta_images/sub-P19061_beta_4d.nii')\n",
      "[MultiNiftiMasker.transform_single_imgs] Smoothing images\n",
      "[MultiNiftiMasker.transform_single_imgs] Extracting region signals\n",
      "[MultiNiftiMasker.transform_single_imgs] Cleaning extracted signals\n",
      "[MultiNiftiMasker.transform_single_imgs] Loading data from Nifti1Image('/Volumes/synapse/projects/SocialSpace/Projects/SNT-fmri_CUD/Analyses/GLMs/LSA/fmriprep-rp+fd+acc_csf/beta_images/sub-P20001_beta_4d.nii')\n",
      "[MultiNiftiMasker.transform_single_imgs] Smoothing images\n",
      "[MultiNiftiMasker.transform_single_imgs] Extracting region signals\n",
      "[MultiNiftiMasker.transform_single_imgs] Cleaning extracted signals\n",
      "[MultiNiftiMasker.transform_single_imgs] Loading data from Nifti1Image('/Volumes/synapse/projects/SocialSpace/Projects/SNT-fmri_CUD/Analyses/GLMs/LSA/fmriprep-rp+fd+acc_csf/beta_images/sub-P20002_beta_4d.nii')\n",
      "[MultiNiftiMasker.transform_single_imgs] Smoothing images\n",
      "[MultiNiftiMasker.transform_single_imgs] Extracting region signals\n",
      "[MultiNiftiMasker.transform_single_imgs] Cleaning extracted signals\n",
      "[MultiNiftiMasker.transform_single_imgs] Loading data from Nifti1Image('/Volumes/synapse/projects/SocialSpace/Projects/SNT-fmri_CUD/Analyses/GLMs/LSA/fmriprep-rp+fd+acc_csf/beta_images/sub-P20003_beta_4d.nii')\n",
      "[MultiNiftiMasker.transform_single_imgs] Smoothing images\n",
      "[MultiNiftiMasker.transform_single_imgs] Extracting region signals\n",
      "[MultiNiftiMasker.transform_single_imgs] Cleaning extracted signals\n",
      "[MultiNiftiMasker.transform_single_imgs] Loading data from Nifti1Image('/Volumes/synapse/projects/SocialSpace/Projects/SNT-fmri_CUD/Analyses/GLMs/LSA/fmriprep-rp+fd+acc_csf/beta_images/sub-P20004_beta_4d.nii')\n",
      "[MultiNiftiMasker.transform_single_imgs] Smoothing images\n",
      "[MultiNiftiMasker.transform_single_imgs] Extracting region signals\n",
      "[MultiNiftiMasker.transform_single_imgs] Cleaning extracted signals\n"
     ]
    }
   ],
   "source": [
    "from nilearn.decomposition import CanICA\n",
    "\n",
    "canica = CanICA(n_components=20,\n",
    "                memory=\"nilearn_cache\", memory_level=2,\n",
    "                verbose=10,\n",
    "                mask_strategy='whole-brain-template',\n",
    "                random_state=0)\n",
    "canica.fit(beta_img_fnames)\n",
    "canica_components_img = canica.components_img_ # independent components in brain space through attribute `components_img_`\n",
    "# canica_components_img.to_filename('canica.nii.gz')"
   ]
  },
  {
   "cell_type": "markdown",
   "metadata": {},
   "source": [
    "# CUD v. HC"
   ]
  },
  {
   "cell_type": "code",
   "execution_count": 165,
   "metadata": {
    "tags": []
   },
   "outputs": [
    {
     "name": "stdout",
     "output_type": "stream",
     "text": [
      "Left Middle Frontal Gyrus & Right Juxtapositional Lobule Cortex (formerly Supplementary Motor Cortex) 0.003317080649282012\n",
      "Left Middle Frontal Gyrus & Right Paracingulate Gyrus 0.0049922963178007426\n",
      "Left Middle Frontal Gyrus & Left Precuneous Cortex 0.0007298597008036602\n",
      "Left Middle Frontal Gyrus & Right Precuneous Cortex 0.0038004071054109807\n",
      "Left Inferior Frontal Gyrus, pars opercularis & Left Precuneous Cortex 0.00487489848847421\n",
      "Left Temporal Pole & Right Angular Gyrus 0.0001760842595169324\n",
      "Left Temporal Pole & Right Lateral Occipital Cortex, superior division 0.0029825125806459156\n",
      "Right Middle Temporal Gyrus, anterior division & Left Lateral Occipital Cortex, superior division 0.0019501953547421764\n",
      "Left Middle Temporal Gyrus, posterior division & Right Inferior Temporal Gyrus, temporooccipital part 0.00327552605229185\n",
      "Left Middle Temporal Gyrus, temporooccipital part & Right Inferior Temporal Gyrus, temporooccipital part 0.0040642039356953066\n",
      "Left Middle Temporal Gyrus, temporooccipital part & Right Parahippocampal Gyrus, posterior division 0.003089612477363277\n",
      "Right Inferior Temporal Gyrus, anterior division & Left Lingual Gyrus 0.0011157843423695052\n",
      "Left Supramarginal Gyrus, posterior division & Right Hippocampus 0.0012900571385122495\n",
      "Left Frontal Medial Cortex & Left Accumbens 0.004822680762464302\n",
      "Left Cingulate Gyrus, posterior division & Right Amygdala 0.003827610337948037\n",
      "Left Planum Temporale & Right Cerebral Cortex  0.001940332184756469\n",
      "Right Occipital Pole & Right Accumbens 0.003878197567261906\n"
     ]
    }
   ],
   "source": [
    "n_corrs = corr_df_z.shape[1]\n",
    "for c in np.arange(2, n_corrs):\n",
    "    t,p = scipy.stats.ttest_ind(hc.iloc[:,c].values, cd.iloc[:,c].values)\n",
    "    if p < 0.01:\n",
    "        print(corr_df_z.columns[2:][c], p)"
   ]
  },
  {
   "cell_type": "markdown",
   "metadata": {},
   "source": [
    "## ROI-based ANOVAs"
   ]
  },
  {
   "cell_type": "markdown",
   "metadata": {},
   "source": [
    "## Connectivity based classification\n",
    "https://nilearn.github.io/dev/auto_examples/07_advanced/plot_age_group_prediction_cross_val.html"
   ]
  },
  {
   "cell_type": "code",
   "execution_count": 133,
   "metadata": {
    "jupyter": {
     "source_hidden": true
    },
    "tags": []
   },
   "outputs": [],
   "source": [
    "# # prepare the classification pipeline\n",
    "# kinds = ['correlation', 'partial correlation', 'tangent']\n",
    "# pipe = Pipeline([('connectivity', ConnectivityMeasure(vectorize=True)),\n",
    "#                  ('classifier', GridSearchCV(LinearSVC(), {'C': [.1, 1., 10.]}, cv=5))])\n",
    "# param_grid = [{'classifier': [DummyClassifier(strategy='most_frequent')]},{'connectivity__kind': kinds}]"
   ]
  },
  {
   "cell_type": "code",
   "execution_count": 134,
   "metadata": {
    "jupyter": {
     "source_hidden": true
    },
    "tags": []
   },
   "outputs": [],
   "source": [
    "# cv = StratifiedShuffleSplit(n_splits=30, random_state=0, test_size=10)\n",
    "# gs = GridSearchCV(pipe, param_grid, scoring='accuracy', cv=cv, verbose=1,\n",
    "#                   refit=False, n_jobs=8)\n",
    "# gs.fit(masked_data, classes)\n",
    "# mean_scores = gs.cv_results_['mean_test_score']\n",
    "# scores_std  = gs.cv_results_['std_test_score']"
   ]
  },
  {
   "cell_type": "code",
   "execution_count": 135,
   "metadata": {
    "jupyter": {
     "source_hidden": true
    },
    "tags": []
   },
   "outputs": [],
   "source": [
    "# plt.figure(figsize=(6, 4))\n",
    "# positions = [.1, .2, .3, .4]\n",
    "# plt.barh(positions, mean_scores, align='center', height=.05, xerr=scores_std)\n",
    "# yticks = ['dummy'] + list(gs.cv_results_['param_connectivity__kind'].data[1:])\n",
    "# yticks = [t.replace(' ', '\\n') for t in yticks]\n",
    "# plt.yticks(positions, yticks)\n",
    "# plt.xlabel('Classification accuracy')\n",
    "# plt.gca().grid(True)\n",
    "# plt.gca().set_axisbelow(True)\n",
    "# plt.tight_layout()\n",
    "# plt.show()"
   ]
  },
  {
   "cell_type": "markdown",
   "metadata": {},
   "source": [
    "# CTQ"
   ]
  },
  {
   "cell_type": "code",
   "execution_count": null,
   "metadata": {},
   "outputs": [],
   "source": []
  },
  {
   "cell_type": "markdown",
   "metadata": {},
   "source": [
    "# Age at first use"
   ]
  },
  {
   "cell_type": "code",
   "execution_count": null,
   "metadata": {},
   "outputs": [],
   "source": []
  }
 ],
 "metadata": {
  "kernelspec": {
   "display_name": "Python 3 (ipykernel)",
   "language": "python",
   "name": "python3"
  },
  "language_info": {
   "codemirror_mode": {
    "name": "ipython",
    "version": 3
   },
   "file_extension": ".py",
   "mimetype": "text/x-python",
   "name": "python",
   "nbconvert_exporter": "python",
   "pygments_lexer": "ipython3",
   "version": "3.9.7"
  }
 },
 "nbformat": 4,
 "nbformat_minor": 4
}
