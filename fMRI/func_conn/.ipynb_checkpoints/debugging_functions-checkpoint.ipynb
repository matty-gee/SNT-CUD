{
 "cells": [
  {
   "cell_type": "code",
   "execution_count": null,
   "metadata": {},
   "outputs": [],
   "source": [
    "## debugging atlas\n",
    "# beta_img  = user + '/Desktop/beta_4d.nii' # subj 18002 decision... gives errors on minerva...\n",
    "\n",
    "# masks_dict = {'HO_Cortl': [nil.datasets.fetch_atlas_harvard_oxford('cortl-maxprob-thr25-2mm'), 'atlas'], # 96\n",
    "#               'HO_Sub':   [nil.datasets.fetch_atlas_harvard_oxford('sub-maxprob-thr25-2mm'), 'atlas'], # 21\n",
    "#               'Juelich':  [nil.datasets.fetch_atlas_juelich('maxprob-thr25-2mm', symmetric_split=True), 'atlas'], # 131\n",
    "#               'Shen': [load_pickle(f'{mask_dir}/Atlases/Shen_1mm_368_parcellation.pkl'), 'atlas'], # 368\n",
    "#               'Apriori_L-IFG_radius8': [[(-45, 41, -2)], 'sphere', 8], \n",
    "#               'Apriori_R-IFG_radius8': [[(51, 50, 1)], 'sphere', 8],\n",
    "#               'Apriori_L-HPC_Tavares_radius8': [[(-22, -15, -18)], 'sphere', 8],\n",
    "#               'Apriori_R-Precuneus_Tavares_radius8': [[(-14, 60, 26)], 'sphere', 8],\n",
    "#               'Apriori_L-HPC_avg_radius8': [[(-23, -26, -11)], 'sphere', 8],\n",
    "#               'Apriori_L-HPC_ant': [f'{mask_dir}/ROIs/L-HPC_ant_harvardoxford_maxprob-thr25-1mm.nii', 'roi'],\n",
    "#               'Apriori_L-HPC_post': [f'{mask_dir}/ROIs/L-HPC_post_harvardoxford_maxprob-thr25-1mm.nii', 'roi'],\n",
    "#               'Apriori_L-HPC_mid': [f'{mask_dir}/ROIs/L-HPC_mid_harvardoxford_maxprob-thr25-1mm.nii', 'roi'],\n",
    "#               'Apriori_R-HPC_ant': [f'{mask_dir}/ROIs/R-HPC_ant_harvardoxford_maxprob-thr25-1mm.nii', 'roi'],\n",
    "#               'Apriori_R-HPC_post': [f'{mask_dir}/ROIs/R-HPC_post_harvardoxford_maxprob-thr25-1mm.nii', 'roi'],\n",
    "#               'Apriori_R-HPC_mid': [f'{mask_dir}/ROIs/R-HPC_mid_harvardoxford_maxprob-thr25-1mm.nii', 'roi']}\n",
    "\n",
    "# # extract timeseries\n",
    "# timeseries_df = pd.DataFrame()\n",
    "# roi_labels    = []\n",
    "# for mask_name, mask_info in masks_dict.items():\n",
    "\n",
    "#     mask      = mask_info[0]\n",
    "#     mask_type = mask_info[1]\n",
    "\n",
    "#     # multiple regions at once\n",
    "#     if mask_type in ['atlas', 'map']: \n",
    "#         n_labels = len(np.unique(mask.maps.get_fdata()))\n",
    "#         print(f'{mask_type} {mask_name}: extracting timeseries; num labels={n_labels}') \n",
    "#             # -- it seems like adding this somehow fixed the weird mix up between atlases? WHY\n",
    "#             # -- fixed it mainly... but seemingly random errors still...\n",
    "#         timeseries, _ = fc.get_timeseries(beta_img, mask=mask.maps, mask_type=mask_type)            \n",
    "#         labels = np.array(mask_info[0].labels)\n",
    "#         if n_labels != len(labels): print(f'WARNING: label mismatch - {n_labels} != {len(labels)}')\n",
    "#         labels = [mask_name + '_' + l for l in labels[labels != 'Background']]\n",
    "\n",
    "#     # single region\n",
    "#     elif mask_type in ['sphere', 'roi']:\n",
    "#         print(f'{mask_type} {mask_name}: extracting timeseries; num labels=1')\n",
    "#         if mask_type == 'sphere':\n",
    "#             timeseries, _ = fc.get_timeseries(beta_img, mask=mask, mask_type='sphere', radius=mask_info[2])\n",
    "#         elif mask_type == 'roi':\n",
    "#             timeseries, _ = fc.get_timeseries(beta_img, mask=mask, mask_type='roi')\n",
    "#             timeseries    = np.mean(timeseries, 0).reshape(1,-1) # average across voxels\n",
    "#         labels = [mask_name]\n",
    "\n",
    "#     # print & organize\n",
    "#     print(f'{mask_type} {mask_name}: extracted timeseries w/ shape {timeseries.shape}; num labels={len(labels)}')\n",
    "#     roi_labels.extend([l.translate(str.maketrans('', '', ''.join([' ', ',', '(', ')', \"'\", '-', '/']))) for l in labels]) \n",
    "#     timeseries_df = pd.concat([timeseries_df, pd.DataFrame(timeseries)], ignore_index=True)\n",
    "\n",
    "# # output\n",
    "# timeseries_df.columns= [f'trial_{t:02d}' for t in range(1,64)]\n",
    "# timeseries_df.insert(0, 'roi', roi_labels)"
   ]
  }
 ],
 "metadata": {
  "kernelspec": {
   "display_name": "Python 3",
   "language": "python",
   "name": "python3"
  },
  "language_info": {
   "codemirror_mode": {
    "name": "ipython",
    "version": 3
   },
   "file_extension": ".py",
   "mimetype": "text/x-python",
   "name": "python",
   "nbconvert_exporter": "python",
   "pygments_lexer": "ipython3",
   "version": "3.7.3"
  }
 },
 "nbformat": 4,
 "nbformat_minor": 4
}
