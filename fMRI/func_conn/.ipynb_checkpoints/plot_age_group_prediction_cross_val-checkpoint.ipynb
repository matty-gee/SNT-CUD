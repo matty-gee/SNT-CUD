{
 "cells": [
  {
   "cell_type": "code",
   "execution_count": 2,
   "metadata": {},
   "outputs": [
    {
     "name": "stderr",
     "output_type": "stream",
     "text": [
      "//anaconda3/lib/python3.7/site-packages/pandas/compat/_optional.py:138: UserWarning: Pandas requires version '2.7.0' or newer of 'numexpr' (version '2.6.9' currently installed).\n",
      "  warnings.warn(msg, UserWarning)\n"
     ]
    }
   ],
   "source": [
    "import sys\n",
    "sys.path.insert(0, '/Users/matty_gee/Dropbox/Projects/Code/utilities')\n",
    "sys.path.insert(0, '/Users/matty_gee/Dropbox/Projects/Code/snt_behavior/preprocessing')\n",
    "sys.path.insert(0, '..') \n",
    "\n",
    "from py_standard_modules import *\n",
    "from circ_stats import *\n",
    "\n",
    "from sklearn.preprocessing import LabelEncoder\n",
    "from nilearn.maskers import NiftiMapsMasker\n",
    "from sklearn.model_selection import GridSearchCV, StratifiedShuffleSplit\n",
    "from sklearn.pipeline import Pipeline\n",
    "from nilearn.connectome import ConnectivityMeasure\n",
    "from sklearn.svm import LinearSVC\n",
    "from sklearn.dummy import DummyClassifier\n",
    "from sklearn.model_selection import GridSearchCV\n",
    "\n",
    "character_roles = ['first','second','assistant','newcomb','hayworth','neutral'] \n",
    "task_details = pd.read_excel('task_details.xlsx')\n",
    "task_details.sort_values(by='decision_num', inplace=True)\n",
    "decision_details = task_details[task_details['trial_type'] == 'Decision']"
   ]
  },
  {
   "cell_type": "code",
   "execution_count": 1,
   "metadata": {
    "collapsed": false,
    "jupyter": {
     "outputs_hidden": false
    }
   },
   "outputs": [],
   "source": [
    "%matplotlib inline"
   ]
  },
  {
   "cell_type": "code",
   "execution_count": 3,
   "metadata": {
    "collapsed": true,
    "jupyter": {
     "outputs_hidden": true
    }
   },
   "outputs": [
    {
     "name": "stdout",
     "output_type": "stream",
     "text": [
      "55.905 67.896\n",
      "71.885 83.875\n",
      "91.864 103.854\n",
      "119.819 131.809\n",
      "139.786 151.776\n",
      "161.753 173.743\n",
      "181.72 193.71\n",
      "193.711 205.701\n",
      "221.666 233.656\n",
      "245.633 257.623\n",
      "293.528 305.518\n",
      "333.459 345.449\n",
      "365.414 377.404\n",
      "385.381 397.371\n",
      "405.348 417.338\n",
      "423.315 435.305\n",
      "455.246 467.236\n",
      "479.213 491.203\n",
      "503.156 515.146\n",
      "545.051 557.041\n",
      "561.03 573.02\n",
      "584.997 596.987\n",
      "608.952 620.942\n",
      "626.931 638.921\n",
      "648.898 660.888\n",
      "666.877 678.867\n",
      "692.82 704.81\n",
      "730.763 742.753\n",
      "762.706 774.696\n",
      "814.565 826.555\n",
      "840.52 852.51\n",
      "860.487 872.477\n",
      "888.454 900.444\n",
      "904.433 916.423\n",
      "926.388 938.379\n",
      "946.356 958.346\n",
      "968.323 980.313\n",
      "988.29 1000.28\n",
      "1006.269 1018.259\n",
      "1028.236 1040.226\n",
      "1048.203 1060.193\n",
      "1064.182 1076.172\n",
      "1086.149 1098.139\n",
      "1102.128 1114.118\n",
      "1118.107 1130.097\n",
      "1138.074 1150.064\n",
      "1168.017 1180.007\n",
      "1180.008 1191.998\n",
      "1201.975 1213.965\n",
      "1225.93 1237.919\n",
      "1249.896 1261.886\n",
      "1275.863 1287.853\n",
      "1297.83 1309.82\n",
      "1323.797 1335.787\n",
      "1339.776 1351.766\n",
      "1361.755 1373.745\n",
      "1379.734 1391.724\n",
      "1395.713 1407.703\n",
      "1417.692 1429.682\n",
      "1439.659 1451.649\n",
      "1459.638 1471.628\n",
      "1479.605 1491.595\n",
      "1505.56 1517.55\n"
     ]
    }
   ],
   "source": [
    "onsets  = decision_details['onset'].values\n",
    "offsets = decision_details['offset'].values\n",
    "for on, off in zip(onsets, offsets):\n",
    "    print(on, off)"
   ]
  },
  {
   "cell_type": "markdown",
   "metadata": {},
   "source": [
    "\n",
    "# Functional connectivity\n",
    "\n",
    "This example compares different kinds of functional connectivity between\n",
    "regions of interest : correlation, partial correlation, and tangent space\n",
    "embedding.\n",
    "\n",
    "The resulting connectivity coefficients can be used to\n",
    "discriminate children from adults. In general, the tangent space embedding\n",
    "**outperforms** the standard correlations: see [Dadi et al 2019](https://www.sciencedirect.com/science/article/pii/S1053811919301594)\n",
    "for a careful study.\n",
    "\n",
    ".. include:: ../../../examples/masker_note.rst\n"
   ]
  },
  {
   "cell_type": "markdown",
   "metadata": {},
   "source": [
    "## Load fMRI dataset and MSDL atlas"
   ]
  },
  {
   "cell_type": "code",
   "execution_count": null,
   "metadata": {
    "collapsed": false,
    "jupyter": {
     "outputs_hidden": false
    }
   },
   "outputs": [],
   "source": [
    "from nilearn import datasets\n",
    "development_dataset = datasets.fetch_development_fmri(n_subjects=60)"
   ]
  },
  {
   "cell_type": "markdown",
   "metadata": {},
   "source": [
    "We use probabilistic regions of interest (ROIs) from the MSDL atlas.\n",
    "\n"
   ]
  },
  {
   "cell_type": "code",
   "execution_count": null,
   "metadata": {
    "collapsed": false,
    "jupyter": {
     "outputs_hidden": false
    }
   },
   "outputs": [],
   "source": [
    "msdl_data   = datasets.fetch_atlas_msdl()\n",
    "msdl_coords = msdl_data.region_coords\n",
    "\n",
    "masker = NiftiMapsMasker(msdl_data.maps, resampling_target=\"data\", t_r=2, detrend=True,\n",
    "                        low_pass=.1, high_pass=.01, memory='nilearn_cache', memory_level=1).fit()\n",
    "masked_data = [masker.transform(func, confounds) for (func, confounds) in zip(development_dataset.func, development_dataset.confounds)]"
   ]
  },
  {
   "cell_type": "markdown",
   "metadata": {},
   "source": [
    "## What kind of connectivity is most powerful for classification?\n",
    "we will use connectivity matrices as features to distinguish children from\n",
    "adults. We use cross-validation and measure classification accuracy to\n",
    "compare the different kinds of connectivity matrices.\n",
    "\n"
   ]
  },
  {
   "cell_type": "code",
   "execution_count": null,
   "metadata": {
    "collapsed": false,
    "jupyter": {
     "outputs_hidden": false
    }
   },
   "outputs": [],
   "source": [
    "# prepare the classification pipeline\n",
    "kinds = ['correlation', 'partial correlation', 'tangent']\n",
    "\n",
    "pipe = Pipeline(\n",
    "    [('connectivity', ConnectivityMeasure(vectorize=True)),\n",
    "     ('classifier', GridSearchCV(LinearSVC(), {'C': [.1, 1., 10.]}, cv=5))])\n",
    "\n",
    "param_grid = [\n",
    "    {'classifier': [DummyClassifier(strategy='most_frequent')]},\n",
    "    {'connectivity__kind': kinds}\n",
    "]"
   ]
  },
  {
   "cell_type": "markdown",
   "metadata": {},
   "source": [
    "We use random splits of the subjects into training/testing sets.\n",
    "StratifiedShuffleSplit allows preserving the proportion of children in the\n",
    "test set.\n",
    "\n"
   ]
  },
  {
   "cell_type": "code",
   "execution_count": null,
   "metadata": {
    "collapsed": false,
    "jupyter": {
     "outputs_hidden": false
    }
   },
   "outputs": [],
   "source": [
    "groups  = [pheno['Child_Adult'] for pheno in development_dataset.phenotypic]\n",
    "classes = LabelEncoder().fit_transform(groups)\n",
    "\n",
    "cv = StratifiedShuffleSplit(n_splits=30, random_state=0, test_size=10)\n",
    "gs = GridSearchCV(pipe, param_grid, scoring='accuracy', cv=cv, verbose=1,\n",
    "                  refit=False, n_jobs=8)\n",
    "gs.fit(masked_data, classes)\n",
    "mean_scores = gs.cv_results_['mean_test_score']\n",
    "scores_std  = gs.cv_results_['std_test_score']"
   ]
  },
  {
   "cell_type": "markdown",
   "metadata": {},
   "source": [
    "display the results\n",
    "\n"
   ]
  },
  {
   "cell_type": "code",
   "execution_count": null,
   "metadata": {
    "collapsed": false,
    "jupyter": {
     "outputs_hidden": false
    }
   },
   "outputs": [],
   "source": [
    "from matplotlib import pyplot as plt\n",
    "\n",
    "plt.figure(figsize=(6, 4))\n",
    "positions = [.1, .2, .3, .4]\n",
    "plt.barh(positions, mean_scores, align='center', height=.05, xerr=scores_std)\n",
    "yticks = ['dummy'] + list(gs.cv_results_['param_connectivity__kind'].data[1:])\n",
    "yticks = [t.replace(' ', '\\n') for t in yticks]\n",
    "plt.yticks(positions, yticks)\n",
    "plt.xlabel('Classification accuracy')\n",
    "plt.gca().grid(True)\n",
    "plt.gca().set_axisbelow(True)\n",
    "plt.tight_layout()"
   ]
  },
  {
   "cell_type": "markdown",
   "metadata": {},
   "source": [
    "This is a small example to showcase nilearn features. In practice such\n",
    "comparisons need to be performed on much larger cohorts and several\n",
    "datasets.\n",
    "[Dadi et al 2019](https://www.sciencedirect.com/science/article/pii/S1053811919301594)\n",
    "Showed that across many cohorts and clinical questions, the tangent\n",
    "kind should be preferred.\n",
    "\n"
   ]
  },
  {
   "cell_type": "code",
   "execution_count": null,
   "metadata": {
    "collapsed": false,
    "jupyter": {
     "outputs_hidden": false
    }
   },
   "outputs": [],
   "source": [
    "plt.show()"
   ]
  }
 ],
 "metadata": {
  "kernelspec": {
   "display_name": "Python 3",
   "language": "python",
   "name": "python3"
  },
  "language_info": {
   "codemirror_mode": {
    "name": "ipython",
    "version": 3
   },
   "file_extension": ".py",
   "mimetype": "text/x-python",
   "name": "python",
   "nbconvert_exporter": "python",
   "pygments_lexer": "ipython3",
   "version": "3.7.3"
  }
 },
 "nbformat": 4,
 "nbformat_minor": 4
}
