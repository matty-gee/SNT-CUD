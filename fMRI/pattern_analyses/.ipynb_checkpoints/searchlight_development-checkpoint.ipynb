{
 "cells": [
  {
   "cell_type": "code",
   "execution_count": 64,
   "metadata": {},
   "outputs": [],
   "source": [
    "import sys\n",
    "from pathlib import Path\n",
    "sys.path.insert(0, str(Path('../..')))\n",
    "from project_utils import *\n",
    "\n",
    "import nibabel as nib\n",
    "import numpy as np\n",
    "# shen_df = read_excel('/Users/matty_gee/Desktop/Shen_parcellations/Shen_368/Shen_368_labels2.xlsx')"
   ]
  },
  {
   "cell_type": "code",
   "execution_count": 6,
   "metadata": {
    "jupyter": {
     "source_hidden": true
    }
   },
   "outputs": [],
   "source": [
    "# pipeline\n",
    "\n",
    "# grab data, masks, labels\n",
    "# beta_df = get_fname_ids(beta_fnames, colname='beta_fname')\n",
    "# mask_df = get_fname_ids(mask_fnames, colname='mask_fname')\n",
    "# file_df = beta_df.merge(mask_df, on=['inclusion', 'sub_id', 'dx', 'memory_incl', 'fd_incl', 'other_incl'])\n",
    "\n",
    "# run sl\n",
    "# sl_kernel = sl_svm_multi\n",
    "# run_sl(sub_brains, sub_masks, sl_kernel, bcvar=None, other_masks=None, \n",
    "#        shape='ball', radius=3, min_prop=0.10, max_blk_edge=10)\n",
    "\n",
    "# save nifti\n",
    "#  _, vox_size, affine_matrix = get_nifti_info(sub_brains[0])\n",
    "#  sl_nifti = make_nifti(sl_result, affine_matrix, vox_size)"
   ]
  },
  {
   "cell_type": "code",
   "execution_count": 57,
   "metadata": {
    "jupyter": {
     "source_hidden": true
    }
   },
   "outputs": [],
   "source": [
    "# beta_fnames = find_files(str(beta_dir), '*beta*')\n",
    "# beta_df = get_fname_ids(beta_fnames, colname='beta_fname')\n",
    "# images  = beta_df['beta_fname'].values[0:3]\n",
    "# data    = [nib.load(f).get_data() for f in images]\n",
    "\n",
    "# # example\n",
    "# brain_data = data[0]\n",
    "# print(brain_data.shape)\n",
    "\n",
    "# sl_mask = np.zeros(data[0].shape[0:3])\n",
    "# sl_mask[30:32, 31:32, 13:14] = 1\n",
    "# print(sl_mask.shape)\n",
    "# print(np.sum(sl_mask)) # this many voxels"
   ]
  },
  {
   "cell_type": "markdown",
   "metadata": {},
   "source": [
    "# multivariate noise normalization\n",
    "https://lukas-snoek.com/NI-edu/fMRI-pattern-analysis/week_3/rsa.html"
   ]
  },
  {
   "cell_type": "code",
   "execution_count": null,
   "metadata": {},
   "outputs": [],
   "source": [
    "# square root of inv = ^(-1/2)\n",
    "from scipy.linalg import sqrtm\n",
    "D = sqrtm(np.linalg.inv(noise_cov))\n",
    "R_mnn = R @ D # dot product of patterns & whitening matrix"
   ]
  }
 ],
 "metadata": {
  "kernelspec": {
   "display_name": "Python 3",
   "language": "python",
   "name": "python3"
  },
  "language_info": {
   "codemirror_mode": {
    "name": "ipython",
    "version": 3
   },
   "file_extension": ".py",
   "mimetype": "text/x-python",
   "name": "python",
   "nbconvert_exporter": "python",
   "pygments_lexer": "ipython3",
   "version": "3.7.3"
  }
 },
 "nbformat": 4,
 "nbformat_minor": 4
}
