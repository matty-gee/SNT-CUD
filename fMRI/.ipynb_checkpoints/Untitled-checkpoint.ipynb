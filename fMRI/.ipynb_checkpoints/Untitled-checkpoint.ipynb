{
 "cells": [
  {
   "cell_type": "code",
   "execution_count": 3,
   "metadata": {},
   "outputs": [],
   "source": [
    "import sys\n",
    "sys.path.insert(0, '..')\n",
    "from project_utils import *\n",
    "\n",
    "import csv"
   ]
  },
  {
   "cell_type": "code",
   "execution_count": 6,
   "metadata": {},
   "outputs": [
    {
     "name": "stdout",
     "output_type": "stream",
     "text": [
      "found 74 confound files\n"
     ]
    }
   ],
   "source": []
  },
  {
   "cell_type": "code",
   "execution_count": 50,
   "metadata": {},
   "outputs": [],
   "source": [
    "tsv_fnames = glob.glob(f'{syn_dir}/QC/cfd_files/*.tsv')\n",
    "print(f'found {len(tsv_fnames)} confound files')\n",
    "\n",
    "cfds_      = ['framewise_displacement', 'rmsd']\n",
    "summary_df = pd.DataFrame(columns=['sub_id'] + cfds_)\n",
    "\n",
    "for f,fname in tsv_fnames:\n",
    "    print(f, end='/r')\n",
    "    with open(fname) as f: cfd_ = [r for r in csv.reader(f, delimiter=\"\\t\", quotechar='\"')] # load\n",
    "    sub_id = tsv_fnames[0].split('sub-P')[-1].split('_')[0]\n",
    "    cfd_df = pd.DataFrame(cfd_[1:], columns=cfd_[0])\n",
    "    cfd_df.replace(to_replace='n/a', value=np.nan, inplace=True)\n",
    "    cfd_df = cfd_df.astype(float)    \n",
    "    cfd_m  = np.nanmean(cfd_df.loc[:, cfds_], 0)\n",
    "    summary_df.loc[len(summary_df)+1, :] = [sub_id] + list(cfd_m)"
   ]
  },
  {
   "cell_type": "code",
   "execution_count": 51,
   "metadata": {},
   "outputs": [
    {
     "data": {
      "text/html": [
       "<div>\n",
       "<style scoped>\n",
       "    .dataframe tbody tr th:only-of-type {\n",
       "        vertical-align: middle;\n",
       "    }\n",
       "\n",
       "    .dataframe tbody tr th {\n",
       "        vertical-align: top;\n",
       "    }\n",
       "\n",
       "    .dataframe thead th {\n",
       "        text-align: right;\n",
       "    }\n",
       "</style>\n",
       "<table border=\"1\" class=\"dataframe\">\n",
       "  <thead>\n",
       "    <tr style=\"text-align: right;\">\n",
       "      <th></th>\n",
       "      <th>sub_id</th>\n",
       "      <th>framewise_displacement</th>\n",
       "      <th>rmsd</th>\n",
       "    </tr>\n",
       "  </thead>\n",
       "  <tbody>\n",
       "    <tr>\n",
       "      <th>1</th>\n",
       "      <td>19048</td>\n",
       "      <td>0.176008</td>\n",
       "      <td>0.112452</td>\n",
       "    </tr>\n",
       "  </tbody>\n",
       "</table>\n",
       "</div>"
      ],
      "text/plain": [
       "  sub_id framewise_displacement      rmsd\n",
       "1  19048               0.176008  0.112452"
      ]
     },
     "execution_count": 51,
     "metadata": {},
     "output_type": "execute_result"
    }
   ],
   "source": [
    "summary_df"
   ]
  }
 ],
 "metadata": {
  "kernelspec": {
   "display_name": "Python 3",
   "language": "python",
   "name": "python3"
  },
  "language_info": {
   "codemirror_mode": {
    "name": "ipython",
    "version": 3
   },
   "file_extension": ".py",
   "mimetype": "text/x-python",
   "name": "python",
   "nbconvert_exporter": "python",
   "pygments_lexer": "ipython3",
   "version": "3.7.3"
  }
 },
 "nbformat": 4,
 "nbformat_minor": 4
}
