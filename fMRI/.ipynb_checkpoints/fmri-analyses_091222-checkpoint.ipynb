{
 "cells": [
  {
   "cell_type": "markdown",
   "metadata": {},
   "source": [
    "1. Categorical differences between CUD & HC\n",
    "2. Continuous relationships within CUD to drug use patterns\n",
    "3. Continuous relationships w/ childhood trauma"
   ]
  },
  {
   "cell_type": "code",
   "execution_count": 2,
   "metadata": {},
   "outputs": [
    {
     "name": "stdout",
     "output_type": "stream",
     "text": [
      "n=68\n"
     ]
    },
    {
     "data": {
      "text/plain": [
       "HC    38\n",
       "CD    30\n",
       "Name: dx, dtype: int64"
      ]
     },
     "execution_count": 2,
     "metadata": {},
     "output_type": "execute_result"
    }
   ],
   "source": [
    "import sys, os\n",
    "user = os.path.expanduser('~')\n",
    "sys.path.insert(0, user + '/Dropbox/Projects/Code/utilities')\n",
    "sys.path.insert(0, user + '/Dropbox/Projects/Code/snt_behavior/preprocessing')\n",
    "sys.path.insert(0, '..') \n",
    "\n",
    "from py_standard_modules import *\n",
    "from snt_info import *\n",
    "from circ_stats import *\n",
    "\n",
    "from sklearn.preprocessing import OrdinalEncoder\n",
    "from scipy.spatial import distance\n",
    "\n",
    "data_dir = '/Volumes/synapse/projects/SocialSpace/Projects/SNT-fmri_CUD/Data/Summary'\n",
    "df = pd.read_excel(glob.glob(data_dir + '/All-data*')[0])\n",
    "df = df[df['memory_mean'] > .2]\n",
    "print(f'n={len(df)}')\n",
    "sub_list = df['sub_id']\n",
    "df['dx'].value_counts()"
   ]
  },
  {
   "cell_type": "markdown",
   "metadata": {},
   "source": [
    "# Correlations w/ HPC betas: nada"
   ]
  },
  {
   "cell_type": "code",
   "execution_count": 205,
   "metadata": {},
   "outputs": [
    {
     "data": {
      "text/plain": [
       "['ant_L_HPC', 'mid_L_HPC', 'post_L_HPC']"
      ]
     },
     "execution_count": 205,
     "metadata": {},
     "output_type": "execute_result"
    }
   ],
   "source": [
    "[c for c in df.columns if 'HPC' in c]"
   ]
  }
 ],
 "metadata": {
  "kernelspec": {
   "display_name": "Python 3 (ipykernel)",
   "language": "python",
   "name": "python3"
  },
  "language_info": {
   "codemirror_mode": {
    "name": "ipython",
    "version": 3
   },
   "file_extension": ".py",
   "mimetype": "text/x-python",
   "name": "python",
   "nbconvert_exporter": "python",
   "pygments_lexer": "ipython3",
   "version": "3.9.7"
  }
 },
 "nbformat": 4,
 "nbformat_minor": 4
}
