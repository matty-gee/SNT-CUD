{
 "cells": [
  {
   "cell_type": "code",
   "execution_count": 1,
   "metadata": {
    "jupyter": {
     "source_hidden": true
    },
    "tags": []
   },
   "outputs": [
    {
     "name": "stderr",
     "output_type": "stream",
     "text": [
      "/Users/matthew/opt/anaconda3/lib/python3.9/site-packages/openpyxl/worksheet/_read_only.py:79: UserWarning: Unknown extension is not supported and will be removed\n",
      "  for idx, row in parser.parse():\n",
      "/Users/matthew/opt/anaconda3/lib/python3.9/site-packages/nilearn/input_data/__init__.py:27: FutureWarning: The import path 'nilearn.input_data' is deprecated in version 0.9. Importing from 'nilearn.input_data' will be possible at least until release 0.13.0. Please import from 'nilearn.maskers' instead.\n",
      "  warnings.warn(message, FutureWarning)\n",
      "/Users/matthew/opt/anaconda3/lib/python3.9/site-packages/nilearn/glm/__init__.py:55: FutureWarning: The nilearn.glm module is experimental. It may change in any future release of Nilearn.\n",
      "  warn('The nilearn.glm module is experimental. '\n"
     ]
    },
    {
     "name": "stdout",
     "output_type": "stream",
     "text": [
      "n=66\n"
     ]
    },
    {
     "name": "stderr",
     "output_type": "stream",
     "text": [
      "/Users/matthew/opt/anaconda3/lib/python3.9/site-packages/openpyxl/worksheet/_read_only.py:79: UserWarning: Unknown extension is not supported and will be removed\n",
      "  for idx, row in parser.parse():\n"
     ]
    },
    {
     "data": {
      "text/plain": [
       "HC    36\n",
       "CD    30\n",
       "Name: dx, dtype: int64"
      ]
     },
     "execution_count": 1,
     "metadata": {},
     "output_type": "execute_result"
    }
   ],
   "source": [
    "import sys, os\n",
    "user = os.path.expanduser('~')\n",
    "sys.path.insert(0, user + '/Dropbox/Projects/Code/utilities')\n",
    "sys.path.insert(0, user + '/Dropbox/Projects/Code/snt_behavior/preprocessing')\n",
    "sys.path.insert(0, '..') \n",
    "\n",
    "from py_standard_modules import *\n",
    "from snt_info import *\n",
    "from circ_stats import *\n",
    "from generic import pickle_file, load_pickle\n",
    "\n",
    "from sklearn.neighbors import KNeighborsClassifier\n",
    "from sklearn.preprocessing import OrdinalEncoder\n",
    "\n",
    "import time\n",
    "import random\n",
    "from scipy.stats import norm\n",
    "from scipy.spatial import distance\n",
    "\n",
    "import nibabel as nib\n",
    "\n",
    "import nilearn\n",
    "from nilearn.image import get_data, math_img, threshold_img, binarize_img, new_img_like, smooth_img\n",
    "from nilearn.input_data import NiftiMasker\n",
    "from nilearn.masking import intersect_masks, compute_brain_mask, new_img_like\n",
    "from nilearn.glm import cluster_level_inference, threshold_stats_img\n",
    "from nilearn.glm.second_level import SecondLevelModel, non_parametric_inference\n",
    "from nilearn.reporting import get_clusters_table\n",
    "\n",
    "from matplotlib import colorbar, colors\n",
    "from matplotlib.colors import ListedColormap\n",
    "\n",
    "data_dir = '/Volumes/synapse/projects/SocialSpace/Projects/SNT-fmri_CUD/Data/Summary'\n",
    "df = pd.read_excel(glob.glob(data_dir + '/All-data*')[0])\n",
    "df = df[df['memory_mean'] > .25]\n",
    "print(f'n={len(df)}')\n",
    "sub_list = df['sub_id']\n",
    "df['dx'].value_counts()\n"
   ]
  },
  {
   "cell_type": "code",
   "execution_count": 2,
   "metadata": {
    "jupyter": {
     "source_hidden": true
    },
    "tags": []
   },
   "outputs": [],
   "source": [
    "import random\n",
    "\n",
    "from sklearn.base import clone\n",
    "from nilearn.image import binarize_img\n",
    "\n",
    "from sklearn.preprocessing import StandardScaler\n",
    "from sklearn.feature_selection import VarianceThreshold\n",
    "\n",
    "from sklearn.linear_model import LogisticRegression\n",
    "from sklearn.neighbors import KNeighborsClassifier\n",
    "from sklearn.neural_network import MLPClassifier\n",
    "from sklearn.tree import DecisionTreeClassifier\n",
    "from sklearn.discriminant_analysis import LinearDiscriminantAnalysis\n",
    "from sklearn.svm import SVC\n",
    "from sklearn.ensemble import RandomForestClassifier\n",
    "\n",
    "from sklearn.dummy import DummyClassifier\n",
    "from sklearn.model_selection import KFold, LeaveOneOut\n",
    "\n",
    "def permutation_ttest(fnames, confound_df=None, mask_img=None, tfce=False, fwhm=None, alpha=0.05, cluster_threshold=None, two_sided=False, model_intercept=True, n_perm=1000):\n",
    "    \n",
    "    # https://nilearn.github.io/dev/modules/generated/nilearn.glm.second_level.non_parametric_inference.html\n",
    "    \n",
    "    print(f'{len(fnames)} subjects in a nonparametric 1-sample t-test')\n",
    "    design_matrix = pd.DataFrame([1] * len(fnames), columns=['intercept']) \n",
    "    \n",
    "    # produces a negative log pvalue image or an output dictionary if tfce=False and threshold is not None\n",
    "    output = non_parametric_inference(fnames, \n",
    "                                      design_matrix=design_matrix, confounds=confound_df, # needs “subject_label” column\n",
    "                                      model_intercept=model_intercept, \n",
    "                                      first_level_contrast=None, second_level_contrast=None, \n",
    "                                      mask=mask_img, \n",
    "                                      smoothing_fwhm=fwhm, \n",
    "                                      n_perm=n_perm, # number of 0s determines precision of the p-value\n",
    "                                      two_sided_test=two_sided, \n",
    "                                      threshold=cluster_threshold, # cluster forming threshold in p-scale\n",
    "                                      tfce=tfce, # as described in the paper\n",
    "                                      random_state=2022, n_jobs=-1, verbose=1) \n",
    "\n",
    "    return output\n",
    "\n",
    "\n",
    "def ttest(fnames, design_matrix=None, confound_df=None, mask_img=None, fwhm=None, output_type='z_score', alpha=0.05, cluster_extent=0, two_sided=False, height_control='fdr'):\n",
    "    \n",
    "    print(f'{len(fnames)} subjects in a t-test')\n",
    "    if not design_matrix: \n",
    "        design_matrix = pd.DataFrame([1] * len(fnames), columns=['intercept']) \n",
    "    model = SecondLevelModel(mask_img=mask_img, smoothing_fwhm=fwhm, n_jobs=-1)\n",
    "    model = model.fit(fnames, confounds=confound_df, design_matrix=design_matrix)\n",
    "    con_map = model.compute_contrast(output_type=output_type)\n",
    "    con_map_thr, thr = threshold_stats_img(stat_img=con_map, mask_img=mask_img,\n",
    "                                           two_sided=two_sided, \n",
    "                                           alpha=alpha, \n",
    "                                           height_control=height_control,\n",
    "                                           cluster_threshold=cluster_extent)\n",
    "    \n",
    "#     display = plotting.plot_stat_map(con_map_thr, colorbar=True, title=f'T-value map: {height_control} < {alpha} & FWHM={fwhm}')\n",
    "#     plotting.show()\n",
    "    return con_map, con_map_thr\n",
    "\n",
    "def get_nifti_info(nii):\n",
    "    if isinstance(nii, str):    \n",
    "        nii = nib.load(nii)\n",
    "    dims = nii.get_fdata().shape\n",
    "    vox_size = nii.header.get_zooms()[0:3] # just get xyz\n",
    "    affine = nii.affine\n",
    "    return dims, vox_size, affine \n",
    "\n",
    "def get_voxels_from_mask(mask_img, sub_img, resample_to_sub=False, standardize=False):\n",
    "    '''\n",
    "        mask_img: 3d nii (ideally already resampled to correct dims)\n",
    "        sub_img: 4d nii\n",
    "        returns: array of shape (time_points, voxels)\n",
    "    '''\n",
    "    if resample_to_sub:\n",
    "        sub_dims, _, sub_affine = get_nifti_info(sub_img)\n",
    "        masker = NiftiMasker(mask_img=mask_img, \n",
    "                             target_affine=sub_affine, target_shape=sub_dims[0:3],\n",
    "                             standardize=standardize)\n",
    "    else:\n",
    "        masker = NiftiMasker(mask_img=mask_img, standardize=standardize)\n",
    "    return masker.fit_transform(sub_img)\n",
    "\n",
    "def get_perm_pval(coef, perm_coefs, test='2-sided'):\n",
    "    '''2-sided, greater or lesser\n",
    "    '''\n",
    "    p_greater = np.sum(perm_coefs >= coef) / len(perm_coefs)\n",
    "    p_less  = np.sum(perm_coefs <= coef) / len(perm_coefs)\n",
    "    p_2sided  = min(p_greater, p_less)\n",
    "    if test == '2-sided':\n",
    "        pval = p_2sided\n",
    "    elif test == 'greater':\n",
    "        pval = p_greater\n",
    "    elif test == 'less':\n",
    "        pval = p_less\n",
    "    return pval"
   ]
  },
  {
   "cell_type": "code",
   "execution_count": null,
   "metadata": {
    "jupyter": {
     "source_hidden": true
    },
    "tags": []
   },
   "outputs": [],
   "source": [
    "from sklearn.model_selection import train_test_split, StratifiedKFold, GridSearchCV\n",
    "from sklearn.calibration import CalibratedClassifierCV\n",
    "from sklearn.metrics import (\n",
    "    confusion_matrix,\n",
    "    plot_roc_curve,\n",
    "    roc_auc_score,\n",
    "    roc_curve,\n",
    "    auc,\n",
    "    accuracy_score,\n",
    "    precision_recall_fscore_support,\n",
    "    jaccard_score,\n",
    ")\n",
    "from sklearn.metrics import RocCurveDisplay\n",
    "class ClassifierPipeline(object):\n",
    "    def __init__(self, classifier_dict):\n",
    "        \"\"\"\n",
    "            Preprocessing should be done \n",
    "            Args: \n",
    "                dictionary of classifier, w its parameters\n",
    "                number of cross-validation folds\n",
    "        \"\"\"\n",
    "        self.classifier_dict = classifier_dict\n",
    "\n",
    "    def fit(self, X, y, numfolds):\n",
    "        \"\"\"\n",
    "            Fit k-fold cross-validated classifier, store model metrics & create ROC plot\n",
    "            X: observation x features matrix\n",
    "            y: list of labels\n",
    "            folds: how many folds of cross-validation\n",
    "        \"\"\"\n",
    "        self.conf_matrix = {}\n",
    "        fig, ax = plt.subplots(\n",
    "            figsize=(28, 5), nrows=1, ncols=len(self.classifier_dict.keys())\n",
    "        )\n",
    "\n",
    "        for c, (classifier_name, classifier) in enumerate(self.classifier_dict.items()):\n",
    "\n",
    "            print(f\"Running {classifier_name} classification\")\n",
    "\n",
    "            # store this fold's outputs\n",
    "            k_accuracy = np.zeros((numfolds))\n",
    "            conf_mat = np.zeros((2, 2))\n",
    "\n",
    "            # for roc plot\n",
    "            tprs = []\n",
    "            aucs = []\n",
    "            mean_fpr = np.linspace(0, 1, 100)\n",
    "\n",
    "            cv = StratifiedKFold(n_splits=numfolds, shuffle=False)\n",
    "            for k, (train, test) in enumerate(cv.split(X, y)):\n",
    "\n",
    "                # Create a clone of the classifier for each cross-validation\n",
    "                classifier_clone = clone(classifier)\n",
    "                if \"SVC\" in classifier_name:\n",
    "                    classifier_clone = CalibratedClassifierCV(classifier_clone)\n",
    "\n",
    "                # fit model & predict\n",
    "                classifier_clone.fit(X[train], y[train])\n",
    "                predictions = classifier_clone.predict(X[test])\n",
    "\n",
    "                # classifier metrics\n",
    "                k_accuracy[k] = classifier_clone.score(X[test], y[test])\n",
    "                conf_mat = conf_mat + confusion_matrix(\n",
    "                    y[test], predictions\n",
    "                )  # sum across folds\n",
    "\n",
    "                # ROC plot for this fold\n",
    "                # viz = plot_roc_curve(classifier_clone, X[test], y[test], name=f'ROC fold {k+1}', alpha=0.3, lw=1, ax=ax[c])\n",
    "                viz = RocCurveDisplay.from_estimator(\n",
    "                    classifier_clone,\n",
    "                    X[test],\n",
    "                    y[test],\n",
    "                    name=f\"ROC fold {k+1}\",\n",
    "                    alpha=0.3,\n",
    "                    lw=1,\n",
    "                    ax=ax[c],\n",
    "                )\n",
    "                # Store tpr and fpr values to calculate mean ROC at the end\n",
    "                interp_tpr = np.interp(mean_fpr, viz.fpr, viz.tpr)\n",
    "                interp_tpr[0] = 0.0\n",
    "                tprs.append(interp_tpr)\n",
    "                aucs.append(viz.roc_auc)\n",
    "\n",
    "            # Calculate mean ROC and plt\n",
    "            mean_tpr = np.mean(tprs, axis=0)\n",
    "            mean_tpr[-1] = 1.0\n",
    "            mean_auc = auc(mean_fpr, mean_tpr)\n",
    "            std_auc = np.std(aucs)\n",
    "            std_tpr = np.std(tprs, axis=0)\n",
    "            tprs_upper = np.minimum(mean_tpr + std_tpr, 1)\n",
    "            tprs_lower = np.maximum(mean_tpr - std_tpr, 0)\n",
    "\n",
    "            ax[c].plot(\n",
    "                [0, 1],\n",
    "                [0, 1],\n",
    "                linestyle=\"--\",\n",
    "                lw=2,\n",
    "                color=\"r\",\n",
    "                label=\"Chance\",\n",
    "                alpha=0.8,\n",
    "            )\n",
    "            ax[c].plot(\n",
    "                mean_fpr,\n",
    "                mean_tpr,\n",
    "                color=\"b\",\n",
    "                label=f\"Mean ROC (AUC={np.round(mean_auc, 2)} +/- {np.round(std_auc, 2)})\",\n",
    "                lw=2,\n",
    "                alpha=0.8,\n",
    "            )\n",
    "            ax[c].fill_between(\n",
    "                mean_fpr,\n",
    "                tprs_lower,\n",
    "                tprs_upper,\n",
    "                color=\"grey\",\n",
    "                alpha=0.2,\n",
    "                label=f\"+/- 1 std. dev.\",\n",
    "            )\n",
    "            ax[c].set(\n",
    "                xlim=[-0.05, 1.05], ylim=[-0.05, 1.05], title=f\"{classifier_name} ROC\"\n",
    "            )\n",
    "            ax[c].legend(loc=\"lower right\", fontsize=\"small\")\n",
    "            # fig.savefig('fig5.svg', format='svg', dpi=1200)\n",
    "\n",
    "            self.conf_matrix[classifier_name] = conf_mat\n",
    "\n",
    "            # Print c.v. results\n",
    "            print(\n",
    "                f\"{numfolds}-fold cross-validated accuracy: {np.round(np.mean(k_accuracy), 5)*100}%\"\n",
    "            )\n",
    "            print(k_accuracy)\n",
    "            print()\n",
    "\n",
    "            # train each classifier with full data\n",
    "            classifier.fit(X, y)\n",
    "\n",
    "    def model_metrics(self):\n",
    "        \"\"\"\n",
    "            print out some model metrics\n",
    "        \"\"\"\n",
    "        for c, (classifier_name, conf_matrix) in enumerate(self.conf_matrix.items()):\n",
    "            print(classifier_name)\n",
    "            print(\"Confusion matrix:\")\n",
    "            print(\"[ TP:\", conf_matrix[0][0], \", FP:\", conf_matrix[0][1], \"]\")\n",
    "            print(\"[ FN:\", conf_matrix[1][0], \", TN:\", conf_matrix[1][1], \"]\")\n",
    "            accuracy = (conf_matrix[0][0] + conf_matrix[1][1]) / np.sum(conf_matrix)\n",
    "            print(f\"Accuracy: {np.round(accuracy*100, 2)}%\")\n",
    "            precision = conf_matrix[0][0] / (conf_matrix[0][0] + conf_matrix[0][1])\n",
    "            print(f\"Precision: {np.round(precision*100, 2)}%\")\n",
    "            recall = conf_matrix[0][0] / (conf_matrix[0][0] + conf_matrix[1][0])\n",
    "            print(f\"Recall: {np.round(recall*100, 2)}%\")\n",
    "            print()\n",
    "\n",
    "    def ensemble_prediction(self):\n",
    "        \"\"\"\n",
    "            take mean class probabilities from each classifier\n",
    "            threshold on .5 \n",
    "            \n",
    "            plot labels & predicted labels\n",
    "        \"\"\"\n",
    "\n",
    "        y_tick_labels = []\n",
    "        self.probas = np.zeros((len(self.X), len(self.classifier_dict) + 1))\n",
    "        self.predictions_kk = np.zeros((len(self.X), len(self.classifier_dict) + 1))\n",
    "        for c, (classifier_name, proba) in enumerate(self.proba.items()):\n",
    "            self.probas[:, c] = self.proba[classifier_name][\n",
    "                :, 1\n",
    "            ]  # get the probability of class 1\n",
    "            self.predictions_kk = self.classifier_dict[classifier_name].predict(self.X)\n",
    "            y_tick_labels.append(classifier_name)\n",
    "\n",
    "        self.probas[:, c + 1] = np.mean(\n",
    "            self.probas[:, 0 : len(self.classifier_dict)], axis=1\n",
    "        )  # average all probabilities togehter\n",
    "        predictions = (self.probas > 0.5).astype(int).astype(int)  # class 1 predictions\n",
    "\n",
    "        labels_ordered = self.y[\n",
    "            self.test_ixs[classifier_name]\n",
    "        ]  # training set indices should be the same across classifiers\n",
    "        ensemble_accuracy = np.mean(predictions[:, c + 1] == labels_ordered)\n",
    "        print(\"Ensemble prediction accuracy: %0.1f%% \" % (ensemble_accuracy * 100))\n",
    "\n",
    "        # plot it\n",
    "        y_tick_labels.insert(0, \"True labels\")\n",
    "        y_tick_labels.append(\"Ensemble prediction\")\n",
    "        self.prediction_matrix = np.vstack([labels_ordered, predictions.T]).T\n",
    "        self.prediction_matrix2 = np.vstack([labels_ordered, self.predictions_kk.T]).T\n",
    "        self.predictions_plot(self.prediction_matrix, y_tick_labels, names)\n",
    "\n",
    "    def predictions_plot(self, prediction_matrix, y_tick_labels, names):\n",
    "        \"\"\"\n",
    "            heatmaps of predictions etc...\n",
    "        \"\"\"\n",
    "        plt.figure(figsize=(15 * len(prediction_matrix[1, :]), 10))\n",
    "        sorted_ind = np.argsort(prediction_matrix[:, 0])\n",
    "        sns.heatmap(\n",
    "            prediction_matrix.T[:, sorted_ind],\n",
    "            yticklabels=y_tick_labels,\n",
    "            xticklabels=np.array(names)[training == 1][sorted_ind],\n",
    "            cmap=\"Blues\",\n",
    "            linewidths=0.25,\n",
    "            linecolor=\"black\",\n",
    "            cbar=False,\n",
    "        )\n",
    "        plt.yticks(rotation=60, fontsize=12)\n",
    "        plt.show()\n"
   ]
  },
  {
   "cell_type": "markdown",
   "metadata": {},
   "source": [
    "# Tavares 2015, Zhang 2022 & Tavares reproduced peak coordinates"
   ]
  },
  {
   "cell_type": "code",
   "execution_count": null,
   "metadata": {
    "tags": []
   },
   "outputs": [],
   "source": [
    "# peak left hippocampal coords from tavares et al and zhang et al and from this currnt sample\n",
    "angle_coords = [(-22, -15, -18), (-24,-22,-22), (-22,-28,-4)]\n",
    "nilearn.plotting.plot_markers([1, 2, 3], angle_coords, title='Self-referenced angle')\n",
    "plt.show()"
   ]
  },
  {
   "cell_type": "markdown",
   "metadata": {},
   "source": [
    "### Define a sample size weighted MNI average"
   ]
  },
  {
   "cell_type": "code",
   "execution_count": 3,
   "metadata": {
    "tags": []
   },
   "outputs": [
    {
     "data": {
      "text/plain": [
       "array([-22.76595745, -25.70212766, -10.89361702])"
      ]
     },
     "execution_count": 3,
     "metadata": {},
     "output_type": "execute_result"
    }
   ],
   "source": [
    "# 'Tavares_2015': {'MNI':(-22,-15,-18), 'n':18},\n",
    "lhpc_peaks = {'Tavares_reproduced': {'MNI':(-24,-22,-22), 'n':18},\n",
    "              'Zhang_2022': {'MNI':(-22,-28,-4), 'n':29}}\n",
    "studies = lhpc_peaks.keys()\n",
    "mni_avg_coords = np.average(a=[lhpc_peaks[st]['MNI'] for st in studies], weights=[lhpc_peaks[st]['n'] for st in studies], axis=0)\n",
    "mni_avg_coords"
   ]
  },
  {
   "cell_type": "markdown",
   "metadata": {},
   "source": [
    "# Subject chararacteristics - possible confound control?"
   ]
  },
  {
   "cell_type": "code",
   "execution_count": null,
   "metadata": {
    "jupyter": {
     "source_hidden": true
    },
    "tags": []
   },
   "outputs": [],
   "source": [
    "# summary_df = pd.read_excel('../../Samples/Validation/Validation_summary_data.xlsx')\n",
    "# age_df = summary_df[['sub_id', 'age_years']]\n",
    "# age_yrs = []\n",
    "# for sub_id in summary_df['sub_id']:\n",
    "#     if str(sub_id) not in excl:\n",
    "#         age_yrs.append(list(age_df[age_df['sub_id'] == int(sub_id)].values[0]))\n",
    "# confound_df = pd.DataFrame(age_yrs, columns=['subject_label', 'age'])\n",
    "# confound_df['subject_label'] = confound_df['subject_label'].astype(str)"
   ]
  },
  {
   "cell_type": "markdown",
   "metadata": {},
   "source": [
    "# Get fMRI data"
   ]
  },
  {
   "cell_type": "code",
   "execution_count": 4,
   "metadata": {},
   "outputs": [],
   "source": [
    "base_dir = '/Volumes/synapse/projects/SocialSpace/Projects/SNT-fmri_CUD'\n",
    "con_dir  = base_dir + '/Analyses/GLMs/Pmods/egocentric_angles/fmriprep-rp+fd/contrast_images'\n",
    "mask_dir = base_dir + '/Masks'"
   ]
  },
  {
   "cell_type": "code",
   "execution_count": 5,
   "metadata": {},
   "outputs": [
    {
     "name": "stderr",
     "output_type": "stream",
     "text": [
      "/Users/matthew/opt/anaconda3/lib/python3.9/site-packages/nilearn/plotting/img_plotting.py:348: FutureWarning: Default resolution of the MNI template will change from 2mm to 1mm in version 0.10.0\n",
      "  anat_img = load_mni152_template()\n"
     ]
    },
    {
     "name": "stdout",
     "output_type": "stream",
     "text": [
      "74 included contrast images\n"
     ]
    },
    {
     "name": "stderr",
     "output_type": "stream",
     "text": [
      "/Users/matthew/opt/anaconda3/lib/python3.9/site-packages/nilearn/_utils/niimg.py:61: UserWarning: Non-finite values detected. These values will be replaced with zeros.\n",
      "  warn(\n"
     ]
    },
    {
     "data": {
      "image/png": "[encoded data removed]",
      "text/plain": [
       "<Figure size 730x260 with 5 Axes>"
      ]
     },
     "metadata": {},
     "output_type": "display_data"
    },
    {
     "data": {
      "image/png": "[encoded data removed]",
      "text/plain": [
       "<Figure size 730x260 with 5 Axes>"
      ]
     },
     "metadata": {},
     "output_type": "display_data"
    },
    {
     "data": {
      "image/png": "[encoded data removed]",
      "text/plain": [
       "<Figure size 730x260 with 5 Axes>"
      ]
     },
     "metadata": {},
     "output_type": "display_data"
    }
   ],
   "source": [
    "# get contrast t images\n",
    "con_imgs = [f for f in glob.glob(con_dir + '/*con_0002.nii')]\n",
    "sub_ids  = [img.split('/')[-1].split('_')[0] for img in con_imgs]\n",
    "\n",
    "print(f'{len(con_imgs)} included contrast images')\n",
    "rand = random.sample(range(1, len(con_imgs)), 3)\n",
    "for r in rand:\n",
    "    nilearn.plotting.plot_stat_map(con_imgs[r], title=sub_ids[r])\n",
    "    plt.show()"
   ]
  },
  {
   "cell_type": "markdown",
   "metadata": {},
   "source": [
    "# Hippocampal ROI analyses"
   ]
  },
  {
   "cell_type": "markdown",
   "metadata": {},
   "source": [
    "## Visualize masks"
   ]
  },
  {
   "cell_type": "code",
   "execution_count": null,
   "metadata": {
    "jupyter": {
     "source_hidden": true
    },
    "tags": []
   },
   "outputs": [],
   "source": [
    "# define masks\n",
    "\n",
    "# 'Zhang_5mm': mask_dir + '/Zhang_MNI_-22_-28_-4_5mmSphere_roi.nii', \n",
    "# 'Tavares_5mm': mask_dir + '/Tavares_MNI_-22_-15_-18_5mmSphere_roi.nii',\n",
    "#  'whole_L_HPC': mask_dir + '/Repl_L_HPC_harvardoxford_maxprob-thr25-1mm.nii',\n",
    "# 'Zhang_10mm': mask_dir + '/Zhang_MNI_-22_-28_-4_10mmSphere_roi.nii', \n",
    "# 'Tavares_10mm': mask_dir + '/Tavares_MNI_-22_-15_-18_10mmSphere_roi.nii',\n",
    "\n",
    "mask_fnames = {'ant_L_HPC': mask_dir + '/L-HPC_ant_harvardoxford_maxprob-thr25-1mm.nii',\n",
    "               'mid_L_HPC': mask_dir + '/L-HPC_mid_harvardoxford_maxprob-thr25-1mm.nii',\n",
    "               'post_L_HPC': mask_dir + '/L-HPC_post_harvardoxford_maxprob-thr25-1mm.nii'}\n",
    "\n",
    "for m, (mask_name, mask_img) in enumerate(mask_fnames.items()):\n",
    "    nilearn.plotting.plot_roi(mask_img, title=mask_name)\n",
    "    plt.show()"
   ]
  },
  {
   "cell_type": "markdown",
   "metadata": {},
   "source": [
    "## Classification"
   ]
  },
  {
   "cell_type": "markdown",
   "metadata": {},
   "source": [
    "### Get betas"
   ]
  },
  {
   "cell_type": "code",
   "execution_count": 20,
   "metadata": {},
   "outputs": [
    {
     "data": {
      "text/plain": [
       "array([18001, 18002, 18003, 18004, 18005, 18006, 18007, 18009, 18011,\n",
       "       18013, 18015, 18017, 18018, 19003, 19004, 19005, 19007, 19008,\n",
       "       19009, 19014, 19016, 19020, 19024, 19027, 19028, 19031, 19032,\n",
       "       19033, 19035, 19037, 19041, 19042, 19045, 19048, 19051, 19052,\n",
       "       19053, 19054, 19056, 19057, 19059, 19061, 20003, 20004, 20005,\n",
       "       20007, 20008, 20009, 20010, 21002, 21003, 21004, 21008, 21009,\n",
       "       21011, 21012, 21013, 21014, 21015, 21016, 21021, 22001, 22002,\n",
       "       22004, 22009, 22010])"
      ]
     },
     "execution_count": 20,
     "metadata": {},
     "output_type": "execute_result"
    }
   ],
   "source": [
    "df['sub_id'].values"
   ]
  },
  {
   "cell_type": "code",
   "execution_count": 10,
   "metadata": {
    "tags": []
   },
   "outputs": [
    {
     "name": "stdout",
     "output_type": "stream",
     "text": [
      "File exists - loaded\n",
      "dict_keys(['dx', 'R-IFG_48_32_-2_sphere-10mm_roi', 'WeightedAvg_ego_angle_L-HPC_-23_-26_-11_10mm', 'R-M1p_juelich_maxprob-thr25-1mm'])\n"
     ]
    }
   ],
   "source": [
    "mask_imgs = ['R-IFG_48_32_-2_sphere-10mm_roi.nii',\n",
    "             'WeightedAvg_ego_angle_L-HPC_-23_-26_-11_10mm.nii',\n",
    "             'R-M1p_juelich_maxprob-thr25-1mm.nii']  \n",
    "\n",
    "betas_pkl = '../../Analysis/Classification/roi_betas.pkl'\n",
    "if os.path.exists(betas_pkl):\n",
    "    print('File exists - loaded')\n",
    "    Xs = load_pickle(betas_pkl)\n",
    "    print(Xs.keys())\n",
    "\n",
    "    # check if the mask_imgs are all in the keys of Xs\n",
    "    \n",
    "else:\n",
    "    \n",
    "    Xs = dict()\n",
    "\n",
    "    # iterate over masks\n",
    "    for mask_img in mask_imgs:\n",
    "        mask_name = mask_img.split('.nii')[0]\n",
    "        print(mask_name)\n",
    "\n",
    "        X  = []\n",
    "        y  = []\n",
    "        sub_ids = []\n",
    "\n",
    "        # iterate over subject\n",
    "        for sub_id in list(df['sub_id'].values):\n",
    "\n",
    "            try:\n",
    "\n",
    "                # # X - voxels\n",
    "                con_img = nib.load([img for img in con_imgs if str(sub_id) in img][0])\n",
    "                # # mask_img = binarize_img(mask_img)\n",
    "                mask_voxels = get_voxels_from_mask(mask_dir + '/' + mask_img, con_img, resample_to_sub=True).flatten()\n",
    "                # X.append(list(mask_voxels))            \n",
    "\n",
    "                # y - labels\n",
    "                dx = df[df['sub_id'] == sub_id]['dx'].values[0]\n",
    "                y.append(dx)\n",
    "                sub_ids.append(sub_id)\n",
    "\n",
    "            except:\n",
    "\n",
    "                continue\n",
    "\n",
    "    #     # clean up\n",
    "    #     X = VarianceThreshold().fit_transform(np.array(X)) # remove voxels with any 0 values across subjects --> want same number of voxels across subs\n",
    "    #     print(X.shape)\n",
    "    #     Xs['dx'] = (np.array(y) == 'HC') * 1\n",
    "    #     Xs['sub_ids'] = sub_ids # combine w/ dx\n",
    "    #     Xs[mask_name] = X\n",
    "\n",
    "    # pickle_file(Xs, 'roi_betas.pkl')\n",
    "    pd.DataFrame(sub_ids, columns=['sub_id']).to_excel('../included_sub_ids.xlsx', index=False)"
   ]
  },
  {
   "cell_type": "markdown",
   "metadata": {},
   "source": [
    "## Classify CUD status\n",
    "Try different classifiers..."
   ]
  },
  {
   "cell_type": "code",
   "execution_count": 13,
   "metadata": {
    "jupyter": {
     "source_hidden": true
    },
    "tags": []
   },
   "outputs": [
    {
     "data": {
      "text/html": [
       "<div>\n",
       "<style scoped>\n",
       "    .dataframe tbody tr th:only-of-type {\n",
       "        vertical-align: middle;\n",
       "    }\n",
       "\n",
       "    .dataframe tbody tr th {\n",
       "        vertical-align: top;\n",
       "    }\n",
       "\n",
       "    .dataframe thead th {\n",
       "        text-align: right;\n",
       "    }\n",
       "</style>\n",
       "<table border=\"1\" class=\"dataframe\">\n",
       "  <thead>\n",
       "    <tr style=\"text-align: right;\">\n",
       "      <th></th>\n",
       "      <th>clf</th>\n",
       "      <th>acc_type</th>\n",
       "      <th>mask</th>\n",
       "      <th>acc</th>\n",
       "    </tr>\n",
       "  </thead>\n",
       "  <tbody>\n",
       "    <tr>\n",
       "      <th>1</th>\n",
       "      <td>decision_tree</td>\n",
       "      <td>acc</td>\n",
       "      <td>R-IFG_48_32_-2_sphere-10mm_roi</td>\n",
       "      <td>0.619</td>\n",
       "    </tr>\n",
       "    <tr>\n",
       "      <th>2</th>\n",
       "      <td>decision_tree</td>\n",
       "      <td>chance</td>\n",
       "      <td>R-IFG_48_32_-2_sphere-10mm_roi</td>\n",
       "      <td>0.524</td>\n",
       "    </tr>\n",
       "    <tr>\n",
       "      <th>3</th>\n",
       "      <td>decision_tree</td>\n",
       "      <td>acc</td>\n",
       "      <td>WeightedAvg_ego_angle_L-HPC_-23_-26_-11_10mm</td>\n",
       "      <td>0.81</td>\n",
       "    </tr>\n",
       "    <tr>\n",
       "      <th>4</th>\n",
       "      <td>decision_tree</td>\n",
       "      <td>chance</td>\n",
       "      <td>WeightedAvg_ego_angle_L-HPC_-23_-26_-11_10mm</td>\n",
       "      <td>0.524</td>\n",
       "    </tr>\n",
       "    <tr>\n",
       "      <th>5</th>\n",
       "      <td>decision_tree</td>\n",
       "      <td>acc</td>\n",
       "      <td>R-M1p_juelich_maxprob-thr25-1mm</td>\n",
       "      <td>0.397</td>\n",
       "    </tr>\n",
       "    <tr>\n",
       "      <th>6</th>\n",
       "      <td>decision_tree</td>\n",
       "      <td>chance</td>\n",
       "      <td>R-M1p_juelich_maxprob-thr25-1mm</td>\n",
       "      <td>0.524</td>\n",
       "    </tr>\n",
       "  </tbody>\n",
       "</table>\n",
       "</div>"
      ],
      "text/plain": [
       "             clf acc_type                                          mask    acc\n",
       "1  decision_tree      acc                R-IFG_48_32_-2_sphere-10mm_roi  0.619\n",
       "2  decision_tree   chance                R-IFG_48_32_-2_sphere-10mm_roi  0.524\n",
       "3  decision_tree      acc  WeightedAvg_ego_angle_L-HPC_-23_-26_-11_10mm   0.81\n",
       "4  decision_tree   chance  WeightedAvg_ego_angle_L-HPC_-23_-26_-11_10mm  0.524\n",
       "5  decision_tree      acc               R-M1p_juelich_maxprob-thr25-1mm  0.397\n",
       "6  decision_tree   chance               R-M1p_juelich_maxprob-thr25-1mm  0.524"
      ]
     },
     "metadata": {},
     "output_type": "display_data"
    }
   ],
   "source": [
    "# linear or nonlinear classification\n",
    "# distance/similarity or feature based classifciation\n",
    "\n",
    "y = Xs['dx']\n",
    "C = 0.00001\n",
    "max_iter = 1000\n",
    "random_state = 22\n",
    "\n",
    "# clfs = {'lr_l2': LogisticRegression(solver='liblinear', penalty='l2', l1_ratio=None, C=C, random_state=random_state, max_iter=max_iter),\n",
    "#         'knn_5': KNeighborsClassifier(n_neighbors=5),\n",
    "#         'knn_3': KNeighborsClassifier(n_neighbors=3),\n",
    "#         # 'mlp': MLPClassifier(hidden_layer_sizes=(20,), alpha=0.0001, random_state=random_state, max_iter=max_iter),\n",
    "#         'decision_tree': DecisionTreeClassifier(criterion='entropy', random_state=random_state),\n",
    "#         'random_forest_2':RandomForestClassifier(max_depth=2, random_state=random_state),\n",
    "#         'random_forest_5':RandomForestClassifier(max_depth=5, random_state=random_state)}\n",
    "clfs = {'decision_tree': DecisionTreeClassifier(criterion='entropy', random_state=random_state)}\n",
    "acc_df = pd.DataFrame(columns=['clf','acc_type', 'mask', 'acc'])\n",
    "for clf_name, clf in clfs.items():\n",
    "    \n",
    "    for mask_img in mask_imgs:\n",
    "        \n",
    "        mask_name = mask_img.split('.nii')[0]\n",
    "        X = Xs[mask_name]\n",
    "        \n",
    "        clf_accs   = []\n",
    "        dummy_accs = []\n",
    "\n",
    "        for train_ix, test_ix in LeaveOneOut().split(X): \n",
    "\n",
    "            X_train = X[train_ix].copy()\n",
    "            X_test  = X[test_ix].copy()\n",
    "\n",
    "            # preprocessing\n",
    "            scaler  = StandardScaler().fit(X_train)\n",
    "            X_train = scaler.transform(X_train)\n",
    "            X_test  = scaler.transform(X_test)\n",
    "\n",
    "            # classify\n",
    "            clf = clone(clf)\n",
    "            clf.fit(X_train, y[train_ix])\n",
    "            clf_accs.append(clf.score(X_test, y[test_ix]))\n",
    "\n",
    "            # chance\n",
    "            dummy_clf = DummyClassifier(strategy=\"most_frequent\")\n",
    "            dummy_clf.fit(X_train, y[train_ix])\n",
    "            dummy_accs.append(dummy_clf.score(X_test, y[test_ix]))\n",
    "\n",
    "        acc    = np.round(np.mean(clf_accs), 3)\n",
    "        chance = np.round(np.mean(dummy_accs), 3)\n",
    "        \n",
    "        acc_df.loc[len(acc_df)+1, :] = [clf_name, 'acc', mask_name, acc]\n",
    "        acc_df.loc[len(acc_df)+1, :] = [clf_name, 'chance', mask_name, chance]\n",
    "        \n",
    "        # print(f'{clf_name} {mask_name} acc={acc} (chance={chance})')\n",
    "        \n",
    "display(acc_df)"
   ]
  },
  {
   "cell_type": "markdown",
   "metadata": {},
   "source": [
    "### Permutation testing"
   ]
  },
  {
   "cell_type": "code",
   "execution_count": 17,
   "metadata": {
    "jupyter": {
     "source_hidden": true
    },
    "tags": []
   },
   "outputs": [
    {
     "name": "stderr",
     "output_type": "stream",
     "text": [
      "/Users/matthew/opt/anaconda3/lib/python3.9/site-packages/openpyxl/worksheet/_read_only.py:79: UserWarning: Unknown extension is not supported and will be removed\n",
      "  for idx, row in parser.parse():\n"
     ]
    },
    {
     "data": {
      "text/html": [
       "<div>\n",
       "<style scoped>\n",
       "    .dataframe tbody tr th:only-of-type {\n",
       "        vertical-align: middle;\n",
       "    }\n",
       "\n",
       "    .dataframe tbody tr th {\n",
       "        vertical-align: top;\n",
       "    }\n",
       "\n",
       "    .dataframe thead th {\n",
       "        text-align: right;\n",
       "    }\n",
       "</style>\n",
       "<table border=\"1\" class=\"dataframe\">\n",
       "  <thead>\n",
       "    <tr style=\"text-align: right;\">\n",
       "      <th></th>\n",
       "      <th>clf</th>\n",
       "      <th>mask</th>\n",
       "      <th>acc_1</th>\n",
       "      <th>acc_2</th>\n",
       "      <th>acc_3</th>\n",
       "      <th>acc_4</th>\n",
       "      <th>acc_5</th>\n",
       "      <th>acc_6</th>\n",
       "      <th>acc_7</th>\n",
       "      <th>acc_8</th>\n",
       "      <th>...</th>\n",
       "      <th>acc_991</th>\n",
       "      <th>acc_992</th>\n",
       "      <th>acc_993</th>\n",
       "      <th>acc_994</th>\n",
       "      <th>acc_995</th>\n",
       "      <th>acc_996</th>\n",
       "      <th>acc_997</th>\n",
       "      <th>acc_998</th>\n",
       "      <th>acc_999</th>\n",
       "      <th>acc_1000</th>\n",
       "    </tr>\n",
       "  </thead>\n",
       "  <tbody>\n",
       "    <tr>\n",
       "      <th>0</th>\n",
       "      <td>decision_tree</td>\n",
       "      <td>R-IFG_48_32_-2_sphere-10mm_roi</td>\n",
       "      <td>0.523810</td>\n",
       "      <td>0.571429</td>\n",
       "      <td>0.412698</td>\n",
       "      <td>0.412698</td>\n",
       "      <td>0.428571</td>\n",
       "      <td>0.412698</td>\n",
       "      <td>0.507937</td>\n",
       "      <td>0.619048</td>\n",
       "      <td>...</td>\n",
       "      <td>0.476190</td>\n",
       "      <td>0.507937</td>\n",
       "      <td>0.539683</td>\n",
       "      <td>0.555556</td>\n",
       "      <td>0.460317</td>\n",
       "      <td>0.396825</td>\n",
       "      <td>0.507937</td>\n",
       "      <td>0.523810</td>\n",
       "      <td>0.460317</td>\n",
       "      <td>0.492063</td>\n",
       "    </tr>\n",
       "    <tr>\n",
       "      <th>1</th>\n",
       "      <td>decision_tree</td>\n",
       "      <td>WeightedAvg_ego_angle_L-HPC_-23_-26_-11_10mm</td>\n",
       "      <td>0.444444</td>\n",
       "      <td>0.523810</td>\n",
       "      <td>0.365079</td>\n",
       "      <td>0.507937</td>\n",
       "      <td>0.523810</td>\n",
       "      <td>0.523810</td>\n",
       "      <td>0.619048</td>\n",
       "      <td>0.412698</td>\n",
       "      <td>...</td>\n",
       "      <td>0.349206</td>\n",
       "      <td>0.460317</td>\n",
       "      <td>0.539683</td>\n",
       "      <td>0.555556</td>\n",
       "      <td>0.507937</td>\n",
       "      <td>0.507937</td>\n",
       "      <td>0.380952</td>\n",
       "      <td>0.380952</td>\n",
       "      <td>0.492063</td>\n",
       "      <td>0.428571</td>\n",
       "    </tr>\n",
       "    <tr>\n",
       "      <th>2</th>\n",
       "      <td>decision_tree</td>\n",
       "      <td>R-M1p_juelich_maxprob-thr25-1mm</td>\n",
       "      <td>0.507937</td>\n",
       "      <td>0.523810</td>\n",
       "      <td>0.444444</td>\n",
       "      <td>0.539683</td>\n",
       "      <td>0.571429</td>\n",
       "      <td>0.555556</td>\n",
       "      <td>0.460317</td>\n",
       "      <td>0.396825</td>\n",
       "      <td>...</td>\n",
       "      <td>0.444444</td>\n",
       "      <td>0.444444</td>\n",
       "      <td>0.412698</td>\n",
       "      <td>0.539683</td>\n",
       "      <td>0.428571</td>\n",
       "      <td>0.460317</td>\n",
       "      <td>0.444444</td>\n",
       "      <td>0.476190</td>\n",
       "      <td>0.507937</td>\n",
       "      <td>0.476190</td>\n",
       "    </tr>\n",
       "  </tbody>\n",
       "</table>\n",
       "<p>3 rows × 1002 columns</p>\n",
       "</div>"
      ],
      "text/plain": [
       "             clf                                          mask     acc_1  \\\n",
       "0  decision_tree                R-IFG_48_32_-2_sphere-10mm_roi  0.523810   \n",
       "1  decision_tree  WeightedAvg_ego_angle_L-HPC_-23_-26_-11_10mm  0.444444   \n",
       "2  decision_tree               R-M1p_juelich_maxprob-thr25-1mm  0.507937   \n",
       "\n",
       "      acc_2     acc_3     acc_4     acc_5     acc_6     acc_7     acc_8  ...  \\\n",
       "0  0.571429  0.412698  0.412698  0.428571  0.412698  0.507937  0.619048  ...   \n",
       "1  0.523810  0.365079  0.507937  0.523810  0.523810  0.619048  0.412698  ...   \n",
       "2  0.523810  0.444444  0.539683  0.571429  0.555556  0.460317  0.396825  ...   \n",
       "\n",
       "    acc_991   acc_992   acc_993   acc_994   acc_995   acc_996   acc_997  \\\n",
       "0  0.476190  0.507937  0.539683  0.555556  0.460317  0.396825  0.507937   \n",
       "1  0.349206  0.460317  0.539683  0.555556  0.507937  0.507937  0.380952   \n",
       "2  0.444444  0.444444  0.412698  0.539683  0.428571  0.460317  0.444444   \n",
       "\n",
       "    acc_998   acc_999  acc_1000  \n",
       "0  0.523810  0.460317  0.492063  \n",
       "1  0.380952  0.492063  0.428571  \n",
       "2  0.476190  0.507937  0.476190  \n",
       "\n",
       "[3 rows x 1002 columns]"
      ]
     },
     "metadata": {},
     "output_type": "display_data"
    }
   ],
   "source": [
    "# THIS IS SLOWWWWW: FIND A WAY TO SPEED UP OR USE MORE EXISTING [VECTORIZED] FUNCTIONS\n",
    "\n",
    "mask_imgs = ['R-M1p_juelich_maxprob-thr25-1mm.nii']  \n",
    "\n",
    "perm_xlsx = '../../Analysis/Classification/roi_perm_accs.xlsx'\n",
    "if os.path.exists(perm_xlsx):\n",
    "    perm_df = pd.read_excel(perm_xlsx)\n",
    "    display(perm_df_)\n",
    "else:\n",
    "    clfs = {'decision_tree': DecisionTreeClassifier(criterion='entropy', random_state=random_state)}\n",
    "    y = Xs['dx']\n",
    "\n",
    "    n_perms = 1000\n",
    "    perms = []\n",
    "    time_df = pd.DataFrame(columns=['clf','mask','permutations','seconds'])\n",
    "    perm_df = pd.DataFrame(columns=['clf','mask'] + ['acc_' + str(n) for n in range(1, n_perms+1)])\n",
    "    for clf_name, clf in clfs.items():\n",
    "\n",
    "        for mask_img in mask_imgs:\n",
    "            mask_start = time.time() # time it\n",
    "            mask_name = mask_img.split('.nii')[0]\n",
    "            X = Xs[mask_name]\n",
    "\n",
    "            perm_accs = []\n",
    "            for n in range(n_perms):\n",
    "                print(mask_name, n, end = \"\\r\")\n",
    "                clf = clone(clf)\n",
    "                y_shuff = y.copy()\n",
    "                random.shuffle(y_shuff)\n",
    "                perm_accs_ = []\n",
    "                for train_ix, test_ix in LeaveOneOut().split(X):\n",
    "                    clf.fit(X_train, y_shuff[train_ix])\n",
    "                    perm_accs_.append(clf.score(X_test, y[test_ix]))\n",
    "                perm_accs.append(np.mean(perm_accs_))\n",
    "\n",
    "            perm_df.loc[len(perm_df)+1, :] = [clf_name, mask_name] + perm_accs\n",
    "            time_df.loc[len(time_df)+1, :] = [clf_name, mask_name, n_perms, np.round((time.time() - mask_start)/n_perms, 2)] \n",
    "            # print(f\"{mask_name}: time consumed for each permutation out of {n_perms} = {}\")\n",
    "\n",
    "    perm_df.to_excel(perm_xlsx, index=False)\n",
    "    # pickle_file(perm_df, 'roi_perm_accs.pkl')"
   ]
  },
  {
   "cell_type": "code",
   "execution_count": 18,
   "metadata": {},
   "outputs": [
    {
     "name": "stdout",
     "output_type": "stream",
     "text": [
      "0.082\n",
      "0.0\n",
      "0.902\n"
     ]
    }
   ],
   "source": [
    "mask_imgs = ['R-IFG_48_32_-2_sphere-10mm_roi.nii',\n",
    "             'WeightedAvg_ego_angle_L-HPC_-23_-26_-11_10mm.nii',\n",
    "             'R-M1p_juelich_maxprob-thr25-1mm.nii']  \n",
    "for mask_img in mask_imgs:\n",
    "    mask_name = mask_img.split('.nii')[0]\n",
    "    acc       = acc_df[acc_df['mask'] == mask_name]['acc'].values[0]\n",
    "    perm_accs = perm_df[perm_df['mask'] == mask_name].iloc[0, 2:].values\n",
    "    print(get_perm_pval(acc, perm_accs, test='greater'))"
   ]
  },
  {
   "cell_type": "code",
   "execution_count": 19,
   "metadata": {},
   "outputs": [
    {
     "name": "stderr",
     "output_type": "stream",
     "text": [
      "/var/folders/jq/pk75wqp554g5dhplx1d3m91h0000gw/T/ipykernel_56958/1534274700.py:2: SettingWithCopyWarning: \n",
      "A value is trying to be set on a copy of a slice from a DataFrame.\n",
      "Try using .loc[row_indexer,col_indexer] = value instead\n",
      "\n",
      "See the caveats in the documentation: https://pandas.pydata.org/pandas-docs/stable/user_guide/indexing.html#returning-a-view-versus-a-copy\n",
      "  acc_df_['acc_%'] = acc_df_['acc'] * 100\n",
      "No artists with labels found to put in legend.  Note that artists whose label start with an underscore are ignored when legend() is called with no argument.\n"
     ]
    },
    {
     "data": {
      "image/png": "[encoded data removed]",
      "text/plain": [
       "<Figure size 500x500 with 1 Axes>"
      ]
     },
     "metadata": {},
     "output_type": "display_data"
    }
   ],
   "source": [
    "acc_df_ = acc_df[(acc_df['acc_type'] == 'acc') & (acc_df['clf'] == 'decision_tree')]\n",
    "acc_df_['acc_%'] = acc_df_['acc'] * 100\n",
    "\n",
    "fig, ax = plt.subplots(figsize=(5,5))\n",
    "b = sns.barplot(data=acc_df_, x=\"mask\", y=\"acc_%\", palette = \"flare\",\n",
    "                edgecolor='black', linewidth=0.5)\n",
    "b.axhline(y=52.4, color='black', linewidth=0.5, linestyle='-.')\n",
    "b.set_xticklabels(['R IFG', 'L Hipp', 'M1'])\n",
    "b.set_ylabel('Accuracy (%)', fontsize=15)\n",
    "b.set_xlabel('Region Of Interest', fontsize=15)\n",
    "b.legend(bbox_to_anchor=(1.05, 1), loc=2, borderaxespad=0.)\n",
    "plt.show()"
   ]
  },
  {
   "cell_type": "markdown",
   "metadata": {},
   "source": [
    "### Use functions from cannabis study"
   ]
  },
  {
   "cell_type": "code",
   "execution_count": null,
   "metadata": {
    "tags": []
   },
   "outputs": [],
   "source": [
    "# cl = ClassifierPipeline(clfs)\n",
    "# cl.fit(X, y, numfolds=10)"
   ]
  },
  {
   "cell_type": "markdown",
   "metadata": {},
   "source": [
    "## 1-sample t-tests"
   ]
  },
  {
   "cell_type": "code",
   "execution_count": null,
   "metadata": {
    "tags": []
   },
   "outputs": [],
   "source": [
    "alpha = 0.05\n",
    "neglog_alpha = -np.log10(alpha)\n",
    "\n",
    "fig, axs = plt.subplots(len(mask_fnames), 3, figsize=(5 * len(mask_fnames), 3 * len(mask_fnames)))\n",
    "avg_df = pd.DataFrame()\n",
    "for m, (mask_name, mask_img) in enumerate(mask_imgs.items()):\n",
    "    \n",
    "#     confound_df = pd.DataFrame(columns=['subject_label', 'age'])\n",
    "\n",
    "    for s, con_img_ in enumerate(con_imgs): \n",
    "        \n",
    "        sub_id = con_imgs[0].split('/')[-1].split('_')[1]\n",
    "        \n",
    "        # get contrast values\n",
    "        con_img = nib.load(con_img_)        \n",
    "        mask_voxels = get_voxels_from_mask(mask_img, con_img)\n",
    "        avg_df.loc[s, m] = np.mean(mask_voxels)\n",
    "        \n",
    "#         # for confounds\n",
    "# age, childhood trauma\n",
    "#         age = summary_df[summary_df['sub_id'] == int(sub_id)]['age_years'].values[0]\n",
    "#         confound_df.loc[s, :] = [str(sub_id), age]\n",
    "\n",
    "    ################################\n",
    "    # averaged across roi voxels\n",
    "    ################################\n",
    "    \n",
    "    avg_cons = avg_df.iloc[:,m]\n",
    "    _, p = scipy.stats.wilcoxon(avg_cons, alternative='greater')\n",
    "    sns.distplot(avg_cons.values, ax=axs[m,0])\n",
    "    axs[m,0].axvline(x=0, color='black')\n",
    "    axs[m,0].set_title(f'{mask_name} avg. Wilcoxon p={np.round(p, 4)}')\n",
    "    \n",
    "    ################################\n",
    "    # permutation within roi\n",
    "    ################################\n",
    "    \n",
    "    neglog_pmap = permutation_ttest(con_imgs, mask_img=mask_img, \n",
    "                                    tfce=False,\n",
    "                                    confound_df=None, \n",
    "                                    model_intercept=False, \n",
    "                                    two_sided=False, n_perm=1000)\n",
    "    neglog_voxels = neglog_pmap.get_fdata()\n",
    "    nilearn.plotting.plot_stat_map(neglog_pmap, colorbar=True, threshold=neglog_alpha, \n",
    "                           display_mode='x', cut_coords=[-22], \n",
    "                           axes=axs[m,1], title=f'{np.sum(neglog_voxels>neglog_alpha)} voxels survive permutation')\n",
    "    \n",
    "    sns.distplot(get_voxels_from_mask(mask_img, neglog_pmap), ax=axs[m, 2])\n",
    "    axs[m, 2].axvline(x=neglog_alpha, color='black')\n",
    "    axs[m, 2].set_title('Negative log p-values')\n",
    "    \n",
    "avg_df.columns = [mask_name for mask_name,_ in mask_fnames.items()]\n",
    "avg_df.insert(0, 'sub_id', sub_ids)\n",
    "avg_df.sort_values(by='sub_id', inplace=True)"
   ]
  },
  {
   "cell_type": "code",
   "execution_count": null,
   "metadata": {
    "tags": []
   },
   "outputs": [],
   "source": [
    "# avg_df['sub_id'] = [int(s.split('sub-P')[1]) for s in avg_df['sub_id'].values]\n",
    "# df = df.merge(avg_df, on='sub_id')\n",
    "# df.to_excel('../All-data_summary_n78.xlsx')"
   ]
  },
  {
   "cell_type": "code",
   "execution_count": null,
   "metadata": {
    "tags": []
   },
   "outputs": [],
   "source": [
    "hc = df[df['dx'] == 'HC']\n",
    "cd = df[df['dx'] == 'CD']\n",
    "sns.distplot(hc['post_L_HPC'], color='blue')\n",
    "sns.distplot(cd['post_L_HPC'], color='red')\n",
    "plt.show()"
   ]
  },
  {
   "cell_type": "code",
   "execution_count": null,
   "metadata": {
    "tags": []
   },
   "outputs": [],
   "source": [
    "con_map, con_map_thr = ttest(con_imgs, confound_df=None, \n",
    "                             mask_img=mask_dir + '/L-HPC_havardoxford_maxprob-thr25-1mm.nii', \n",
    "                             cluster_extent=0,\n",
    "                             height_control='fpr')\n",
    "nilearn.plotting.view_img(con_map_thr)"
   ]
  },
  {
   "cell_type": "code",
   "execution_count": null,
   "metadata": {},
   "outputs": [],
   "source": []
  }
 ],
 "metadata": {
  "kernelspec": {
   "display_name": "Python 3",
   "language": "python",
   "name": "python3"
  },
  "language_info": {
   "codemirror_mode": {
    "name": "ipython",
    "version": 3
   },
   "file_extension": ".py",
   "mimetype": "text/x-python",
   "name": "python",
   "nbconvert_exporter": "python",
   "pygments_lexer": "ipython3",
   "version": "3.7.3"
  }
 },
 "nbformat": 4,
 "nbformat_minor": 4
}
