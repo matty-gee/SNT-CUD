{
 "cells": [
  {
   "cell_type": "code",
   "execution_count": 1,
   "metadata": {},
   "outputs": [
    {
     "name": "stdout",
     "output_type": "stream",
     "text": [
      "124 HCs\n",
      "166 MJs\n"
     ]
    }
   ],
   "source": [
    "%load_ext autoreload\n",
    "%autoreload 2\n",
    "\n",
    "from utils import * \n",
    "import random\n",
    "repaired_parc_dir = '/Volumes/synapse/projects/MJCraving/ConnSig/github_repo_matt/data/artrepair_compcor_nilearn_parcellation/'\n",
    "main_dir = '../analysis/n290'\n",
    "out_dir = main_dir + '/art_repaired/'\n",
    "artrepaired = True\n",
    "decoding_dir = f'{out_dir}/decoding'\n",
    "featmat_dir = '/Volumes/synapse/projects/MJCraving/ConnSig/github_repo_matt/analysis/feature_matrices'"
   ]
  },
  {
   "cell_type": "markdown",
   "metadata": {},
   "source": [
    "# 1. Data preparation"
   ]
  },
  {
   "cell_type": "markdown",
   "metadata": {},
   "source": [
    "### Functional connectivity\n",
    "- MEG: 405 volumes\n",
    "- MRN: 281 volumes"
   ]
  },
  {
   "cell_type": "code",
   "execution_count": 2,
   "metadata": {},
   "outputs": [
    {
     "name": "stdout",
     "output_type": "stream",
     "text": [
      "File exists.\n"
     ]
    }
   ],
   "source": [
    "outfile = f'{out_dir}/functional_connectivity' \n",
    "\n",
    "if os.path.isfile(outfile + '.npz'):\n",
    "    \n",
    "    print('File exists.')\n",
    "    infile = np.load(outfile + '.npz')\n",
    "    fcs = infile['fcs']\n",
    "\n",
    "else:\n",
    "\n",
    "    raw = []\n",
    "\n",
    "    sub_ids = list(tt_df['subject'])\n",
    "    labels_ = np.repeat(np.array(tt_df['label']),2)\n",
    "    run_ids_ = []\n",
    "    \n",
    "    for s, sub in enumerate(np.repeat(sub_ids, 2)): \n",
    "        if s % 2: run_ids_.append(sub + '_run2')\n",
    "        else: run_ids_.append(sub + '_run1')\n",
    "\n",
    "    for sub_id in sub_ids:\n",
    "        # remove the try block for unrepaired calculation\n",
    "        if artrepaired:\n",
    "            try: \n",
    "                full_ts = pd.read_csv(f'{repaired_parc_dir}/{sub_id}_stanford_rois.csv', sep='\\t', header=None).values.T\n",
    "            except:\n",
    "                full_ts = pd.read_csv(f'{parcellation_dir}/{sub_id}_stanford_rois.csv', sep='\\t', header=None).values.T\n",
    "        else:\n",
    "            full_ts = pd.read_csv(f'{parcellation_dir}/{sub_id}_stanford_rois.csv', sep='\\t', header=None).values.T\n",
    "        raw.append(full_ts)\n",
    "        \n",
    "    fcs = np.zeros((vector_size, len(raw)*2))\n",
    "    for i, (tseries, sub_id) in enumerate(zip(raw, sub_ids)):\n",
    "        clear_output(wait=True)\n",
    "        print(f'{np.round((i+1)/len(raw)*100, 3)}% complete')\n",
    "        half = int(tseries.shape[1]/2) # the runs are concatenated, so half to split...\n",
    "        fcs[:,2*i]   = symm_mat_to_ut_vec(1 - pairwise_distances(tseries[:, 0:half], metric='correlation')) \n",
    "        fcs[:,2*i+1] = symm_mat_to_ut_vec(1 - pairwise_distances(tseries[:, half:], metric='correlation'))\n",
    "        \n",
    "    np.savez(outfile, fcs=fcs.T, labels=labels_, run_ids=run_ids_) "
   ]
  },
  {
   "cell_type": "code",
   "execution_count": 3,
   "metadata": {},
   "outputs": [
    {
     "name": "stdout",
     "output_type": "stream",
     "text": [
      "MRN training n = 77.0,     % = 76.24\n",
      "MEG training n = 155.0,     % = 82.01\n"
     ]
    }
   ],
   "source": [
    "\n",
    "print(f'MRN training n = {np.sum(training_runs & mrn_runs)/2},\\\n",
    "     % = {np.round(np.sum(training_runs & mrn_runs)/np.sum(mrn_runs)*100,2)}')\n",
    "print(f'MEG training n = {np.sum(training_runs & meg_runs)/2},\\\n",
    "     % = {np.round(np.sum(training_runs & meg_runs)/np.sum(meg_runs)*100,2)}')"
   ]
  },
  {
   "cell_type": "markdown",
   "metadata": {},
   "source": [
    "### Functional activity"
   ]
  },
  {
   "cell_type": "code",
   "execution_count": 4,
   "metadata": {
    "jupyter": {
     "source_hidden": true
    },
    "tags": []
   },
   "outputs": [],
   "source": [
    "# num_subs = 323\n",
    "# files = ['betas_mj-cues','betas_ctl-cues','contrast_mj>ctl',\n",
    "#          'betas_mds_mj-cues','betas_mds_ctl-cues','contrast_mds_mj>ctl_contrast']\n",
    "# # if np.sum([os.path.isfile(f'{feat_mat_dir}/{file}.npz') for file in files]) == len(files):\n",
    "# #     print('All files exist.')\n",
    "# # else:\n",
    "#     # glm estimates & contrasts\n",
    "# betas_mj  = np.zeros((num_subs*2, num_parcels))\n",
    "# betas_ctl = np.zeros((num_subs*2, num_parcels))\n",
    "# contrast  = np.zeros((num_subs*2, num_parcels))\n",
    "\n",
    "# # pw distances between estimates\n",
    "# betas_mj_mds  = np.zeros((num_subs*2, vector_size))\n",
    "# betas_ctl_mds = np.zeros((num_subs*2, vector_size))\n",
    "# contrast_mds  = np.zeros((num_subs*2, vector_size))\n",
    "\n",
    "# labels_ = np.repeat(np.array(tt_df['label']),2)\n",
    "# run_ids_ = []\n",
    "# sub_ids = list(tt_df['subject'])\n",
    "# for s, sub in enumerate(np.repeat(sub_ids, 2)): \n",
    "#     if s % 2: run_ids_.append(sub + '_run2')\n",
    "#     else: run_ids_.append(sub + '_run1')\n",
    "\n",
    "\n",
    "# for s, sub_id in enumerate(sub_ids):\n",
    "\n",
    "#     clear_output(wait=True)\n",
    "#     print(f'{np.round((s+1)/ num_subs*100, 3)}% complete')\n",
    "\n",
    "#     beta_means = pd.read_csv(f'{data_dir}/beta_parcellations/{sub_id}_beta_parcellation.tsv',sep=\"\\t\").T\n",
    "\n",
    "#     betas_mj[2*s,:]       = beta_means.loc[:,0].values # run 1\n",
    "#     betas_mj[2*s+1,:]     = beta_means.loc[:,5].values # run 2\n",
    "#     betas_mj_mds[2*s,:]   = make_mean_distance_ut_vec(betas_mj[2*s,:])\n",
    "#     betas_mj_mds[2*s+1,:] = make_mean_distance_ut_vec(betas_mj[2*s+1,:])\n",
    "\n",
    "#     betas_ctl[2*s,:]       = beta_means.loc[:,2].values \n",
    "#     betas_ctl[2*s+1,:]     = beta_means.loc[:,7].values\n",
    "#     betas_ctl_mds[2*s,:]   = make_mean_distance_ut_vec(betas_ctl[2*s,:])\n",
    "#     betas_ctl_mds[2*s+1,:] = make_mean_distance_ut_vec(betas_ctl[2*s+1,:])\n",
    "\n",
    "#     contrast[2*s,:]       = betas_mj[2*s,:] - betas_ctl[2*s,:]\n",
    "#     contrast[2*s+1,:]     = betas_mj[2*s+1,:] - betas_ctl[2*s+1,:]\n",
    "#     contrast_mds[2*s,:]   = make_mean_distance_ut_vec(contrast[2*s,:])\n",
    "#     contrast_mds[2*s+1,:] = make_mean_distance_ut_vec(contrast[2*s+1,:])        \n",
    "\n",
    "\n",
    "# ## save\n",
    "# outfile = f'{featmat_dir}/betas_mj-cues'\n",
    "# np.savez(outfile, X=betas_mj, labels=labels_, run_ids=run_ids_)\n",
    "# outfile = f'{featmat_dir}/betas_mds_mj-cues'\n",
    "# np.savez(outfile, X=betas_mj_mds, labels=labels_, run_ids=run_ids_)\n",
    "\n",
    "# outfile = f'{featmat_dir}/betas_ctl-cues'\n",
    "# np.savez(outfile, X=betas_ctl, labels=labels_, run_ids=run_ids_)\n",
    "# outfile = f'{featmat_dir}/betas_mds_ctl-cues'\n",
    "# np.savez(outfile, X=betas_ctl_mds, labels=labels_, run_ids=run_ids_)\n",
    "\n",
    "# outfile = f'{featmat_dir}/contrast_mj>ctl'\n",
    "# np.savez(outfile, X=contrast, labels=labels_, run_ids=run_ids_)\n",
    "# outfile = f'{featmat_dir}/contrast_mds_mj>ctl_contrast'\n",
    "# np.savez(outfile, X=contrast_mds, labels=labels_, run_ids=run_ids_)"
   ]
  },
  {
   "cell_type": "markdown",
   "metadata": {},
   "source": [
    "### Train/test split & chance "
   ]
  },
  {
   "cell_type": "code",
   "execution_count": 4,
   "metadata": {},
   "outputs": [
    {
     "name": "stdout",
     "output_type": "stream",
     "text": [
      "290.0 total subs\n",
      "166.0 MJ subs total\n",
      "80.0 % train\n",
      "55.17 % MJ test\n",
      "\n",
      "Chance levels:\n",
      "most_frequent acc:\t55.17%\n",
      "prior acc:\t55.17%\n",
      "stratified acc:\t50.0%\n",
      "uniform acc:\t56.03%\n"
     ]
    }
   ],
   "source": [
    "### get data\n",
    "infile   = np.load(f'{out_dir}/functional_connectivity.npz')\n",
    "y        = infile['labels'][include_runs]\n",
    "X        = infile['fcs'][include_runs]\n",
    "\n",
    "site_demeaned = True\n",
    "if site_demeaned:\n",
    "    # might want to only demean with the training average\n",
    "    for runs_ in [mrn_runs, meg_runs]:\n",
    "        X[runs_] = X[runs_] - np.mean(X[runs_ & training_runs]) # training mean \n",
    "\n",
    "# split\n",
    "X_train, X_test = X[training_runs], X[testing_runs]\n",
    "y_train, y_test = y[training_runs], y[testing_runs]\n",
    "\n",
    "print((np.sum(training_runs) + np.sum(testing_runs))/2, 'total subs')\n",
    "print((np.sum(y_test == 1) + np.sum(y_train == 1))/2, 'MJ subs total')\n",
    "print(np.round(np.sum(training_runs)/np.sum(include_runs) * 100, 2), '% train')\n",
    "print(np.round(np.sum(y_test == 1)/len(y_test) * 100, 2), '% MJ test')\n",
    "\n",
    "### define chance\n",
    "\n",
    "print('\\nChance levels:')\n",
    "dummies = ['most_frequent', 'prior', 'stratified', 'uniform'] # most_frequent is most conservative chance level for testing set\n",
    "for dummy in dummies:\n",
    "    dummy_clf = DummyClassifier(strategy=dummy)\n",
    "    dummy_clf.fit(X_train, y_train)\n",
    "    dummy_acc = dummy_clf.score(X_test, y_test)\n",
    "    print(f'{dummy} acc:\\t{np.round(dummy_acc*100, 2)}%')\n",
    "\n",
    "# permutation testing\n",
    "# perm_acc_dist = permutation_clf_cv(best_clf, X[training], y[training], num_folds=5, num_models=1000)\n",
    "# print(np.mean(perm_acc_dist))"
   ]
  },
  {
   "cell_type": "markdown",
   "metadata": {},
   "source": [
    "# 2. Training"
   ]
  },
  {
   "cell_type": "code",
   "execution_count": 5,
   "metadata": {},
   "outputs": [],
   "source": [
    "cv = 5\n",
    "train_mask = training_runs\n",
    "test_mask  = testing_runs"
   ]
  },
  {
   "cell_type": "markdown",
   "metadata": {},
   "source": [
    "### 2a. Hyperparameter search for connectivity-based models\n",
    "    Logistic regression + support vector machine grid search, over a range of hyperparameters"
   ]
  },
  {
   "cell_type": "code",
   "execution_count": 7,
   "metadata": {
    "tags": []
   },
   "outputs": [
    {
     "name": "stdout",
     "output_type": "stream",
     "text": [
      "Running GridSearchCV for SGDClassifier.\n",
      "Time to run SGDClassifier: 8.95091986656189 seconds  \n",
      "\n",
      "Done.\n"
     ]
    },
    {
     "data": {
      "text/html": [
       "<div>\n",
       "<style scoped>\n",
       "    .dataframe tbody tr th:only-of-type {\n",
       "        vertical-align: middle;\n",
       "    }\n",
       "\n",
       "    .dataframe tbody tr th {\n",
       "        vertical-align: top;\n",
       "    }\n",
       "\n",
       "    .dataframe thead th {\n",
       "        text-align: right;\n",
       "    }\n",
       "</style>\n",
       "<table border=\"1\" class=\"dataframe\">\n",
       "  <thead>\n",
       "    <tr style=\"text-align: right;\">\n",
       "      <th></th>\n",
       "      <th>hinge_l1</th>\n",
       "      <th>hinge_l2</th>\n",
       "      <th>log_l1</th>\n",
       "      <th>log_l2</th>\n",
       "    </tr>\n",
       "  </thead>\n",
       "  <tbody>\n",
       "    <tr>\n",
       "      <th>alpha</th>\n",
       "      <td>0.001</td>\n",
       "      <td>0.05</td>\n",
       "      <td>0.001</td>\n",
       "      <td>0.001</td>\n",
       "    </tr>\n",
       "  </tbody>\n",
       "</table>\n",
       "</div>"
      ],
      "text/plain": [
       "       hinge_l1  hinge_l2  log_l1  log_l2\n",
       "alpha     0.001      0.05   0.001   0.001"
      ]
     },
     "execution_count": 7,
     "metadata": {},
     "output_type": "execute_result"
    }
   ],
   "source": [
    "clf_grid   = {'SGDClassifier': SGDClassifier(random_state=random_state, max_iter=max_iter)}\n",
    "param_grid = {'SGDClassifier': {'loss': ['hinge', 'log'], 'penalty': ['l2', 'l1'], \n",
    "                                'alpha': [0.001, .05, 1, 5, 10]}}\n",
    "cl = ClassifierGridSearch(clf_grid, param_grid)\n",
    "cl.grid_search(X[train_mask], y[train_mask], cv=5)\n",
    "gs_results = pd.DataFrame(cl.grid_searches['SGDClassifier'].cv_results_)\n",
    "\n",
    "# out_name = f'{out_dir}/fcs_sgd_hyperparamter_training_test.xlsx'\n",
    "# gs_results.to_excel(out_name)\n",
    "\n",
    "alphas = pd.DataFrame(index=['alpha'], columns=['hinge_l1','hinge_l2','log_l1','log_l2'])\n",
    "for loss in ['hinge', 'log']:\n",
    "    for penalty in ['l1', 'l2']:\n",
    "        df = gs_results[(gs_results['param_loss'] == loss) & (gs_results['param_penalty'] == penalty)]\n",
    "        best_ix = np.where(df['rank_test_score'] == np.min(df['rank_test_score']))[0][0]\n",
    "        cv_acc  = df.iloc[best_ix]['mean_test_score']\n",
    "        alpha   = df.iloc[best_ix]['params']['alpha']\n",
    "        alphas[loss + '_' + penalty] = alpha\n",
    "alphas"
   ]
  },
  {
   "cell_type": "markdown",
   "metadata": {},
   "source": [
    "### 2b. Hyperparameter search for activation-based models"
   ]
  },
  {
   "cell_type": "code",
   "execution_count": 8,
   "metadata": {
    "jupyter": {
     "source_hidden": true
    },
    "tags": []
   },
   "outputs": [],
   "source": [
    "# def plot_permutation_dist(perm_acc_dist, obs_acc):\n",
    "#     '''\n",
    "#     '''\n",
    "#     dp = sns.distplot(perm_acc_dist, kde=True) \n",
    "#     dp.axvline(obs_acc, 0, .95, color='black') # for p-value\n",
    "#     plt.title('Permuted Distribution', fontsize=15)\n",
    "#     plt.xlabel('Accuracy')\n",
    "#     plt.show()\n",
    "\n",
    "#     # directional hypothesis...\n",
    "#     pval = get_perm_pval(obs_acc, perm_acc_dist, test='greater')\n",
    "#     if obs_acc > np.median(perm_acc_dist) and pval <.05: \n",
    "#         pval /= 2\n",
    "#     print('Mean accuracy =', np.round(np.mean(perm_acc_dist), 4))\n",
    "#     print('P-value =', np.round(pval, 4))\n",
    "\n",
    "# cv = 10\n",
    "# n_perm = 1000\n",
    "# distance_metrics = ['betas_mj-cues','betas_ctl-cues','contrast_mj>ctl',\n",
    "# 'betas_mds_mj-cues','betas_mds_ctl-cues','contrast_mds_mj>ctl_contrast']\n",
    "\n",
    "# for distance_metric in distance_metrics: \n",
    "    \n",
    "#     infile = np.load(f'{featmat_dir}/'+distance_metric+'.npz')\n",
    "#     y        = infile['labels'][include_runs]\n",
    "#     X        = infile['X'][include_runs]\n",
    "#     training = np.repeat(tt_df['training'][include_subs] == 1.0, 2)\n",
    "#     testing  = np.repeat(tt_df['training'][include_subs] == 0.0, 2)\n",
    "    \n",
    "#     # get the best clf from gridsearch\n",
    "#     cl = ClassifierGridSearch(clf_grid, param_grid)\n",
    "#     cl.grid_search(X[training], y[training], cv=cv)\n",
    "#     gs_results = pd.DataFrame(cl.grid_searches['SGDClassifier'].cv_results_)\n",
    "#     out_name = f'{out_dir}/' + distance_metric + '_sgd_hyperparamter_training.xlsx'\n",
    "#     gs_results.to_excel(out_name)\n",
    "    \n",
    "#     best_ix = np.where(gs_results['rank_test_score'] == 1)[0][0] # just take first one\n",
    "#     cv_acc = gs_results.iloc[best_ix]['mean_test_score']\n",
    "#     params = gs_results.iloc[best_ix]['params']\n",
    "#     best_clf = SGDClassifier(random_state=random_state, max_iter=max_iter,\n",
    "#                              penalty = params['penalty'],\n",
    "#                              alpha = params['alpha'],\n",
    "#                              loss = params['loss'])\n",
    "\n",
    "#     # permutation testing\n",
    "#     perm_acc_dist = permutation_clf_cv(best_clf, X[training], y[training], num_folds=cv, num_models=n_perm)\n",
    "#     perm_accs_df = pd.DataFrame(perm_acc_dist)\n",
    "#     perm_accs_df.to_csv(out_dir + '/Permuted_'+ distance_metric +'clf_accuracies.csv')\n",
    "#     print(f'accuracy={np.round(cv_acc,4)}')\n",
    "#     plot_permutation_dist(perm_acc_dist, cv_acc)\n"
   ]
  },
  {
   "cell_type": "markdown",
   "metadata": {},
   "source": [
    "# 3. Testing\n",
    "\n",
    "    The ClassifierPipeline class runs k-fold cv and then refits to full training set "
   ]
  },
  {
   "cell_type": "markdown",
   "metadata": {},
   "source": [
    "### 3a. Retrain models on full training sample\n",
    "    Use parameters that gave best basic performance in CV gridsearch\n",
    "    ClassifierPipeline runs k-fold CV, then re-fits & outputs model trained on whole training"
   ]
  },
  {
   "cell_type": "code",
   "execution_count": 14,
   "metadata": {},
   "outputs": [
    {
     "name": "stdout",
     "output_type": "stream",
     "text": [
      "124 HCs\n",
      "166 MJs\n",
      "Running L1_logistic classification\n",
      "5-fold cross-validated accuracy: 70.03%\n",
      "[0.70967742 0.67741935 0.6344086  0.83870968 0.64130435]\n",
      "\n",
      "Running L2_logistic classification\n",
      "5-fold cross-validated accuracy: 73.904%\n",
      "[0.76344086 0.74193548 0.70967742 0.82795699 0.65217391]\n",
      "\n",
      "Running L1_LinearSVC classification\n",
      "5-fold cross-validated accuracy: 71.321%\n",
      "[0.67741935 0.66666667 0.74193548 0.83870968 0.64130435]\n",
      "\n",
      "Running L2_LinearSVC classification\n",
      "5-fold cross-validated accuracy: 72.613%\n",
      "[0.75268817 0.68817204 0.72043011 0.8172043  0.65217391]\n",
      "\n"
     ]
    },
    {
     "data": {
      "image/png": "[encoded data removed]",
      "text/plain": [
       "<Figure size 2016x360 with 4 Axes>"
      ]
     },
     "metadata": {
      "needs_background": "light"
     },
     "output_type": "display_data"
    }
   ],
   "source": [
    "max_iter     = 100000\n",
    "random_state = 1\n",
    "classifiers  = {\n",
    "                'L1_logistic': SGDClassifier(loss='log', penalty='l1', alpha=alphas['log_l1'].values[0],\n",
    "                                            random_state=random_state, max_iter=max_iter),\n",
    "                'L2_logistic': SGDClassifier(loss='log', penalty='l2', alpha=alphas['log_l2'].values[0],\n",
    "                                            random_state=random_state, max_iter=max_iter),\n",
    "                'L1_LinearSVC': SGDClassifier(loss='hinge', penalty='l1', alpha=alphas['hinge_l1'].values[0],\n",
    "                                            random_state=random_state, max_iter=max_iter),        \n",
    "                'L2_LinearSVC': SGDClassifier(loss='hinge', penalty='l2', alpha=alphas['hinge_l2'].values[0],\n",
    "                                            random_state=random_state, max_iter=max_iter)\n",
    "                }\n",
    "                \n",
    "cl = ClassifierPipeline(classifiers)\n",
    "cl.fit(X[train_mask], y[train_mask], numfolds=cv)\n",
    "\n",
    "if site_demeaned:\n",
    "    pickle_file(classifiers, decoding_dir + '/Model_weights-site_demeaned.pkl') \n",
    "else: \n",
    "    pickle_file(classifiers, decoding_dir + '/Model_weights.pkl') \n"
   ]
  },
  {
   "cell_type": "markdown",
   "metadata": {},
   "source": [
    "#### LOO"
   ]
  },
  {
   "cell_type": "code",
   "execution_count": 132,
   "metadata": {
    "jupyter": {
     "source_hidden": true
    },
    "tags": []
   },
   "outputs": [],
   "source": [
    "# clf = SGDClassifier(loss='hinge', penalty='l2',\n",
    "#                     random_state=1, \n",
    "#                     max_iter=1000, \n",
    "#                     alpha=alphas['hinge_l2'].values[0]) \n",
    "\n",
    "# from sklearn.model_selection import LeaveOneOut\n",
    "# loo = LeaveOneOut()\n",
    "# train_subs   = np.arange(len(X_train)/2) \n",
    "# loo_accuracy = np.zeros(len(train_subs))\n",
    "# train_sub_ixs = np.repeat(train_subs, 2)\n",
    "# for o, (_, leftout) in enumerate(loo.split(train_subs)):\n",
    "#     out_ixs = np.where(train_sub_ixs == leftout)[0] # get run ixs for sub\n",
    "#     in_ixs  = np.where(train_sub_ixs != leftout)[0] \n",
    "#     clf.fit(X_train[in_ixs], y_train[in_ixs])\n",
    "#     loo_accuracy[o] = clf.score(X_train[out_ixs], y_train[out_ixs])\n",
    "# np.mean(loo_accuracy)"
   ]
  },
  {
   "cell_type": "markdown",
   "metadata": {},
   "source": [
    "### 3c. Test out-of-sample"
   ]
  },
  {
   "cell_type": "code",
   "execution_count": 15,
   "metadata": {},
   "outputs": [
    {
     "name": "stdout",
     "output_type": "stream",
     "text": [
      "test n=58.0\n"
     ]
    },
    {
     "data": {
      "text/html": [
       "<div>\n",
       "<style scoped>\n",
       "    .dataframe tbody tr th:only-of-type {\n",
       "        vertical-align: middle;\n",
       "    }\n",
       "\n",
       "    .dataframe tbody tr th {\n",
       "        vertical-align: top;\n",
       "    }\n",
       "\n",
       "    .dataframe thead th {\n",
       "        text-align: right;\n",
       "    }\n",
       "</style>\n",
       "<table border=\"1\" class=\"dataframe\">\n",
       "  <thead>\n",
       "    <tr style=\"text-align: right;\">\n",
       "      <th></th>\n",
       "      <th>Clf</th>\n",
       "      <th>Acc</th>\n",
       "      <th>Balanced Acc</th>\n",
       "      <th>AUC</th>\n",
       "      <th>HC precision</th>\n",
       "      <th>MJ precision</th>\n",
       "      <th>HC recall</th>\n",
       "      <th>MJ recall</th>\n",
       "    </tr>\n",
       "  </thead>\n",
       "  <tbody>\n",
       "    <tr>\n",
       "      <th>0</th>\n",
       "      <td>L1_logistic</td>\n",
       "      <td>0.758621</td>\n",
       "      <td>0.746995</td>\n",
       "      <td>0.835938</td>\n",
       "      <td>0.785714</td>\n",
       "      <td>0.743243</td>\n",
       "      <td>0.634615</td>\n",
       "      <td>0.859375</td>\n",
       "    </tr>\n",
       "    <tr>\n",
       "      <th>1</th>\n",
       "      <td>L2_logistic</td>\n",
       "      <td>0.775862</td>\n",
       "      <td>0.773438</td>\n",
       "      <td>0.814603</td>\n",
       "      <td>0.75</td>\n",
       "      <td>0.796875</td>\n",
       "      <td>0.75</td>\n",
       "      <td>0.796875</td>\n",
       "    </tr>\n",
       "    <tr>\n",
       "      <th>2</th>\n",
       "      <td>L1_LinearSVC</td>\n",
       "      <td>0.784483</td>\n",
       "      <td>0.777644</td>\n",
       "      <td>0.853666</td>\n",
       "      <td>0.787234</td>\n",
       "      <td>0.782609</td>\n",
       "      <td>0.711538</td>\n",
       "      <td>0.84375</td>\n",
       "    </tr>\n",
       "    <tr>\n",
       "      <th>3</th>\n",
       "      <td>L2_LinearSVC</td>\n",
       "      <td>0.793103</td>\n",
       "      <td>0.792668</td>\n",
       "      <td>0.839844</td>\n",
       "      <td>0.759259</td>\n",
       "      <td>0.822581</td>\n",
       "      <td>0.788462</td>\n",
       "      <td>0.796875</td>\n",
       "    </tr>\n",
       "  </tbody>\n",
       "</table>\n",
       "</div>"
      ],
      "text/plain": [
       "            Clf       Acc Balanced Acc       AUC HC precision MJ precision  \\\n",
       "0   L1_logistic  0.758621     0.746995  0.835938     0.785714     0.743243   \n",
       "1   L2_logistic  0.775862     0.773438  0.814603         0.75     0.796875   \n",
       "2  L1_LinearSVC  0.784483     0.777644  0.853666     0.787234     0.782609   \n",
       "3  L2_LinearSVC  0.793103     0.792668  0.839844     0.759259     0.822581   \n",
       "\n",
       "  HC recall MJ recall  \n",
       "0  0.634615  0.859375  \n",
       "1      0.75  0.796875  \n",
       "2  0.711538   0.84375  \n",
       "3  0.788462  0.796875  "
      ]
     },
     "metadata": {},
     "output_type": "display_data"
    },
    {
     "data": {
      "text/html": [
       "<div>\n",
       "<style scoped>\n",
       "    .dataframe tbody tr th:only-of-type {\n",
       "        vertical-align: middle;\n",
       "    }\n",
       "\n",
       "    .dataframe tbody tr th {\n",
       "        vertical-align: top;\n",
       "    }\n",
       "\n",
       "    .dataframe thead th {\n",
       "        text-align: right;\n",
       "    }\n",
       "</style>\n",
       "<table border=\"1\" class=\"dataframe\">\n",
       "  <thead>\n",
       "    <tr style=\"text-align: right;\">\n",
       "      <th></th>\n",
       "      <th>Clf</th>\n",
       "      <th>Sub-Acc</th>\n",
       "      <th>Sub-Balanced Acc</th>\n",
       "      <th>Sub-AUC</th>\n",
       "      <th>Sub-HC precision</th>\n",
       "      <th>Sub-MJ precision</th>\n",
       "      <th>Sub-HC recall</th>\n",
       "      <th>Sub-MJ recall</th>\n",
       "    </tr>\n",
       "  </thead>\n",
       "  <tbody>\n",
       "    <tr>\n",
       "      <th>0</th>\n",
       "      <td>L1_logistic</td>\n",
       "      <td>0.758621</td>\n",
       "      <td>0.752404</td>\n",
       "      <td>0.835938</td>\n",
       "      <td>0.75</td>\n",
       "      <td>0.764706</td>\n",
       "      <td>0.692308</td>\n",
       "      <td>0.8125</td>\n",
       "    </tr>\n",
       "    <tr>\n",
       "      <th>1</th>\n",
       "      <td>L2_logistic</td>\n",
       "      <td>0.810345</td>\n",
       "      <td>0.80649</td>\n",
       "      <td>0.823317</td>\n",
       "      <td>0.8</td>\n",
       "      <td>0.818182</td>\n",
       "      <td>0.769231</td>\n",
       "      <td>0.84375</td>\n",
       "    </tr>\n",
       "    <tr>\n",
       "      <th>2</th>\n",
       "      <td>L1_LinearSVC</td>\n",
       "      <td>0.844828</td>\n",
       "      <td>0.834135</td>\n",
       "      <td>0.884615</td>\n",
       "      <td>0.904762</td>\n",
       "      <td>0.810811</td>\n",
       "      <td>0.730769</td>\n",
       "      <td>0.9375</td>\n",
       "    </tr>\n",
       "    <tr>\n",
       "      <th>3</th>\n",
       "      <td>L2_LinearSVC</td>\n",
       "      <td>0.793103</td>\n",
       "      <td>0.794471</td>\n",
       "      <td>0.853365</td>\n",
       "      <td>0.75</td>\n",
       "      <td>0.833333</td>\n",
       "      <td>0.807692</td>\n",
       "      <td>0.78125</td>\n",
       "    </tr>\n",
       "  </tbody>\n",
       "</table>\n",
       "</div>"
      ],
      "text/plain": [
       "            Clf   Sub-Acc Sub-Balanced Acc   Sub-AUC Sub-HC precision  \\\n",
       "0   L1_logistic  0.758621         0.752404  0.835938             0.75   \n",
       "1   L2_logistic  0.810345          0.80649  0.823317              0.8   \n",
       "2  L1_LinearSVC  0.844828         0.834135  0.884615         0.904762   \n",
       "3  L2_LinearSVC  0.793103         0.794471  0.853365             0.75   \n",
       "\n",
       "  Sub-MJ precision Sub-HC recall Sub-MJ recall  \n",
       "0         0.764706      0.692308        0.8125  \n",
       "1         0.818182      0.769231       0.84375  \n",
       "2         0.810811      0.730769        0.9375  \n",
       "3         0.833333      0.807692       0.78125  "
      ]
     },
     "metadata": {},
     "output_type": "display_data"
    }
   ],
   "source": [
    "# print(f'\\t\\t\\tAccuracy\\tAUC\\tPrecision HC\\tRecall HC\\tPrecision MJ\\tRecall MJ')\n",
    "\n",
    "print(f'test n={np.sum(test_mask)/2}')\n",
    "y_test = y[test_mask]\n",
    "X_test = X[test_mask]\n",
    "X_test_sub = (X_test[0::2] + X_test[1::2])/2\n",
    "\n",
    "# mrn_bool = mrn_subs & testing_runs[0::2]\n",
    "# meg_bool = meg_subs & testing_runs[0::2]\n",
    "# print(f'MRN testing n={np.sum(mrn_bool)}')\n",
    "# print(f'MEG testing n={np.sum(meg_bool)}')\n",
    "\n",
    "weights = np.zeros((len(cl.classifier_dict), 4005))\n",
    "preds   = np.zeros((len(cl.classifier_dict), len(X_test)))\n",
    "run_results_df = pd.DataFrame(columns=['Clf', 'Acc', 'Balanced Acc', 'AUC', 'HC precision', 'MJ precision', 'HC recall', 'MJ recall'])\n",
    "sub_results_df = pd.DataFrame(columns=['Clf', 'Sub-Acc', 'Sub-Balanced Acc', 'Sub-AUC', 'Sub-HC precision', 'Sub-MJ precision', 'Sub-HC recall', 'Sub-MJ recall'])\n",
    "\n",
    "for c, (clf_name, clf) in enumerate(classifiers.items()):\n",
    "\n",
    "    weights[c,:] = clf.coef_\n",
    "    preds[c,:]   = clf.predict(X_test)\n",
    "\n",
    "    # run & sub level acc \n",
    "    run_acc = clf.score(X_test, y_test)\n",
    "    sub_preds = (np.array([list(np.dot(fc, clf.coef_[0]) + clf.intercept_) for fc in X_test_sub]) > 0) * 1\n",
    "    sub_acc = accuracy_score(y_test[0::2], sub_preds)\n",
    "\n",
    "    # AUC etc \n",
    "    if 'SVC' in clf_name:\n",
    "        clf = CalibratedClassifierCV(clf, cv=cv, method='sigmoid', ensemble=False)\n",
    "        clf.fit(X[train_mask], y[train_mask])\n",
    "\n",
    "    fpr, tpr, thresholds = roc_curve(y_test, clf.predict_proba(X_test)[:,1], pos_label=1)\n",
    "    run_auc = auc(fpr, tpr)\n",
    "    run_precision, run_recall, _, _ = precision_recall_fscore_support(y_test, preds[c,:], average=None)\n",
    "\n",
    "    fpr, tpr, thresholds = roc_curve(y_test[0::2], clf.predict_proba(X_test_sub)[:,1], pos_label=1)\n",
    "    sub_auc = auc(fpr, tpr)\n",
    "    sub_precision, sub_recall, _, _ = precision_recall_fscore_support(y_test[0::2], sub_preds, average=None)\n",
    "\n",
    "    # # check acc, AUC by sample\n",
    "    # preds_accs = sub_preds.flatten() == y_test[0::2]\n",
    "    # for sample, bool_ in {'MEG': meg_bool, 'MRN': mrn_bool}.items():\n",
    "    #     sample_acc = np.sum(preds_accs & bool_.values)/np.sum(bool_)\n",
    "    #     fpr, tpr, thresholds = roc_curve(y_test[0::2][bool_], clf.predict_proba(X_test_sub)[:,1][bool_], pos_label=1)\n",
    "    #     sample_auc = auc(fpr, tpr)\n",
    "    #     print(clf_name, sample, 'accuracy=', np.round(sample_acc,3), 'AUC=', np.round(sample_auc,3))\n",
    "\n",
    "    run_results_df.loc[c,:] = [clf_name, run_acc, np.mean(run_recall), run_auc] + list(run_precision) + list(run_recall)\n",
    "    sub_results_df.loc[c,:] = [clf_name, sub_acc, np.mean(sub_recall), sub_auc] + list(sub_precision) + list(sub_recall)\n",
    "\n",
    "    # plot_roc_curve(clf, X_test, y_test, alpha=1, lw=1)\n",
    "    # print(f'{clf_name}:\\t{np.round(test_acc[c] * 100, 2)}%\\t\\t{np.round(aucs[c], 3)}\\t{np.round(precision[c,0], 3)}\\t\\t{np.round(recall[c,0], 3)}\\t\\t{np.round(precision[c,1], 3)}\\t\\t{np.round(recall[c,1], 3)}')\n",
    "\n",
    "display(run_results_df)\n",
    "display(sub_results_df)"
   ]
  },
  {
   "cell_type": "markdown",
   "metadata": {},
   "source": []
  },
  {
   "cell_type": "markdown",
   "metadata": {},
   "source": [
    "### 3d. Compare to permutation test"
   ]
  },
  {
   "cell_type": "code",
   "execution_count": 12,
   "metadata": {
    "jupyter": {
     "source_hidden": true
    },
    "tags": []
   },
   "outputs": [],
   "source": [
    "# n_perms = 1000\n",
    "# accs = np.zeros((n_perms, 4))\n",
    "# aucs = np.zeros((n_perms, 4))\n",
    "# for c, (clf_name, clf) in enumerate(classifiers.items()):\n",
    "#     for n in range(0, n_perms):\n",
    "        \n",
    "#         # train on shuffled\n",
    "#         y_train_ = y_train.copy()\n",
    "#         random.shuffle(y_train_)\n",
    "#         clf.fit(X_train, y_train_)\n",
    "        \n",
    "#         # test on real\n",
    "#         accs[n,c] = clf.score(X_test, y_test) * 100\n",
    "#         # preds = clf.predict(X_test)\n",
    "#         # fpr, tpr, thresholds = roc_curve(y_test, preds, pos_label=1)\n",
    "#         # aucs[n,c] = auc(fpr, tpr)\n",
    "\n",
    "# accs_df = pd.DataFrame(accs, columns=[clf_name for clf_name, _ in classifiers.items()])\n",
    "# accs_df.to_excel(decoding_dir + '/Classifier_permutation_testing_accs.xlsx')\n",
    "# print('mean permutation accs:', np.mean(accs, axis=0))\n",
    "# aucs_df = pd.DataFrame(aucs, columns=[clf_name for clf_name, _ in classifiers.items()])\n",
    "# aucs_df.to_excel(decoding_dir + '/Classifier_permutation_testing_aucs.xlsx')"
   ]
  },
  {
   "cell_type": "markdown",
   "metadata": {},
   "source": [
    "#### Does prediction get better the more extreme the user?\n",
    "Yes but idk how to use in paper since just a small number of subjects in 0 and 1 category"
   ]
  },
  {
   "cell_type": "code",
   "execution_count": 18,
   "metadata": {},
   "outputs": [],
   "source": [
    "# # symptom counts\n",
    "# symptom_types = ['abuse_lifetime', 'abuse_lifetime_symptom_count',\n",
    "#                 'dependence_lifetime', 'dependence_lifetime_symptom_count',                   \n",
    "#                 'abuse_current', 'abuse_current_symptom_count',\n",
    "#                 'dependence_current', 'dependence_current_symptom_count']\n",
    "# test_df = full_df[full_df['sub_id'].isin(test_subs)]\n",
    "# symptom_counts = np.sum(test_df[test_df['group'] == 1][symptom_types], axis=1).values\n",
    "\n",
    "# # predictions for mj users\n",
    "# cc_preds      = preds[3,:][y_test == 1]\n",
    "# cc_preds_sums = cc_preds[0::2] + cc_preds[1::2]\n",
    "\n",
    "# # combine\n",
    "# cc_preds_sums_x_symptoms = pd.DataFrame(list(zip(cc_preds_sums,symptom_counts)),\n",
    "#                                        columns=['corrects', 'symptoms'])"
   ]
  },
  {
   "cell_type": "code",
   "execution_count": 19,
   "metadata": {},
   "outputs": [],
   "source": [
    "# print(cc_preds_sums_x_symptoms.groupby(['corrects'])['symptoms'].sum())\n",
    "# print(cc_preds_sums_x_symptoms.groupby(['corrects'])['symptoms'].mean())"
   ]
  },
  {
   "cell_type": "markdown",
   "metadata": {},
   "source": [
    "# 4. Model comparison\n",
    "    The 4 final models are highly similar in terms of the model weights and predictions"
   ]
  },
  {
   "cell_type": "markdown",
   "metadata": {},
   "source": [
    "### 4a. Weight rank similarity"
   ]
  },
  {
   "cell_type": "code",
   "execution_count": null,
   "metadata": {},
   "outputs": [],
   "source": [
    "clf_names = [clf_name for clf_name,_ in classifiers.items()]\n",
    "combos = list(combinations([0,1,2,3], 2))\n",
    "for combo in combos:\n",
    "    coef, pval = scipy.stats.kendalltau(weights[combo[0]], weights[combo[1]])\n",
    "    print(clf_names[combo[0]], '&', clf_names[combo[1]], np.round(coef,3))"
   ]
  },
  {
   "cell_type": "markdown",
   "metadata": {},
   "source": [
    "### 4b. Prediction similarity"
   ]
  },
  {
   "cell_type": "code",
   "execution_count": null,
   "metadata": {},
   "outputs": [],
   "source": [
    "# get predictions into matrix\n",
    "pred_matrix = np.zeros((len(X_test), len(cl.classifier_dict)+2))\n",
    "for c, (cname, classifier) in enumerate(cl.classifier_dict.items()):\n",
    "    pred_matrix[:,c] = classifier.predict(X_test)\n",
    "pred_matrix[:,c+1] = np.mean(pred_matrix[:,1:-2],1) # ensemble average \n",
    "pred_matrix[:,c+2] = (pred_matrix[:,c+1] > .49).astype(int) # ensemble prediction (>=.50)\n",
    "pred_matrix = np.vstack([y_test, pred_matrix.T]).T # add true labels\n",
    "sorted_ind = np.argsort(pred_matrix[:,0]) # sort by label\n",
    "\n",
    "# plot\n",
    "plt.figure(figsize=(5*len(pred_matrix[1,:]), 5))\n",
    "y_tick_labels = ['True Labels'] + list(cl.classifier_dict.keys()) + ['Ensemble Average'] + ['Ensemble Prediction']\n",
    "# sns.heatmap(pred_matrix.T[:,sorted_ind], yticklabels=y_tick_labels, xticklabels=np.array(names)[training==0][sorted_ind],\n",
    "sns.heatmap(pred_matrix.T[:,sorted_ind], yticklabels=y_tick_labels,\n",
    "            cmap='Blues', linewidths=.25, linecolor='black', cbar=False)\n",
    "plt.yticks(rotation=60, fontsize = 8)\n",
    "plt.show()"
   ]
  },
  {
   "cell_type": "code",
   "execution_count": null,
   "metadata": {},
   "outputs": [],
   "source": [
    "combos = list(combinations([1,2,3,4], 2))\n",
    "for combo in combos:\n",
    "    j = jaccard_score(pred_matrix.T[combo[0],sorted_ind], pred_matrix.T[combo[1],sorted_ind])\n",
    "    print(y_tick_labels[combo[0]], '&', y_tick_labels[combo[1]], np.round(j,2))"
   ]
  },
  {
   "cell_type": "markdown",
   "metadata": {},
   "source": [
    "### 4c. Visualize the weighted connectivity, i.e. \"predictive connectivity\"\n",
    "\n",
    "    The absolute value of the elementwise product of the subject specific correlation values and the model weights"
   ]
  },
  {
   "cell_type": "code",
   "execution_count": null,
   "metadata": {},
   "outputs": [],
   "source": [
    "with open(f'{decoding_dir}/Model_weights.pkl', 'rb') as f:\n",
    "    models = pickle.load(f)"
   ]
  },
  {
   "cell_type": "code",
   "execution_count": null,
   "metadata": {},
   "outputs": [],
   "source": [
    "fc          = ut_vec_to_symm_mat(X_train[15]) # random sub\n",
    "weights     = ut_vec_to_symm_mat(models['L1_LinearSVC'].coef_[0]) # which model? 3 = l2 svc\n",
    "weighted_fc = fc * weights\n",
    "\n",
    "fig_dict = {\n",
    "    'Functional connectivity': fc,\n",
    "    'Model weights': weights,\n",
    "    'Weighted connectivity': weighted_fc,\n",
    "}\n",
    "color_dict = {\n",
    "    'Functional connectivity': 'RdPu', \n",
    "    'Model weights': 'Purples',\n",
    "    'Weighted connectivity': 'puRd'\n",
    "}\n",
    "\n",
    "for title, matrix in fig_dict.items():\n",
    "    fig = go.Figure(layout=dict(\n",
    "            title_font_size=40,\n",
    "            title=title, \n",
    "            height=600, width=600, margin=dict(t=120,l=120,b=120),\n",
    "            template='none'))\n",
    "    if title == 'Weighted connectivity':\n",
    "        fig.add_trace(go.Heatmap(\n",
    "           z=np.abs(matrix),\n",
    "           colorscale=color_dict[title],\n",
    "           zmin=0, zmax=5))\n",
    "    else:\n",
    "        fig.add_trace(go.Heatmap(\n",
    "           z=np.abs(matrix),\n",
    "           colorscale=color_dict[title]))\n",
    "    fig.show()\n",
    "#     fig.write_image(fig_dir + '/' + title + '_' + color_dict[title] + '.svg')"
   ]
  },
  {
   "cell_type": "code",
   "execution_count": null,
   "metadata": {},
   "outputs": [],
   "source": [
    "# output_dir   = analysis_dir + '/n308'\n",
    "# decoding_dir = output_dir + '/decoding'\n",
    "# decoding_fig_dir = decoding_dir + '/figs'\n",
    "# with open(f'{decoding_dir}/Model_weights.pkl', 'rb') as f:\n",
    "#     models = pickle.load(f)\n",
    "    \n",
    "# sub_df = pd.read_excel(output_dir + \"/sub_splits.xlsx\")\n",
    "\n",
    "# # fc\n",
    "# infile = np.load(f'{feat_mat_dir}/functional_connectivity.npz')\n",
    "# y = infile['labels']\n",
    "# fcs = infile['fcs']\n",
    "\n",
    "# incl_mask = np.repeat(np.isfinite(sub_df['training']), 2)\n",
    "# fcs = fcs[incl_mask]\n",
    "# run_ids = infile['run_ids'][incl_mask]"
   ]
  },
  {
   "cell_type": "code",
   "execution_count": null,
   "metadata": {},
   "outputs": [],
   "source": [
    "sub_weighted_conn = dict()\n",
    "for name, model in models.items():\n",
    "    weights = model.coef_[0]\n",
    "    wc = np.zeros((fcs.shape[0], vector_size))\n",
    "    for i, fc in enumerate(fcs):\n",
    "        wc[i,:] = np.abs(np.multiply(weights, fc)) \n",
    "    sub_weighted_conn[name] = wc"
   ]
  },
  {
   "cell_type": "code",
   "execution_count": null,
   "metadata": {},
   "outputs": [],
   "source": [
    "selected_ind = np.hstack([np.arange(2), np.arange(70,90)])\n",
    "all_models_wfc = []\n",
    "\n",
    "for ix, (name, model) in enumerate(models.items()):\n",
    "    \n",
    "    ## CALCULATE MEAN WEIGHTED CONNECTIVITY\n",
    "    # 1. Generate subject specific weighted connectivity\n",
    "    # 2. Take absolute value of subject weighted connectivity as measure of importance\n",
    "    # 3. Average importance across parcels in each subject\n",
    "    \n",
    "    weights = model.coef_[0]\n",
    "    wfc = np.zeros((fcs.shape[0], num_parcels))\n",
    "    for i, fc in enumerate(fcs):\n",
    "        wfc[i,:] = np.mean(np.abs(convert_upper_mat(np.multiply(weights, fc))),1)\n",
    "    all_models_wfc.append(np.mean(wfc, 0))\n",
    "    \n",
    "    # Sort by highest mean weight\n",
    "    sorted_ind = np.argsort(np.mean(wfc, 0))\n",
    "    regional_wfc = pd.DataFrame(np.concatenate((np.array(run_ids).reshape(-1,1), wfc[:,sorted_ind]), axis=1),\n",
    "                            columns=['run_id'] + list(parcel_descrip[sorted_ind]))\n",
    "    regional_wfc.to_excel(decoding_dir + '/' + name + '_weighted_func_conn.xlsx')\n",
    "    \n",
    "    sortselect_ind = sorted_ind[selected_ind]\n",
    "    ## ERRORBAR PLOTTING\n",
    "    mean_sorted_wfc = np.mean(wfc[:,sorted_ind],0)\n",
    "    std_sorted_wfc  = np.std(wfc[:,sorted_ind],0)\n",
    "    \n",
    "    # Only plot L2 SVC\n",
    "    if name == 'L2_LinearSVC':\n",
    "        \n",
    "        print(parcel_names[sorted_ind])\n",
    "\n",
    "        fig = go.Figure(layout=dict(\n",
    "            font_family='Arial',\n",
    "            height=500, width=800,\n",
    "            template='ggplot2',\n",
    "            title=f'<b>{name}</b>',\n",
    "            xaxis=dict(\n",
    "                title=dict(text='<b>Brain Region</b>'),\n",
    "                tickvals=np.arange(len(selected_ind)),\n",
    "                ticktext=parcel_descrip[sorted_ind][selected_ind],\n",
    "                tickangle=45),\n",
    "            yaxis=dict(title=dict(text='<b>Weighted Connectivity</b>'))\n",
    "        ))\n",
    "        # Plot violin plot for each selected parcel\n",
    "        for i, values in enumerate(wfc[:,sortselect_ind].T):\n",
    "            fig.add_trace(go.Violin(\n",
    "                x=np.repeat([i], len(values)), y=values, \n",
    "                name=parcel_names[sortselect_ind][i], line_color=network_rgba[sortselect_ind][i],\n",
    "                box_visible=True, showlegend=False\n",
    "            ))\n",
    "        fig.show()\n",
    "        fig.write_image(f'{decoding_fig_dir}/L2_LinearSVC_region_wfc.svg')"
   ]
  },
  {
   "cell_type": "code",
   "execution_count": null,
   "metadata": {},
   "outputs": [],
   "source": [
    "# Calculate weighted Kendall's tau between all models to show similarities between region ranks\n",
    "\n",
    "similarities = np.zeros((4,4))\n",
    "model_names = list(models.keys())\n",
    "for i, elem in enumerate(all_models_wfc):\n",
    "    for j, elem2 in enumerate(all_models_wfc):\n",
    "        tau, _ = stats.weightedtau(elem, elem2)\n",
    "        similarities[i,j] = tau\n",
    "#         print(f'{alg_names[i]} x {alg_names[j]}:\\t{tau}')\n",
    "\n",
    "# plot\n",
    "fig = go.Figure(layout=dict(title='Model Similarities',\n",
    "        height=400, width=400,template='none'))\n",
    "fig.add_trace(go.Heatmap(z=similarities, zmin=0, zmax=1))\n",
    "fig.show()"
   ]
  },
  {
   "cell_type": "markdown",
   "metadata": {},
   "source": [
    "## Visualize ACC to whole-brain weighted connectivity in top model"
   ]
  },
  {
   "cell_type": "code",
   "execution_count": null,
   "metadata": {},
   "outputs": [],
   "source": [
    "model_name = 'L2_LinearSVC'\n",
    "parcel_name = 'ant_sal_3'\n",
    "chosen_parcel_ind  = np.where(parcel_names==parcel_name)[0][0]\n",
    "chosen_parcel_conn = dict()\n",
    "\n",
    "# Generate subject-specific parcel connectivity\n",
    "wc = sub_weighted_conn[model_name]\n",
    "parcel_conns = np.zeros((wc.shape[0], num_parcels))\n",
    "for i, sub_wc in enumerate(wc):\n",
    "    parcel_conns[i, :] = convert_upper_mat(sub_wc)[chosen_parcel_ind, :]\n",
    "chosen_parcel_conn[model_name] = parcel_conns\n",
    "\n",
    "fig, ax = plt.subplots(figsize=(20,6), nrows=1, ncols=1)\n",
    "v = chosen_parcel_conn[model_name]\n",
    "for j, parcel_conns in enumerate(v.T):\n",
    "    ax.scatter(np.repeat(j, parcel_conns.shape[0]), parcel_conns, alpha=0.005, \n",
    "                        color=scalarMap.to_rgba(network_colors[j]), cmap=cmap)\n",
    "    ax.errorbar(x=j, y=np.mean(parcel_conns), yerr=np.std(parcel_conns), fmt='-o', \n",
    "                        c=scalarMap.to_rgba(network_colors[j]))\n",
    "ax.set_title(model_name)\n",
    "ax.set_xticks(np.arange(num_parcels))\n",
    "ax.set_xticklabels(parcel_names, rotation=45)\n",
    "sns.despine()\n",
    "plt.savefig(decoding_fig_dir + '/' + model_name + '_ACC_wc.png')"
   ]
  },
  {
   "cell_type": "code",
   "execution_count": null,
   "metadata": {},
   "outputs": [],
   "source": []
  }
 ],
 "metadata": {
  "kernelspec": {
   "display_name": "Python 3",
   "language": "python",
   "name": "python3"
  },
  "language_info": {
   "codemirror_mode": {
    "name": "ipython",
    "version": 3
   },
   "file_extension": ".py",
   "mimetype": "text/x-python",
   "name": "python",
   "nbconvert_exporter": "python",
   "pygments_lexer": "ipython3",
   "version": "3.7.3"
  },
  "vscode": {
   "interpreter": {
    "hash": "9e14d279c25841efd625eeb69b773763618eab456effddfeda0a14c7e31df3c5"
   }
  }
 },
 "nbformat": 4,
 "nbformat_minor": 4
}
